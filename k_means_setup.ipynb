{
 "cells": [
  {
   "cell_type": "markdown",
   "id": "f06f5263",
   "metadata": {},
   "source": [
    "# Unsupervised K-Means Clustering Analysis"
   ]
  },
  {
   "cell_type": "code",
   "execution_count": 26,
   "id": "29797afa",
   "metadata": {},
   "outputs": [
    {
     "name": "stdout",
     "output_type": "stream",
     "text": [
      "cuda\n"
     ]
    }
   ],
   "source": [
    "import pandas as pd\n",
    "import torch\n",
    "import numpy as np\n",
    "from sklearn.cluster import KMeans \n",
    "import random\n",
    "import km_model as km\n",
    "from sklearn.metrics import silhouette_score\n",
    "from sklearn.preprocessing import StandardScaler\n",
    "import matplotlib.pyplot as plt\n",
    "\n",
    "NUM_SEQUENCES_PER_BATCH = 1024\n",
    "\n",
    "device = torch.device(\"cuda\" if torch.cuda.is_available() else \"cpu\")\n",
    "print(device)"
   ]
  },
  {
   "cell_type": "code",
   "execution_count": 8,
   "id": "1be44175",
   "metadata": {},
   "outputs": [],
   "source": [
    "# Load the pre-trained model\n",
    "embedder = km.Embedder('all-MiniLM-L6-v2', device=device)"
   ]
  },
  {
   "cell_type": "code",
   "execution_count": 9,
   "id": "caad757a",
   "metadata": {},
   "outputs": [
    {
     "data": {
      "text/html": [
       "<div>\n",
       "<style scoped>\n",
       "    .dataframe tbody tr th:only-of-type {\n",
       "        vertical-align: middle;\n",
       "    }\n",
       "\n",
       "    .dataframe tbody tr th {\n",
       "        vertical-align: top;\n",
       "    }\n",
       "\n",
       "    .dataframe thead th {\n",
       "        text-align: right;\n",
       "    }\n",
       "</style>\n",
       "<table border=\"1\" class=\"dataframe\">\n",
       "  <thead>\n",
       "    <tr style=\"text-align: right;\">\n",
       "      <th></th>\n",
       "      <th>title</th>\n",
       "      <th>artist</th>\n",
       "      <th>song</th>\n",
       "      <th>similar_lyrics</th>\n",
       "      <th>similar_track</th>\n",
       "      <th>similar_artist</th>\n",
       "    </tr>\n",
       "  </thead>\n",
       "  <tbody>\n",
       "    <tr>\n",
       "      <th>0</th>\n",
       "      <td>Cuéntale</td>\n",
       "      <td>Ivy Queen</td>\n",
       "      <td>Cuéntale by Ivy Queen</td>\n",
       "      <td>4 ContributorsDile LyricsQuien te va a querer ...</td>\n",
       "      <td>Dile</td>\n",
       "      <td>Ivy Queen</td>\n",
       "    </tr>\n",
       "    <tr>\n",
       "      <th>1</th>\n",
       "      <td>Cuéntale</td>\n",
       "      <td>Ivy Queen</td>\n",
       "      <td>Cuéntale by Ivy Queen</td>\n",
       "      <td>3 ContributorsCansada LyricsWelcome to the dra...</td>\n",
       "      <td>Cansada</td>\n",
       "      <td>Ivy Queen</td>\n",
       "    </tr>\n",
       "    <tr>\n",
       "      <th>2</th>\n",
       "      <td>Cuéntale</td>\n",
       "      <td>Ivy Queen</td>\n",
       "      <td>Cuéntale by Ivy Queen</td>\n",
       "      <td>11 ContributorsTranslationsEnglishDeutschElla ...</td>\n",
       "      <td>Ella Me Levantó</td>\n",
       "      <td>Daddy Yankee</td>\n",
       "    </tr>\n",
       "    <tr>\n",
       "      <th>3</th>\n",
       "      <td>Cuéntale</td>\n",
       "      <td>Ivy Queen</td>\n",
       "      <td>Cuéntale by Ivy Queen</td>\n",
       "      <td>12 ContributorsDale Don Dale Lyrics[Letra de \"...</td>\n",
       "      <td>Dale Don Dale</td>\n",
       "      <td>Don Omar</td>\n",
       "    </tr>\n",
       "    <tr>\n",
       "      <th>4</th>\n",
       "      <td>Cuéntale</td>\n",
       "      <td>Ivy Queen</td>\n",
       "      <td>Cuéntale by Ivy Queen</td>\n",
       "      <td>8 ContributorsSexy Robótica Lyrics[Letra de \"S...</td>\n",
       "      <td>Sexy Robotica</td>\n",
       "      <td>Don Omar</td>\n",
       "    </tr>\n",
       "  </tbody>\n",
       "</table>\n",
       "</div>"
      ],
      "text/plain": [
       "      title     artist                   song  \\\n",
       "0  Cuéntale  Ivy Queen  Cuéntale by Ivy Queen   \n",
       "1  Cuéntale  Ivy Queen  Cuéntale by Ivy Queen   \n",
       "2  Cuéntale  Ivy Queen  Cuéntale by Ivy Queen   \n",
       "3  Cuéntale  Ivy Queen  Cuéntale by Ivy Queen   \n",
       "4  Cuéntale  Ivy Queen  Cuéntale by Ivy Queen   \n",
       "\n",
       "                                      similar_lyrics    similar_track  \\\n",
       "0  4 ContributorsDile LyricsQuien te va a querer ...             Dile   \n",
       "1  3 ContributorsCansada LyricsWelcome to the dra...          Cansada   \n",
       "2  11 ContributorsTranslationsEnglishDeutschElla ...  Ella Me Levantó   \n",
       "3  12 ContributorsDale Don Dale Lyrics[Letra de \"...    Dale Don Dale   \n",
       "4  8 ContributorsSexy Robótica Lyrics[Letra de \"S...    Sexy Robotica   \n",
       "\n",
       "  similar_artist  \n",
       "0      Ivy Queen  \n",
       "1      Ivy Queen  \n",
       "2   Daddy Yankee  \n",
       "3       Don Omar  \n",
       "4       Don Omar  "
      ]
     },
     "execution_count": 9,
     "metadata": {},
     "output_type": "execute_result"
    }
   ],
   "source": [
    "#load the data, tuples\n",
    "similar_song_lyrics = pd.read_csv(\"data/kat_data_similar_songs.csv\") \n",
    "similar_song_lyrics.head()"
   ]
  },
  {
   "cell_type": "code",
   "execution_count": 10,
   "id": "5384ca60",
   "metadata": {},
   "outputs": [],
   "source": [
    "#Grab the lyrics and the corresponding similar song title\n",
    "lyrics, similar_song_title = similar_song_lyrics[\"similar_lyrics\"].tolist(), similar_song_lyrics[\"song\"].tolist()\n",
    "processed_lyrics = []\n",
    "for lyric in lyrics:\n",
    "    processed_lyrics.append(km.preprocess_sentence(lyric))"
   ]
  },
  {
   "cell_type": "code",
   "execution_count": 11,
   "id": "5ac75e5c",
   "metadata": {},
   "outputs": [],
   "source": [
    "# Grab the embeddings for the lyrics\n",
    "embeddings = embedder(processed_lyrics, batch_size=NUM_SEQUENCES_PER_BATCH).cpu().numpy()"
   ]
  },
  {
   "cell_type": "markdown",
   "id": "6878b50a",
   "metadata": {},
   "source": [
    "## Evaluation of the Model with 10 Clusters: Similarity or Dissimilarity to Fire Burning by Sean Kingstonm"
   ]
  },
  {
   "cell_type": "code",
   "execution_count": 16,
   "id": "7fb6a9fb",
   "metadata": {},
   "outputs": [
    {
     "name": "stdout",
     "output_type": "stream",
     "text": [
      "Silhouette Score: 0.021556487\n"
     ]
    }
   ],
   "source": [
    "# Scale the data\n",
    "scaler = StandardScaler()\n",
    "X_scaled = scaler.fit_transform(embeddings)\n",
    "\n",
    "# Initialize and fit the KMeans model\n",
    "kmeans = KMeans(n_clusters=10, init='k-means++', max_iter=300, n_init=10, random_state=42)\n",
    "kmeans.fit(X_scaled)\n",
    "\n",
    "# Retrieve the clustering results\n",
    "labels = kmeans.labels_\n",
    "centers = kmeans.cluster_centers_\n",
    "#print(\"Cluster Labels:\", labels)\n",
    "#print(\"Cluster Centers (scaled):\", centers)\n",
    "\n",
    "# Calculate silhouette score\n",
    "score = silhouette_score(X_scaled, labels)\n",
    "print(\"Silhouette Score:\", score)"
   ]
  },
  {
   "cell_type": "markdown",
   "id": "d59750d7",
   "metadata": {},
   "source": [
    "Labels that are not similar to: Fire Burning by Sean Kingston <br>\n",
    "* 252 -  'Honey' by Kehlani\n",
    "* 11 - 505 by Arctic Monkeys\n",
    "* 13 - 8TEEN by Khalid\n",
    "* 21 - American Requiem by Beyonce\n",
    "\n",
    "Labels somewhat similar to : Fire Burning by Sean Kingston <br>\n",
    "* 336 - Low  by Flo Rida\n",
    "* 431 - Promiscuous\n",
    "* 294 - Just Dance"
   ]
  },
  {
   "cell_type": "code",
   "execution_count": 20,
   "id": "fab93311",
   "metadata": {},
   "outputs": [
    {
     "name": "stdout",
     "output_type": "stream",
     "text": [
      "Song: Low by Flo Rida, Cluster: 6\n",
      "Song: Promiscuous by Nelly Furtado, Cluster: 6\n",
      "Song: Honey by Kehlani, Cluster: 4\n"
     ]
    }
   ],
   "source": [
    "potential_indices = [336, 431, 252]\n",
    "name_indices = [\"Low by Flo Rida\", \"Promiscuous by Nelly Furtado\", \"Honey by Kehlani\"]\n",
    "\n",
    "clusters = km.get_assigned_clusters(potential_indices, labels)\n",
    "\n",
    "for i, cluster in enumerate(clusters):\n",
    "    print(f\"Song: {name_indices[i]}, Cluster: {cluster}\")"
   ]
  },
  {
   "cell_type": "markdown",
   "id": "1d1fbe51",
   "metadata": {},
   "source": [
    "## Evaluation of the Model with 2 Clusters: Separation of English vs Spanish Songs"
   ]
  },
  {
   "cell_type": "code",
   "execution_count": 21,
   "id": "24995c5f",
   "metadata": {},
   "outputs": [
    {
     "name": "stdout",
     "output_type": "stream",
     "text": [
      "Silhouette Score: 0.16780578\n"
     ]
    }
   ],
   "source": [
    "# Scale the data\n",
    "scaler = StandardScaler()\n",
    "X_scaled = scaler.fit_transform(embeddings)\n",
    "\n",
    "# Initialize and fit the KMeans model\n",
    "kmeans = KMeans(n_clusters=2, init='k-means++', max_iter=300, n_init=10, random_state=42)\n",
    "kmeans.fit(X_scaled)\n",
    "\n",
    "# Retrieve the clustering results\n",
    "labels = kmeans.labels_\n",
    "centers = kmeans.cluster_centers_\n",
    "#print(\"Cluster Labels:\", labels)\n",
    "#print(\"Cluster Centers (scaled):\", centers)\n",
    "\n",
    "# Calculate silhouette score\n",
    "score = silhouette_score(X_scaled, labels)\n",
    "print(\"Silhouette Score:\", score)"
   ]
  },
  {
   "cell_type": "code",
   "execution_count": 23,
   "id": "c2e8c390",
   "metadata": {},
   "outputs": [
    {
     "name": "stdout",
     "output_type": "stream",
     "text": [
      "English Songs:\n",
      "Estoy Enamorado by Omega\n",
      "Body Aint Me by Pink Sweat$\n",
      "Easier by 5 Seconds of Summer\n",
      "Lamb's Wool by Foster The People\n",
      "HONEY (ARE U COMING?) by Måneskin\n",
      "\n",
      "Spanish Songs:\n",
      "Yo Voy (feat. Daddy Yankee) by Zion & Lennox\n",
      "Mayor Que Yo by Wisin & Yandel\n",
      "777-666 by Matuê\n",
      "A Tu Merced by Bad Bunny\n",
      "Doncella by Zion & Lennox\n"
     ]
    }
   ],
   "source": [
    "english_songs = km.select_random_samples_by_cluster(similar_song_lyrics, labels, 0, 5)\n",
    "spanish_songs = km.select_random_samples_by_cluster(similar_song_lyrics, labels, 1, 5)\n",
    "\n",
    "print(\"English Songs:\")\n",
    "for song in english_songs:\n",
    "    print(song)\n",
    "print(\"\\nSpanish Songs:\")\n",
    "for song in spanish_songs:\n",
    "    print(song)"
   ]
  },
  {
   "cell_type": "markdown",
   "id": "b420cf98",
   "metadata": {},
   "source": [
    "## Principal Component Analysis (PCA)"
   ]
  },
  {
   "cell_type": "markdown",
   "id": "a990063c",
   "metadata": {},
   "source": [
    "We decided to implement a Dimensionality Reduction technique with the goal to improve the clustering step. Unfortunately, we needed around $\\sim 250$ dimensions from the 384 embedding size of the encoder to recapitulate 95% of the variance. Therefore, we decided to not apply it to our clustering process. "
   ]
  },
  {
   "cell_type": "code",
   "execution_count": 33,
   "id": "f4fd1543",
   "metadata": {},
   "outputs": [],
   "source": [
    "from sklearn.decomposition import PCA\n",
    "\n",
    "pca = PCA(n_components=250)\n",
    "X_reduced = pca.fit_transform(X_scaled)"
   ]
  },
  {
   "cell_type": "code",
   "execution_count": 34,
   "id": "14b00e3d",
   "metadata": {},
   "outputs": [
    {
     "data": {
      "image/png": "[encoded data removed]",
      "text/plain": [
       "<Figure size 800x500 with 1 Axes>"
      ]
     },
     "metadata": {},
     "output_type": "display_data"
    }
   ],
   "source": [
    "# Compute the cumulative variance explained\n",
    "cumulative_variance = np.cumsum(pca.explained_variance_ratio_) * 100\n",
    "\n",
    "plt.figure(figsize=(8, 5))\n",
    "plt.plot(range(1, 250 + 1), cumulative_variance, marker='o')\n",
    "plt.xlabel(\"Number of Principal Components\")\n",
    "plt.ylabel(\"Cumulative Explained Variance (%)\")\n",
    "plt.title(\"Explained Variance by Principal Components\")\n",
    "plt.grid(True)\n",
    "plt.show()"
   ]
  }
 ],
 "metadata": {
  "kernelspec": {
   "display_name": "Python 3",
   "language": "python",
   "name": "python3"
  },
  "language_info": {
   "codemirror_mode": {
    "name": "ipython",
    "version": 3
   },
   "file_extension": ".py",
   "mimetype": "text/x-python",
   "name": "python",
   "nbconvert_exporter": "python",
   "pygments_lexer": "ipython3",
   "version": "3.12.9"
  }
 },
 "nbformat": 4,
 "nbformat_minor": 5
}
