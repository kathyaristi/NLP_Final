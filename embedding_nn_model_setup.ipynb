{
 "cells": [
  {
   "cell_type": "code",
   "execution_count": 1,
   "id": "50efa414",
   "metadata": {},
   "outputs": [],
   "source": [
    "import pandas as pd\n",
    "from sentence_transformers import SentenceTransformer\n",
    "import model_utils as mu\n",
    "from gensim.models import Word2Vec\n",
    "import numpy as np\n",
    "import torch\n",
    "import torch.nn as nn\n",
    "from tqdm.autonotebook import tqdm\n",
    "\n",
    "EMBEDDINGS_SIZE = 50\n",
    "NUM_SEQUENCES_PER_BATCH = 128\n",
    "\n",
    "# Load the pre-trained model\n",
    "model = SentenceTransformer('all-MiniLM-L6-v2')\n"
   ]
  },
  {
   "cell_type": "code",
   "execution_count": 2,
   "id": "43457e57",
   "metadata": {},
   "outputs": [
    {
     "data": {
      "text/html": [
       "<div>\n",
       "<style scoped>\n",
       "    .dataframe tbody tr th:only-of-type {\n",
       "        vertical-align: middle;\n",
       "    }\n",
       "\n",
       "    .dataframe tbody tr th {\n",
       "        vertical-align: top;\n",
       "    }\n",
       "\n",
       "    .dataframe thead th {\n",
       "        text-align: right;\n",
       "    }\n",
       "</style>\n",
       "<table border=\"1\" class=\"dataframe\">\n",
       "  <thead>\n",
       "    <tr style=\"text-align: right;\">\n",
       "      <th></th>\n",
       "      <th>title</th>\n",
       "      <th>tag</th>\n",
       "      <th>artist</th>\n",
       "      <th>year</th>\n",
       "      <th>views</th>\n",
       "      <th>features</th>\n",
       "      <th>lyrics</th>\n",
       "      <th>id</th>\n",
       "      <th>song</th>\n",
       "      <th>similar_title</th>\n",
       "      <th>similar_artist</th>\n",
       "      <th>similar_song</th>\n",
       "    </tr>\n",
       "  </thead>\n",
       "  <tbody>\n",
       "    <tr>\n",
       "      <th>0</th>\n",
       "      <td>Killa Cam</td>\n",
       "      <td>rap</td>\n",
       "      <td>Cam'ron</td>\n",
       "      <td>2004</td>\n",
       "      <td>173166</td>\n",
       "      <td>{\"Cam\\\\'ron\",\"Opera Steve\"}</td>\n",
       "      <td>[Chorus: Opera Steve &amp; Cam'ron]\\nKilla Cam, Ki...</td>\n",
       "      <td>1</td>\n",
       "      <td>Killa Cam by Cam'ron</td>\n",
       "      <td>Bubble Music</td>\n",
       "      <td>Cam'ron</td>\n",
       "      <td>Bubble Music by Cam'ron</td>\n",
       "    </tr>\n",
       "    <tr>\n",
       "      <th>1</th>\n",
       "      <td>Killa Cam</td>\n",
       "      <td>rap</td>\n",
       "      <td>Cam'ron</td>\n",
       "      <td>2004</td>\n",
       "      <td>173166</td>\n",
       "      <td>{\"Cam\\\\'ron\",\"Opera Steve\"}</td>\n",
       "      <td>[Chorus: Opera Steve &amp; Cam'ron]\\nKilla Cam, Ki...</td>\n",
       "      <td>1</td>\n",
       "      <td>Killa Cam by Cam'ron</td>\n",
       "      <td>Get Down</td>\n",
       "      <td>Cam'ron</td>\n",
       "      <td>Get Down by Cam'ron</td>\n",
       "    </tr>\n",
       "    <tr>\n",
       "      <th>2</th>\n",
       "      <td>Killa Cam</td>\n",
       "      <td>rap</td>\n",
       "      <td>Cam'ron</td>\n",
       "      <td>2004</td>\n",
       "      <td>173166</td>\n",
       "      <td>{\"Cam\\\\'ron\",\"Opera Steve\"}</td>\n",
       "      <td>[Chorus: Opera Steve &amp; Cam'ron]\\nKilla Cam, Ki...</td>\n",
       "      <td>1</td>\n",
       "      <td>Killa Cam by Cam'ron</td>\n",
       "      <td>The King</td>\n",
       "      <td>Jim Jones</td>\n",
       "      <td>The King by Jim Jones</td>\n",
       "    </tr>\n",
       "    <tr>\n",
       "      <th>3</th>\n",
       "      <td>Killa Cam</td>\n",
       "      <td>rap</td>\n",
       "      <td>Cam'ron</td>\n",
       "      <td>2004</td>\n",
       "      <td>173166</td>\n",
       "      <td>{\"Cam\\\\'ron\",\"Opera Steve\"}</td>\n",
       "      <td>[Chorus: Opera Steve &amp; Cam'ron]\\nKilla Cam, Ki...</td>\n",
       "      <td>1</td>\n",
       "      <td>Killa Cam by Cam'ron</td>\n",
       "      <td>freestyle</td>\n",
       "      <td>The Diplomats</td>\n",
       "      <td>freestyle by The Diplomats</td>\n",
       "    </tr>\n",
       "    <tr>\n",
       "      <th>4</th>\n",
       "      <td>Killa Cam</td>\n",
       "      <td>rap</td>\n",
       "      <td>Cam'ron</td>\n",
       "      <td>2004</td>\n",
       "      <td>173166</td>\n",
       "      <td>{\"Cam\\\\'ron\",\"Opera Steve\"}</td>\n",
       "      <td>[Chorus: Opera Steve &amp; Cam'ron]\\nKilla Cam, Ki...</td>\n",
       "      <td>1</td>\n",
       "      <td>Killa Cam by Cam'ron</td>\n",
       "      <td>Santana the great</td>\n",
       "      <td>The Diplomats</td>\n",
       "      <td>Santana the great by The Diplomats</td>\n",
       "    </tr>\n",
       "  </tbody>\n",
       "</table>\n",
       "</div>"
      ],
      "text/plain": [
       "       title  tag   artist  year   views                     features  \\\n",
       "0  Killa Cam  rap  Cam'ron  2004  173166  {\"Cam\\\\'ron\",\"Opera Steve\"}   \n",
       "1  Killa Cam  rap  Cam'ron  2004  173166  {\"Cam\\\\'ron\",\"Opera Steve\"}   \n",
       "2  Killa Cam  rap  Cam'ron  2004  173166  {\"Cam\\\\'ron\",\"Opera Steve\"}   \n",
       "3  Killa Cam  rap  Cam'ron  2004  173166  {\"Cam\\\\'ron\",\"Opera Steve\"}   \n",
       "4  Killa Cam  rap  Cam'ron  2004  173166  {\"Cam\\\\'ron\",\"Opera Steve\"}   \n",
       "\n",
       "                                              lyrics  id  \\\n",
       "0  [Chorus: Opera Steve & Cam'ron]\\nKilla Cam, Ki...   1   \n",
       "1  [Chorus: Opera Steve & Cam'ron]\\nKilla Cam, Ki...   1   \n",
       "2  [Chorus: Opera Steve & Cam'ron]\\nKilla Cam, Ki...   1   \n",
       "3  [Chorus: Opera Steve & Cam'ron]\\nKilla Cam, Ki...   1   \n",
       "4  [Chorus: Opera Steve & Cam'ron]\\nKilla Cam, Ki...   1   \n",
       "\n",
       "                   song      similar_title similar_artist  \\\n",
       "0  Killa Cam by Cam'ron       Bubble Music        Cam'ron   \n",
       "1  Killa Cam by Cam'ron           Get Down        Cam'ron   \n",
       "2  Killa Cam by Cam'ron           The King      Jim Jones   \n",
       "3  Killa Cam by Cam'ron          freestyle  The Diplomats   \n",
       "4  Killa Cam by Cam'ron  Santana the great  The Diplomats   \n",
       "\n",
       "                         similar_song  \n",
       "0             Bubble Music by Cam'ron  \n",
       "1                 Get Down by Cam'ron  \n",
       "2               The King by Jim Jones  \n",
       "3          freestyle by The Diplomats  \n",
       "4  Santana the great by The Diplomats  "
      ]
     },
     "execution_count": 2,
     "metadata": {},
     "output_type": "execute_result"
    }
   ],
   "source": [
    "#load sentences\n",
    "similar_song_lyrics= pd.read_csv(\"data/processed_data.csv\") \n",
    "\n",
    "similar_song_lyrics.head()\n"
   ]
  },
  {
   "cell_type": "code",
   "execution_count": 3,
   "id": "bdb36d50",
   "metadata": {},
   "outputs": [],
   "source": [
    "lyrics, song_title = similar_song_lyrics[\"lyrics\"].tolist(), similar_song_lyrics[\"similar_title\"].tolist()\n",
    "processed_lyrics = []\n",
    "for lyric in lyrics:\n",
    "    processed_lyrics.append(mu.preprocess_sentence(lyric))"
   ]
  },
  {
   "cell_type": "code",
   "execution_count": 4,
   "id": "febe97fd",
   "metadata": {},
   "outputs": [],
   "source": [
    "#Create word embeddings \n",
    "embeddings = model.encode(processed_lyrics, batch_size=NUM_SEQUENCES_PER_BATCH, convert_to_tensor=True)\n"
   ]
  },
  {
   "cell_type": "code",
   "execution_count": 5,
   "id": "05aae8c7",
   "metadata": {},
   "outputs": [
    {
     "data": {
      "text/plain": [
       "tensor([[-0.0408, -0.0494, -0.0330,  ..., -0.0270, -0.0302, -0.0979],\n",
       "        [-0.0408, -0.0494, -0.0330,  ..., -0.0270, -0.0302, -0.0979],\n",
       "        [-0.0408, -0.0494, -0.0330,  ..., -0.0270, -0.0302, -0.0979],\n",
       "        [-0.0408, -0.0494, -0.0330,  ..., -0.0270, -0.0302, -0.0979],\n",
       "        [-0.0408, -0.0494, -0.0330,  ..., -0.0270, -0.0302, -0.0979]],\n",
       "       device='mps:0')"
      ]
     },
     "execution_count": 5,
     "metadata": {},
     "output_type": "execute_result"
    }
   ],
   "source": [
    "embeddings[:5]"
   ]
  },
  {
   "cell_type": "code",
   "execution_count": 6,
   "id": "e7cca663",
   "metadata": {},
   "outputs": [
    {
     "name": "stdout",
     "output_type": "stream",
     "text": [
      "637\n",
      "torch.Size([637, 384])\n"
     ]
    }
   ],
   "source": [
    "print(len(processed_lyrics))\n",
    "print(embeddings.shape)\n"
   ]
  },
  {
   "cell_type": "code",
   "execution_count": 7,
   "id": "7e7e913e",
   "metadata": {},
   "outputs": [],
   "source": [
    "from sklearn.preprocessing import LabelEncoder\n",
    "\n",
    "label_encoder = LabelEncoder()\n",
    "\n",
    "# Fit and transform the labels to integers\n",
    "y_encoded = label_encoder.fit_transform(song_title)\n",
    "\n",
    "# Convert to a PyTorch tensor\n",
    "y_tensor = torch.tensor(y_encoded, dtype=torch.long)"
   ]
  },
  {
   "cell_type": "code",
   "execution_count": 8,
   "id": "cfa5b11b",
   "metadata": {},
   "outputs": [],
   "source": [
    "#word_dataloader_train, word_dataloader_test = mu.create_dataloaders(embeddings, y_tensor, NUM_SEQUENCES_PER_BATCH)\n"
   ]
  },
  {
   "cell_type": "code",
   "execution_count": 9,
   "id": "425b8b19",
   "metadata": {},
   "outputs": [],
   "source": [
    "# 10 points\n",
    "\n",
    "class FFNN(nn.Module):\n",
    "    \"\"\"\n",
    "    A class representing our implementation of a Feed-Forward Neural Network.\n",
    "    You will need to implement two methods:\n",
    "        - A constructor to set up the architecture and hyperparameters of the model\n",
    "        - The forward pass\n",
    "    \"\"\"\n",
    "    \n",
    "    def __init__(self, vocab_size: int, embedding_size: int, hidden_units=128, device: str = \"mps\"):\n",
    "        \"\"\"\n",
    "        Initialize a new untrained model. \n",
    "        \n",
    "        You can change these parameters as you would like.\n",
    "        Once you get a working model, you are encouraged to\n",
    "        experiment with this constructor to improve performance.\n",
    "        \n",
    "        Params:\n",
    "            vocab_size: The number of words in the vocabulary\n",
    "            ngram: The value of N for training and prediction.\n",
    "            embedding_layer: The previously trained embedder. \n",
    "            hidden_units: The size of the hidden layer.\n",
    "        \"\"\"        \n",
    "        super().__init__()\n",
    "        # YOUR CODE HERE\n",
    "        # we recommend saving the parameters as instance variables\n",
    "        # so you can access them later as needed\n",
    "        # (in addition to anything else you need to do here)\n",
    "        \n",
    "\t\t# Saving parameters as instance variables\n",
    "        self.vocab_size = vocab_size\n",
    "        #self.ngram = ngram\n",
    "        self.hidden_units = hidden_units\n",
    "         # Embedding size\n",
    "\t\t# Save embedding size\n",
    "\n",
    "        #embedding_size = embedding_layer.embedding_dim\n",
    "        \n",
    "\t\t# Defining layers\n",
    "        self.flatten = nn.Flatten() # Useful later to flatten array of ngram-1 after embedding before passing it to the linear layer\n",
    "        self.linear_relu_stack = nn.Sequential(\n",
    "\t\t\tnn.Linear(in_features=embedding_size, out_features=hidden_units, bias=True),\n",
    "\t\t\tnn.ReLU(),\n",
    "\t\t\tnn.Linear(in_features=hidden_units, out_features=vocab_size, bias=True)\n",
    "\t\t)\n",
    "\n",
    "        self.to(device)\n",
    "        \n",
    "    def forward(self, X: list) -> torch.tensor:\n",
    "        \"\"\"\n",
    "        Compute the forward pass through the network.\n",
    "        This is not a prediction, and it should not apply softmax.\n",
    "\n",
    "        Params:\n",
    "            X: the input data\n",
    "\n",
    "        Returns:\n",
    "            The output of the model; i.e. its predictions.\n",
    "        \n",
    "        \"\"\"\n",
    "        # YOUR CODE HERE\n",
    "        flat_embedded = self.flatten(X)\n",
    "        logits = self.linear_relu_stack(flat_embedded)\n",
    "        return logits\n"
   ]
  },
  {
   "cell_type": "code",
   "execution_count": 10,
   "id": "51db96d1",
   "metadata": {},
   "outputs": [],
   "source": [
    "device = torch.device(\"mps\") if torch.backends.mps.is_available() else torch.device(\"cpu\")\n"
   ]
  },
  {
   "cell_type": "code",
   "execution_count": 11,
   "id": "469ce224",
   "metadata": {},
   "outputs": [],
   "source": [
    "# 10 points\n",
    "\n",
    "# Defining a training function that goes over every batch per epoch\n",
    "def train_one_epoch(dataloader, nn_model, optimizer, loss_fn):\n",
    "    epoch_loss = 0\n",
    "\n",
    "    for data in dataloader:\n",
    "        # Separating the input + label pair for each instance\n",
    "        inputs, labels = data\n",
    "        inputs, labels = inputs.to(device), labels.to(device)\n",
    "\n",
    "\t\t# Zeroing gradients for every batch\n",
    "        optimizer.zero_grad()\n",
    "        \n",
    "\t\t# Make predictions for this batch\n",
    "        outputs = nn_model(inputs)\n",
    "        \n",
    "\t\t# Compute loss and gradients\n",
    "        batch_loss = loss_fn(outputs, labels)\n",
    "        batch_loss.backward()\n",
    "        \n",
    "\t\t# Adjust learning weights\n",
    "        optimizer.step()\n",
    "        \n",
    "\t\t# Adding to epoch loss\n",
    "        epoch_loss += batch_loss.item() # Covert scalar tensor into floating-point\n",
    "\n",
    "    return epoch_loss\n",
    "\n",
    "# Defining a general training function that goes over all the epochs\n",
    "def train(dataloader, input_model, epochs: int = 1, lr: float = 0.001) -> None:\n",
    "    \"\"\"\n",
    "    Our model's training loop.\n",
    "    Print the cross entropy loss every epoch.\n",
    "    You should use the Adam optimizer instead of SGD.\n",
    "\n",
    "    When looking for documentation, try to stay on PyTorch's website.\n",
    "    This might be a good place to start: https://pytorch.org/tutorials/beginner/introyt/trainingyt.html \n",
    "    They should have plenty of tutorials, and we don't want you to get confused from other resources.\n",
    "\n",
    "    Params:\n",
    "        dataloader: The training dataloader\n",
    "        model: The model we wish to train\n",
    "        epochs: The number of epochs to train for\n",
    "        lr: Learning rate \n",
    "    \"\"\"\n",
    "    # YOUR CODE HERE\n",
    "    # you will need to initialize an optimizer and a loss function, which you should do\n",
    "    # before the training loop\n",
    "    \n",
    "    optimizer = torch.optim.Adam(input_model.parameters(), lr=lr) # Adam optimizer instead of SGD\n",
    "    loss_fn = torch.nn.CrossEntropyLoss() # Multinomial Cross Entropy Loss that applies log-softmax internally and computes the negative log likelihood\n",
    "    \n",
    "    n_batches = len(dataloader)\n",
    "    \n",
    "\t# Making sure gradient tracking is on before start training\n",
    "    input_model.train()\n",
    "    \n",
    "    for epoch in tqdm(range(epochs)):\n",
    "        epoch_loss = train_one_epoch(dataloader, input_model, optimizer, loss_fn)\n",
    "        avg_epoch_loss = epoch_loss/n_batches\n",
    "        print(f\"Epoch: {epoch}, Loss: {avg_epoch_loss}\\n\")\n",
    "\n",
    "    # print out the epoch number and the current average loss after each epoch\n",
    "    # you can use tqdm to print out a progress bar"
   ]
  },
  {
   "cell_type": "code",
   "execution_count": 12,
   "id": "8b4516f0",
   "metadata": {},
   "outputs": [
    {
     "data": {
      "text/plain": [
       "FFNN(\n",
       "  (flatten): Flatten(start_dim=1, end_dim=-1)\n",
       "  (linear_relu_stack): Sequential(\n",
       "    (0): Linear(in_features=384, out_features=128, bias=True)\n",
       "    (1): ReLU()\n",
       "    (2): Linear(in_features=128, out_features=637, bias=True)\n",
       "  )\n",
       ")"
      ]
     },
     "execution_count": 12,
     "metadata": {},
     "output_type": "execute_result"
    }
   ],
   "source": [
    "nn_model = FFNN(vocab_size=len(song_title) , embedding_size=384)\n",
    "nn_model.to(device)\n",
    "\n"
   ]
  },
  {
   "cell_type": "code",
   "execution_count": 13,
   "id": "ecf75a9b",
   "metadata": {},
   "outputs": [],
   "source": [
    "#train(word_dataloader_train, nn_model, epochs=5, lr=0.01)\n"
   ]
  },
  {
   "cell_type": "code",
   "execution_count": null,
   "id": "c1ba1dee",
   "metadata": {},
   "outputs": [],
   "source": [
    "# 3 points\n",
    "\n",
    "# make a function that does your full *training* pipeline\n",
    "# This is essentially pulling the pieces that you've done so far earlier in this \n",
    "# notebook into a single function that you can call to train your model\n",
    "\n",
    "def full_pipeline(x,y,\n",
    "                batch_size:int = NUM_SEQUENCES_PER_BATCH, hidden_units = 128, epochs = 1,\n",
    "                lr = 0.001, test_pct = 0.1\n",
    "                ) -> FFNN:\n",
    "    \"\"\"\n",
    "    Run the entire pipeline from loading embeddings to training.\n",
    "    You won't use the test set for anything.\n",
    "\n",
    "    Params:\n",
    "        data: The raw data to train on, parsed as a list of lists of tokens\n",
    "        word_embeddings_filename: The filename of the Word2Vec word embeddings\n",
    "        batch_size: The batch size to use\n",
    "        hidden_units: The number of hidden units to use\n",
    "        epochs: The number of epochs to train for\n",
    "        lr: The learning rate to use\n",
    "        test_pct: The proportion of samples to use in the test set.\n",
    "\n",
    "    Returns:\n",
    "        The trained model.\n",
    "    \"\"\"\n",
    "    # Loading embeddings\n",
    "    \n",
    "\t# Define vocab size from embedder\n",
    "    vocab_size = len(y)\n",
    "    \n",
    "\t# Prepare training samples\n",
    "    #X = torch.tensor(embeddings, dtype=torch.float32)\n",
    "\n",
    "    x_train, x_test, y_train, y_test = mu.split_dataset(embeddings, y)\n",
    "\n",
    "\t# Create training dataloader\n",
    "    dataloader_train, dataloader_test = mu.create_dataloaders(x_train, x_test, batch_size, test_pct, num_sequences_per_batch=NUM_SEQUENCES_PER_BATCH)\n",
    "\n",
    "\t# Create FFNN model\n",
    "    nn_model = FFNN(vocab_size=vocab_size, embedding_size=384, hidden_units=hidden_units)\n",
    "\n",
    "\t# Train our model\n",
    "    train(dataloader=dataloader_train, input_model=nn_model, epochs=epochs, lr=lr)\n",
    "\n",
    "    return model, dataloader_test"
   ]
  },
  {
   "cell_type": "code",
   "execution_count": 15,
   "id": "07974da3",
   "metadata": {},
   "outputs": [
    {
     "name": "stdout",
     "output_type": "stream",
     "text": [
      "torch.Size([637, 384])\n"
     ]
    }
   ],
   "source": [
    "print(embeddings.shape)  # Should be [num_samples, embedding_dim]\n"
   ]
  },
  {
   "cell_type": "code",
   "execution_count": 16,
   "id": "9beaf22e",
   "metadata": {},
   "outputs": [
    {
     "ename": "TypeError",
     "evalue": "create_dataloaders() missing 1 required positional argument: 'num_sequences_per_batch'",
     "output_type": "error",
     "traceback": [
      "\u001b[0;31m---------------------------------------------------------------------------\u001b[0m",
      "\u001b[0;31mTypeError\u001b[0m                                 Traceback (most recent call last)",
      "Cell \u001b[0;32mIn[16], line 1\u001b[0m\n\u001b[0;32m----> 1\u001b[0m base_word_model, test_dataloader \u001b[38;5;241m=\u001b[39m \u001b[43mfull_pipeline\u001b[49m\u001b[43m(\u001b[49m\u001b[43mx\u001b[49m\u001b[38;5;241;43m=\u001b[39;49m\u001b[43membeddings\u001b[49m\u001b[43m,\u001b[49m\u001b[43m \u001b[49m\u001b[43my\u001b[49m\u001b[38;5;241;43m=\u001b[39;49m\u001b[43my_tensor\u001b[49m\u001b[43m,\u001b[49m\u001b[43m \u001b[49m\u001b[43mepochs\u001b[49m\u001b[38;5;241;43m=\u001b[39;49m\u001b[38;5;241;43m200\u001b[39;49m\u001b[43m)\u001b[49m\n",
      "Cell \u001b[0;32mIn[14], line 38\u001b[0m, in \u001b[0;36mfull_pipeline\u001b[0;34m(x, y, batch_size, hidden_units, epochs, lr, test_pct)\u001b[0m\n\u001b[1;32m     35\u001b[0m     x_train, x_test, y_train, y_test \u001b[38;5;241m=\u001b[39m mu\u001b[38;5;241m.\u001b[39msplit_dataset(embeddings, y)\n\u001b[1;32m     37\u001b[0m \t\u001b[38;5;66;03m# Create training dataloader\u001b[39;00m\n\u001b[0;32m---> 38\u001b[0m     dataloader_train, dataloader_test \u001b[38;5;241m=\u001b[39m \u001b[43mmu\u001b[49m\u001b[38;5;241;43m.\u001b[39;49m\u001b[43mcreate_dataloaders\u001b[49m\u001b[43m(\u001b[49m\u001b[43mx_train\u001b[49m\u001b[43m,\u001b[49m\u001b[43m \u001b[49m\u001b[43mx_test\u001b[49m\u001b[43m,\u001b[49m\u001b[43m \u001b[49m\u001b[43mbatch_size\u001b[49m\u001b[43m,\u001b[49m\u001b[43m \u001b[49m\u001b[43mtest_pct\u001b[49m\u001b[43m)\u001b[49m\n\u001b[1;32m     40\u001b[0m \t\u001b[38;5;66;03m# Create FFNN model\u001b[39;00m\n\u001b[1;32m     41\u001b[0m     nn_model \u001b[38;5;241m=\u001b[39m FFNN(vocab_size\u001b[38;5;241m=\u001b[39mvocab_size, embedding_size\u001b[38;5;241m=\u001b[39m\u001b[38;5;241m384\u001b[39m, hidden_units\u001b[38;5;241m=\u001b[39mhidden_units)\n",
      "\u001b[0;31mTypeError\u001b[0m: create_dataloaders() missing 1 required positional argument: 'num_sequences_per_batch'"
     ]
    }
   ],
   "source": [
    "base_word_model, test_dataloader = full_pipeline(x=embeddings, y=y_tensor, epochs=200)\n"
   ]
  },
  {
   "cell_type": "code",
   "execution_count": null,
   "id": "fb947b50",
   "metadata": {},
   "outputs": [],
   "source": [
    "base_word_model.eval()  # Set the model to evaluation mode\n",
    "base_word_model.to(\"cpu\")  # Move the model to CPU for inference if needed\n",
    "# use the model to classify test data set\n",
    "def evaluate_model(model, dataloader):\n",
    "    model.eval()  # Set the model to evaluation mode\n",
    "    correct = 0\n",
    "    total = 0\n",
    "\n",
    "    with torch.no_grad():\n",
    "        for inputs, labels in dataloader:\n",
    "            inputs, labels = inputs.to(\"cpu\"), labels.to(\"cpu\")  # Move to CPU if needed\n",
    "            outputs = model(inputs)\n",
    "            _, predicted = torch.max(outputs.data, 1)\n",
    "            total += labels.size(0)\n",
    "            correct += (predicted == labels).sum().item()\n",
    "\n",
    "    accuracy = correct / total\n",
    "    print(f'Accuracy of the model on the test set: {accuracy * 100:.2f}%')\n",
    "    return accuracy"
   ]
  },
  {
   "cell_type": "code",
   "execution_count": null,
   "id": "b2f20d58",
   "metadata": {},
   "outputs": [],
   "source": [
    "# Evaluate the model on the test set\n",
    "accuracy = evaluate_model(base_word_model, test_dataloader)\n",
    "# Save the trained model\n",
    "torch.save(base_word_model.state_dict(), \"trained_ffnn_model.pth\")\n",
    "print(\"Model saved as 'trained_ffnn_model.pth'\")\n",
    "# Load the model for future use\n",
    "print(accuracy)"
   ]
  },
  {
   "cell_type": "markdown",
   "id": "6e73eba0",
   "metadata": {},
   "source": []
  }
 ],
 "metadata": {
  "kernelspec": {
   "display_name": "Python 3",
   "language": "python",
   "name": "python3"
  },
  "language_info": {
   "codemirror_mode": {
    "name": "ipython",
    "version": 3
   },
   "file_extension": ".py",
   "mimetype": "text/x-python",
   "name": "python",
   "nbconvert_exporter": "python",
   "pygments_lexer": "ipython3",
   "version": "3.12.9"
  }
 },
 "nbformat": 4,
 "nbformat_minor": 5
}
