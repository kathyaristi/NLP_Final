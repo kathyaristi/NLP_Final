{
 "cells": [
  {
   "cell_type": "markdown",
   "id": "9e39f137",
   "metadata": {},
   "source": [
    "# Supervised Feed-Forward Neural Network Analysis"
   ]
  },
  {
   "cell_type": "markdown",
   "id": "cfa0bf30",
   "metadata": {},
   "source": [
    "## Instructions"
   ]
  },
  {
   "cell_type": "markdown",
   "id": "03fc21e8",
   "metadata": {},
   "source": [
    "Make sure that the \"trained_ffnn_model.pth\" is saved in the following directory \"model/trained_ffnn_model.pth\", and that \"kat_data_similar_songs.csv\" is stored in the directory \"data/kat_data_similar_songs.csv\"."
   ]
  },
  {
   "cell_type": "code",
   "execution_count": 62,
   "id": "50efa414",
   "metadata": {},
   "outputs": [
    {
     "name": "stdout",
     "output_type": "stream",
     "text": [
      "cuda\n"
     ]
    }
   ],
   "source": [
    "import warnings\n",
    "warnings.filterwarnings(\"ignore\")\n",
    "import pandas as pd\n",
    "from gensim.models import Word2Vec\n",
    "import numpy as np\n",
    "import torch\n",
    "import torch.nn as nn\n",
    "from tqdm.autonotebook import tqdm\n",
    "import nn_model as nnm\n",
    "from sklearn.preprocessing import LabelEncoder\n",
    "import lyricsgenius\n",
    "\n",
    "\n",
    "NUM_SEQUENCES_PER_BATCH = 1024\n",
    "\n",
    "device = torch.device(\"cuda\" if torch.cuda.is_available() else \"cpu\")\n",
    "print(device)"
   ]
  },
  {
   "cell_type": "code",
   "execution_count": 53,
   "id": "9770753e",
   "metadata": {},
   "outputs": [],
   "source": [
    "# Load the pre-trained model\n",
    "embedder = nnm.Embedder('all-MiniLM-L6-v2', device=device)"
   ]
  },
  {
   "cell_type": "code",
   "execution_count": 54,
   "id": "43457e57",
   "metadata": {},
   "outputs": [
    {
     "data": {
      "text/html": [
       "<div>\n",
       "<style scoped>\n",
       "    .dataframe tbody tr th:only-of-type {\n",
       "        vertical-align: middle;\n",
       "    }\n",
       "\n",
       "    .dataframe tbody tr th {\n",
       "        vertical-align: top;\n",
       "    }\n",
       "\n",
       "    .dataframe thead th {\n",
       "        text-align: right;\n",
       "    }\n",
       "</style>\n",
       "<table border=\"1\" class=\"dataframe\">\n",
       "  <thead>\n",
       "    <tr style=\"text-align: right;\">\n",
       "      <th></th>\n",
       "      <th>title</th>\n",
       "      <th>artist</th>\n",
       "      <th>song</th>\n",
       "      <th>similar_lyrics</th>\n",
       "      <th>similar_track</th>\n",
       "      <th>similar_artist</th>\n",
       "    </tr>\n",
       "  </thead>\n",
       "  <tbody>\n",
       "    <tr>\n",
       "      <th>0</th>\n",
       "      <td>Cuéntale</td>\n",
       "      <td>Ivy Queen</td>\n",
       "      <td>Cuéntale by Ivy Queen</td>\n",
       "      <td>4 ContributorsDile LyricsQuien te va a querer ...</td>\n",
       "      <td>Dile</td>\n",
       "      <td>Ivy Queen</td>\n",
       "    </tr>\n",
       "    <tr>\n",
       "      <th>1</th>\n",
       "      <td>Cuéntale</td>\n",
       "      <td>Ivy Queen</td>\n",
       "      <td>Cuéntale by Ivy Queen</td>\n",
       "      <td>3 ContributorsCansada LyricsWelcome to the dra...</td>\n",
       "      <td>Cansada</td>\n",
       "      <td>Ivy Queen</td>\n",
       "    </tr>\n",
       "    <tr>\n",
       "      <th>2</th>\n",
       "      <td>Cuéntale</td>\n",
       "      <td>Ivy Queen</td>\n",
       "      <td>Cuéntale by Ivy Queen</td>\n",
       "      <td>11 ContributorsTranslationsEnglishDeutschElla ...</td>\n",
       "      <td>Ella Me Levantó</td>\n",
       "      <td>Daddy Yankee</td>\n",
       "    </tr>\n",
       "    <tr>\n",
       "      <th>3</th>\n",
       "      <td>Cuéntale</td>\n",
       "      <td>Ivy Queen</td>\n",
       "      <td>Cuéntale by Ivy Queen</td>\n",
       "      <td>12 ContributorsDale Don Dale Lyrics[Letra de \"...</td>\n",
       "      <td>Dale Don Dale</td>\n",
       "      <td>Don Omar</td>\n",
       "    </tr>\n",
       "    <tr>\n",
       "      <th>4</th>\n",
       "      <td>Cuéntale</td>\n",
       "      <td>Ivy Queen</td>\n",
       "      <td>Cuéntale by Ivy Queen</td>\n",
       "      <td>8 ContributorsSexy Robótica Lyrics[Letra de \"S...</td>\n",
       "      <td>Sexy Robotica</td>\n",
       "      <td>Don Omar</td>\n",
       "    </tr>\n",
       "  </tbody>\n",
       "</table>\n",
       "</div>"
      ],
      "text/plain": [
       "      title     artist                   song  \\\n",
       "0  Cuéntale  Ivy Queen  Cuéntale by Ivy Queen   \n",
       "1  Cuéntale  Ivy Queen  Cuéntale by Ivy Queen   \n",
       "2  Cuéntale  Ivy Queen  Cuéntale by Ivy Queen   \n",
       "3  Cuéntale  Ivy Queen  Cuéntale by Ivy Queen   \n",
       "4  Cuéntale  Ivy Queen  Cuéntale by Ivy Queen   \n",
       "\n",
       "                                      similar_lyrics    similar_track  \\\n",
       "0  4 ContributorsDile LyricsQuien te va a querer ...             Dile   \n",
       "1  3 ContributorsCansada LyricsWelcome to the dra...          Cansada   \n",
       "2  11 ContributorsTranslationsEnglishDeutschElla ...  Ella Me Levantó   \n",
       "3  12 ContributorsDale Don Dale Lyrics[Letra de \"...    Dale Don Dale   \n",
       "4  8 ContributorsSexy Robótica Lyrics[Letra de \"S...    Sexy Robotica   \n",
       "\n",
       "  similar_artist  \n",
       "0      Ivy Queen  \n",
       "1      Ivy Queen  \n",
       "2   Daddy Yankee  \n",
       "3       Don Omar  \n",
       "4       Don Omar  "
      ]
     },
     "execution_count": 54,
     "metadata": {},
     "output_type": "execute_result"
    }
   ],
   "source": [
    "#load sentences\n",
    "similar_song_lyrics= pd.read_csv(\"data/kat_data_similar_songs.csv\") \n",
    "similar_song_lyrics.head()"
   ]
  },
  {
   "cell_type": "code",
   "execution_count": 55,
   "id": "bdb36d50",
   "metadata": {},
   "outputs": [],
   "source": [
    "lyrics, song_title = similar_song_lyrics[\"similar_lyrics\"].tolist(), similar_song_lyrics[\"title\"].tolist()\n",
    "processed_lyrics = []\n",
    "for lyric in lyrics:\n",
    "    processed_lyrics.append(nnm.preprocess_sentence(lyric))"
   ]
  },
  {
   "cell_type": "code",
   "execution_count": 56,
   "id": "febe97fd",
   "metadata": {},
   "outputs": [
    {
     "name": "stdout",
     "output_type": "stream",
     "text": [
      "torch.Size([7047, 384])\n"
     ]
    }
   ],
   "source": [
    "#Create word embeddings \n",
    "embeddings = embedder(processed_lyrics, batch_size=NUM_SEQUENCES_PER_BATCH)\n",
    "print(embeddings.shape)\n"
   ]
  },
  {
   "cell_type": "code",
   "execution_count": 57,
   "id": "7e7e913e",
   "metadata": {},
   "outputs": [
    {
     "name": "stdout",
     "output_type": "stream",
     "text": [
      "tensor([141, 141, 141, 141, 141], device='cuda:0')\n"
     ]
    }
   ],
   "source": [
    "# LabelEncoder allows to create the one-hot encoding of the labels\n",
    "label_encoder = LabelEncoder()\n",
    "\n",
    "# Fit and transform the labels to integers\n",
    "y_encoded = label_encoder.fit_transform(song_title) # Label Encoder does transform values into unique\n",
    "\n",
    "# Convert to a PyTorch tensor\n",
    "y_tensor = torch.tensor(y_encoded, dtype=torch.int64).to(device)\n",
    "print(y_tensor[:5])"
   ]
  },
  {
   "cell_type": "code",
   "execution_count": 60,
   "id": "9beaf22e",
   "metadata": {},
   "outputs": [],
   "source": [
    "# Full training pipeline\n",
    "#model, test_dataloader = nnm.full_pipeline(x=embeddings, y=y_tensor, vocab_size = len(set(y_encoded)), batch_size=NUM_SEQUENCES_PER_BATCH, embedding_size=embeddings.shape[1], hidden_units=1024\n",
    "#                                          , epochs=500, device=device, early_stop_threshold=1e-3)\n",
    "\n",
    "# Save the model\n",
    "#torch.save(model.state_dict(), \"model/trained_ffnn_model.pth\")\n",
    "\n",
    "# Initialize the model to load the weights\n",
    "model = nnm.FFNN(embedding_size=embeddings.shape[1], hidden_units=1024, vocab_size=len(set(y_encoded)), device=device)\n",
    "\n",
    "# Load the model weights\n",
    "model.load_state_dict(torch.load(\"model/trained_ffnn_model.pth\"))\n",
    "\n",
    "# Construct the test dataloader\n",
    "x_train, x_test, y_train, y_test = nnm.split_dataset(embeddings, y_tensor, device)\n",
    "_, test_dataloader = nnm.create_dataloaders(x_train, x_test,y_train,y_test, NUM_SEQUENCES_PER_BATCH)"
   ]
  },
  {
   "cell_type": "code",
   "execution_count": 61,
   "id": "b2f20d58",
   "metadata": {},
   "outputs": [
    {
     "name": "stdout",
     "output_type": "stream",
     "text": [
      "Accuracy: 18.94% (267/1410)\n",
      "Precision: 0.1559\n",
      "Recall: 0.1894\n",
      "F1 Score: 0.1594\n"
     ]
    }
   ],
   "source": [
    "# Evaluate the model on the test set\n",
    "accuracy, precision, recall, f1 = nnm.evaluate_model(model, test_dataloader)"
   ]
  },
  {
   "cell_type": "markdown",
   "id": "ee62c9b4",
   "metadata": {},
   "source": [
    "## Human Evaluation Section"
   ]
  },
  {
   "cell_type": "code",
   "execution_count": 64,
   "id": "d8992fd1",
   "metadata": {},
   "outputs": [
    {
     "name": "stdout",
     "output_type": "stream",
     "text": [
      "Searching for \"Fire Burning\" by Sean Kingston...\n",
      "Done.\n"
     ]
    }
   ],
   "source": [
    "song_title = \"Fire Burning\"\n",
    "artist_name = \"Sean Kingston\"\n",
    "\n",
    "genius = lyricsgenius.Genius(\"Z_wiD32yFUiTd_bFET7Xo4UkbdCvZZJm7ViomZFISpf4wpr_4nvblXiuMaemGED8\")\n",
    "queried_song = genius.search_song(song_title, artist_name)\n",
    "\n",
    "if queried_song:\n",
    "    lyrics = queried_song.lyrics\n",
    "    processed_lyrics = nnm.preprocess_sentence(lyric)\n",
    "    encoded_lyrics = embedder(processed_lyrics, batch_size=NUM_SEQUENCES_PER_BATCH)\n",
    "    encoded_lyrics.unsqueeze_(0) # Add a batch dimension\n",
    "\n",
    "    model.eval()\n",
    "\n",
    "    with torch.no_grad(): # Speeds up inference and reduces memory usage by not having to calcualte gradients\n",
    "        logits = model(encoded_lyrics) # Forward pass on the model\n",
    "        probability = nn.functional.softmax(logits, dim=1) # Normalize z scores to probability\n",
    "        predicted_idx = torch.multinomial(probability, num_samples=8).cpu()[0].squeeze(0) # Get the top 10 predictions\n",
    "        predicted_songs = label_encoder.inverse_transform(predicted_idx)\n",
    "\n",
    "else:\n",
    "    print(f\"Song '{song_title}' by '{artist_name}' not found.\")\n"
   ]
  },
  {
   "cell_type": "markdown",
   "id": "11aa3354",
   "metadata": {},
   "source": [
    "Labels that are not similar to: Fire Burning by Sean Kingston <br>\n",
    "* 252 -  'Honey' by Kehlani\n",
    "* 11 - 505 by Arctic Monkeys\n",
    "* 13 - 8TEEN by Khalid\n",
    "* 21 - American Requiem by Beyonce\n",
    "\n",
    "Labels somewhat similar to : Fire Burning by Sean Kingston <br>\n",
    "* 336 - Low  by Flo Rida\n",
    "* 431 - Promiscuous\n",
    "* 294 - Just Dance"
   ]
  },
  {
   "cell_type": "code",
   "execution_count": 65,
   "id": "4786bd0a",
   "metadata": {},
   "outputs": [
    {
     "name": "stdout",
     "output_type": "stream",
     "text": [
      "Probability for 'Low' is 5.129538112669252e-05 \n",
      "Probability for 'Promiscuous' is 0.00024644029326736927 \n",
      "Probability for 'Honey' is 3.826822648989037e-06 \n"
     ]
    }
   ],
   "source": [
    "potential_indices = [336, 431, 252]\n",
    "name_indices = [\"Low by Flo Rida\", \"Promiscuous by Nelly Furtado\", \"Honey by Kehlani\"]\n",
    "\n",
    "# Get the corresponding labels\n",
    "for index in potential_indices:\n",
    "    value = probability[0, index]\n",
    "    label = label_encoder.inverse_transform([index])[0]\n",
    "    print(f\"Probability for '{label}' is {value} \")"
   ]
  }
 ],
 "metadata": {
  "kernelspec": {
   "display_name": "Python 3",
   "language": "python",
   "name": "python3"
  },
  "language_info": {
   "codemirror_mode": {
    "name": "ipython",
    "version": 3
   },
   "file_extension": ".py",
   "mimetype": "text/x-python",
   "name": "python",
   "nbconvert_exporter": "python",
   "pygments_lexer": "ipython3",
   "version": "3.12.9"
  }
 },
 "nbformat": 4,
 "nbformat_minor": 5
}
