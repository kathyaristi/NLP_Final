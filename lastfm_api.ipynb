{
 "cells": [
  {
   "cell_type": "code",
   "execution_count": 3,
   "metadata": {},
   "outputs": [
    {
     "name": "stdout",
     "output_type": "stream",
     "text": [
      "1. If I Were a Boy by Beyoncé\n",
      "2. Single Ladies (Put a Ring on It) by Beyoncé\n",
      "3. Survivor by Destiny's Child\n",
      "4. Say My Name by Destiny's Child\n",
      "5. No One by Alicia Keys\n",
      "6. Diamonds by Rihanna\n",
      "7. Love On The Brain by Rihanna\n",
      "8. Bleeding Love by Leona Lewis\n",
      "9. Girl on Fire by Alicia Keys\n",
      "10. We Belong Together by Mariah Carey\n"
     ]
    }
   ],
   "source": [
    "import requests\n",
    "\n",
    "# Last.fm API credentials\n",
    "lastfm_api_key = '340a0195516763a1af37aa4168461814'\n",
    "\n",
    "# Define the Last.fm API endpoint and parameters\n",
    "lastfm_url = 'http://ws.audioscrobbler.com/2.0/'\n",
    "params = {\n",
    "\t'method': 'track.getsimilar',\n",
    "\t'track': track_data['name'],  # Use the track name from Spotify data\n",
    "\t'artist': track_data['artists'][0]['name'],  # Use the first artist's name\n",
    "\t'api_key': lastfm_api_key,\n",
    "\t'format': 'json',\n",
    "\t'limit': 10  # Limit the results to 10 similar tracks\n",
    "}\n",
    "\n",
    "# Make the API call to Last.fm\n",
    "lastfm_response = requests.get(lastfm_url, params=params)\n",
    "\n",
    "# Parse the response\n",
    "if lastfm_response.status_code == 200:\n",
    "\tsimilar_tracks_data = lastfm_response.json()\n",
    "\tsimilar_tracks = similar_tracks_data.get('similartracks', {}).get('track', [])\n",
    "\tfor i, similar_track in enumerate(similar_tracks, start=1):\n",
    "\t\tprint(f\"{i}. {similar_track['name']} by {similar_track['artist']['name']}\")\n",
    "else:\n",
    "\tprint(f\"Error: {lastfm_response.status_code} - {lastfm_response.text}\")"
   ]
  }
 ],
 "metadata": {
  "kernelspec": {
   "display_name": "nlp",
   "language": "python",
   "name": "python3"
  },
  "language_info": {
   "codemirror_mode": {
    "name": "ipython",
    "version": 3
   },
   "file_extension": ".py",
   "mimetype": "text/x-python",
   "name": "python",
   "nbconvert_exporter": "python",
   "pygments_lexer": "ipython3",
   "version": "3.9.21"
  }
 },
 "nbformat": 4,
 "nbformat_minor": 2
}
