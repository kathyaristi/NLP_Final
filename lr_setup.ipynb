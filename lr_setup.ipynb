{
 "cells": [
  {
   "cell_type": "code",
   "execution_count": null,
   "metadata": {},
   "outputs": [],
   "source": [
    "import pandas as pd\n",
    "import numpy as np\n",
    "import lr_model as lr\n",
    "import model_utils as utils\n",
    "import matplotlib.pyplot as plt\n",
    "import time\n",
    "from sklearn.preprocessing import StandardScaler\n",
    "from sklearn.feature_extraction.text import TfidfVectorizer\n",
    "from sklearn.metrics import accuracy_score, precision_score, recall_score, f1_score\n",
    "\n",
    "NUM_FEATURES = 1000\n",
    "NUM_ITERATIONS = 300\n",
    "LEARNING_RATE = 0.1"
   ]
  },
  {
   "cell_type": "code",
   "execution_count": 37,
   "metadata": {},
   "outputs": [
    {
     "name": "stdout",
     "output_type": "stream",
     "text": [
      "7047\n"
     ]
    }
   ],
   "source": [
    "#load the data, tuples\n",
    "my_data_similar_df = pd.read_csv(\"data/kat_data_similar.csv\") \n",
    "print(len( my_data_similar_df))\n",
    "\n",
    "#Grab the lyrics and the corresponding similar song title\n",
    "similar_lyrics, song_title = my_data_similar_df[\"lyrics\"].tolist(), my_data_similar_df['title'].tolist()\n"
   ]
  },
  {
   "cell_type": "code",
   "execution_count": 38,
   "metadata": {},
   "outputs": [],
   "source": [
    "#Process lyrics, lemmatize and remove stop words\n",
    "processed_lyrics = []\n",
    "for lyric in similar_lyrics:\n",
    "    processed_lyrics.append(utils.preprocess_sentence(lyric))"
   ]
  },
  {
   "cell_type": "code",
   "execution_count": 39,
   "metadata": {},
   "outputs": [],
   "source": [
    "# Vectorize the data using TF-IDF\n",
    "tfidf_vectorizer = TfidfVectorizer(max_features=NUM_FEATURES)\n",
    "tfidf_matrix = tfidf_vectorizer.fit_transform(processed_lyrics)\n",
    "tfidf_matrix = tfidf_matrix.toarray()\n"
   ]
  },
  {
   "cell_type": "code",
   "execution_count": 40,
   "metadata": {},
   "outputs": [],
   "source": [
    "# Scale the features using StandardScaler\n",
    "scaler = StandardScaler()\n",
    "X_scaled = scaler.fit_transform(tfidf_matrix)"
   ]
  },
  {
   "cell_type": "code",
   "execution_count": 41,
   "metadata": {},
   "outputs": [],
   "source": [
    "X_train, X_test, y_train, y_test = [], [], [], []"
   ]
  },
  {
   "cell_type": "code",
   "execution_count": 42,
   "metadata": {},
   "outputs": [],
   "source": [
    "#Split training and testing data\n",
    "\n",
    "for i in range(0, len(similar_lyrics), 10):  \n",
    "    X_train_chunk = X_scaled[i:i+8]  # Select 8 samples for training\n",
    "    X_test_chunk = X_scaled[i+8:i+10]  # Select 2 sample for testing\n",
    "    y_train_chunk = song_title[i:i+8]  # Corresponding labels for training\n",
    "    y_test_chunk = song_title[i+8:i+10]  # Corresponding label for testing\n",
    "    \n",
    "    # Append chunks to total lists\n",
    "    X_train.append(X_train_chunk)\n",
    "    X_test.append(X_test_chunk)\n",
    "    y_train.append(y_train_chunk)\n",
    "    y_test.append(y_test_chunk)\n",
    "\n",
    "X_train = np.vstack(X_train)\n",
    "X_test = np.vstack(X_test)\n",
    "y_train = np.hstack(y_train)\n",
    "y_test = np.hstack(y_test)\n"
   ]
  },
  {
   "cell_type": "code",
   "execution_count": 43,
   "metadata": {},
   "outputs": [
    {
     "name": "stdout",
     "output_type": "stream",
     "text": [
      "Training set size: [[-0.13572528 -0.1349132  -0.09866369 ... -0.06711996 -0.11145301\n",
      "  -0.16361466]\n",
      " [-0.13572528 -0.1349132  -0.09866369 ... -0.06711996 -0.11145301\n",
      "  -0.16361466]\n",
      " [-0.13572528 -0.1349132  -0.09866369 ... -0.06711996 -0.11145301\n",
      "  -0.16361466]\n",
      " [-0.13572528  1.3398375  -0.09866369 ... -0.06711996 -0.11145301\n",
      "  -0.16361466]\n",
      " [-0.13572528 -0.1349132  -0.09866369 ... -0.06711996 -0.11145301\n",
      "  -0.16361466]]\n",
      "labels for training set: ['Cuéntale' 'Cuéntale' 'Cuéntale' 'Cuéntale' 'Cuéntale']\n",
      "Testing set size: [[-0.13572528 -0.1349132  -0.09866369 ... -0.06711996 -0.11145301\n",
      "  -0.16361466]\n",
      " [ 2.23323356 -0.1349132  -0.09866369 ... -0.06711996 -0.11145301\n",
      "  -0.16361466]\n",
      " [-0.13572528 -0.1349132  -0.09866369 ... -0.06711996 -0.11145301\n",
      "  -0.16361466]\n",
      " [-0.13572528  6.5788906  -0.09866369 ... -0.06711996 -0.11145301\n",
      "  -0.16361466]\n",
      " [-0.13572528 -0.1349132  -0.09866369 ... -0.06711996 -0.11145301\n",
      "  -0.16361466]]\n",
      "labels for training set: ['Libertad' 'Libertad' 'Te He Querido, Te He Llorado'\n",
      " 'Te He Querido, Te He Llorado' 'Quiero Bailar']\n"
     ]
    }
   ],
   "source": [
    "print(\"Training set size:\", X_train[:5])\n",
    "print(\"labels for training set:\", y_train[:5])\n",
    "print(\"Testing set size:\", X_test[:5])\n",
    "print(\"labels for training set:\", y_test[:5])\n"
   ]
  },
  {
   "cell_type": "code",
   "execution_count": 44,
   "metadata": {},
   "outputs": [
    {
     "name": "stdout",
     "output_type": "stream",
     "text": [
      "(7047, 1000)\n",
      "5.6000000000000005\n"
     ]
    }
   ],
   "source": [
    "#Get shape and sparsity\n",
    "print(tfidf_matrix.shape)\n",
    "print(np.count_nonzero(tfidf_matrix[0])/len(tfidf_matrix[0])*100)"
   ]
  },
  {
   "cell_type": "code",
   "execution_count": 45,
   "metadata": {},
   "outputs": [
    {
     "name": "stdout",
     "output_type": "stream",
     "text": [
      "Training for 300 iterations\n",
      "class mappings:  {'001': 0, '085 - Ao Vivo': 1, '1000 Oceans': 2, '11 PM': 3, '1st of Tha Month': 4, '23rd Street': 5, '3 Nights': 6, '3005': 7, '4Me 4Me': 8, '5 Letras': 9, \"5 MO' MINUTES\": 10, '505': 11, '777-666': 12, '8TEEN': 13, 'A Mí': 14, 'A Song For Mama': 15, 'A Ti No': 16, 'A Tu Merced': 17, 'ABALO EMOCIONAL - Ao Vivo': 18, 'ADMV': 19, 'ALIEN SUPERSTAR': 20, 'AMERIICAN REQUIEM': 21, 'Abusadora': 22, 'Across The Universe - Remastered 2009': 23, 'Add Up My Love': 24, 'Addicted': 25, 'Afraid': 26, 'After Hours': 27, \"Age Ain't Nothing But a Number\": 28, 'Agosto': 29, 'Ahora Es': 30, \"Ain't No Rest For The Wicked - Original Version\": 31, 'All My Life': 32, 'All Night': 33, 'Alocate': 34, 'Amarillo': 35, 'Ambitionz Az A Ridah': 36, 'American Idiot': 37, 'Amor Prohibido': 38, 'Angel in Disguise': 39, 'Angelina': 40, 'Angelito': 41, 'Another One Bites The Dust - Remastered 2011': 42, 'Another Way to Die': 43, 'Apocalypse': 44, 'Aqui Esta Tu Caldo': 45, 'Arabella': 46, 'Are You Ready?': 47, 'Are You That Somebody': 48, 'Art House': 49, 'Asylum': 50, 'Atrévete-Te-Te': 51, 'Ay Vamos': 52, 'Azul': 53, 'BABY SAID': 54, 'BMF': 55, 'Baby': 56, 'Baby Powder': 57, 'Back to the Old House - 2011 Remaster': 58, 'Baila Baila Baila': 59, 'Baila Morena - Live': 60, 'Balada - Ao Vivo': 61, 'Bandida': 62, 'Barbie Girl': 63, 'Basket Case': 64, 'Be My Lover': 65, 'Be My Own Boyfriend': 66, 'Be Without You - Kendu Mix': 67, \"Beat Dat Beat (It's Time To)\": 68, 'Beat It': 69, 'Beautiful Crazy': 70, 'Beautiful Girls': 71, 'Beautiful Monster': 72, 'Because Of You': 73, 'Bed': 74, \"Beggin'\": 75, 'Best Time': 76, 'Big Wheel': 77, 'Billie Jean': 78, 'Bills, Bills, Bills': 79, 'Birthday Bitch': 80, 'Blanco': 81, 'Bloqueado - Ao Vivo': 82, 'Blow': 83, 'Bobo': 84, 'Body Aint Me': 85, 'Bohemian Rhapsody - Remastered 2011': 86, 'Bonita': 87, 'Booty Up': 88, 'Bootylicious': 89, 'Borderline': 90, 'Borro Cassette': 91, 'Boulevard of Broken Dreams': 92, 'Bring Me To Life': 93, 'Broken Cash Machine': 94, 'Bumbum Granada': 95, 'Burn': 96, 'Bye Bye Bye': 97, 'C U Girl': 98, 'C.R.E.A.M. (Cash Rules Everything Around Me)': 99, 'CORALINE': 100, 'Cadeado': 101, 'Can We Talk': 102, \"Can't Help but Wait\": 103, \"Can't Take My Eyes Off of You - (I Love You Baby)\": 104, 'Candy': 105, 'Candy Perfume Girl': 106, 'Candy Rain': 107, 'Candy Shop': 108, 'Cannibal': 109, 'Captive Heart': 110, 'Careless Whisper': 111, 'Carry Out (Featuring Justin Timberlake)': 112, 'Case Of The Ex (Whatcha Gonna Do)': 113, 'Casimir Pulaski Day': 114, 'Chanel': 115, 'Cherry Bomb': 116, 'Cherry-coloured Funk': 117, 'Chicken Fried': 118, 'Chu Chu Pamela': 119, 'Circadian Rhythm': 120, 'Circles': 121, 'Ciudad de las Luces': 122, 'Columbia': 123, 'Come a Little Closer': 124, 'Come and Talk to Me - Remix': 125, 'Como La Flor': 126, 'Como Mirarte': 127, 'Complicated': 128, 'Confessions Part II': 129, 'Continuo Atardecer': 130, 'Corazón Sin Cara': 131, 'Crank That (Soulja Boy)': 132, 'Crazy In Love - Remix': 133, 'Cross My Mind': 134, 'Cry': 135, 'Cry For You': 136, 'Cry Me a River': 137, 'Crybaby': 138, 'Cuando Me Acerco A Ti': 139, 'Cumbia Sampuesana': 140, 'Cuéntale': 141, 'DArkSide': 142, 'DENIAL IS A RIVER': 143, 'Dale Don Dale': 144, 'Darte un Beso': 145, 'Day Tripper - Remastered 2015': 146, 'Dembow': 147, 'Después de la Playa': 148, 'Devotion': 149, 'Dia Azul': 150, 'Die Young': 151, 'Differences': 152, 'Dile': 153, 'Dile Que Tu Me Quieres': 154, 'Dime': 155, 'Disco': 156, 'Djadja': 157, 'Do For Love': 158, 'Do I Wanna Know?': 159, \"Doin' What It 'Pose 2Do\": 160, \"Don't Forget About Us\": 161, \"Don't Jump\": 162, \"Don't Stop The Music\": 163, \"Don't Threaten Me with a Good Time\": 164, 'Doncella': 165, 'Doomed': 166, 'Doses & Mimosas': 167, 'Down': 168, 'Down On Me': 169, 'Dreaming Of You': 170, 'Drown': 171, 'Dueño': 172, 'EL CLúB': 173, 'Earrings': 174, 'Easier': 175, 'Echo': 176, 'Efecto': 177, 'El Amante': 178, 'El Apagón': 179, 'El Chico Del Apartamento 512': 180, 'El Perdedor': 181, 'El Préstamo': 182, 'Eleanor Rigby - Remastered 2009': 183, 'Ella Me Levanto': 184, 'End Of The Road': 185, 'Enséñame a Bailar': 186, 'Envuelvete': 187, 'Eres Mía': 188, 'Esquece Pt. 2': 189, 'Estamos Bien': 190, 'Estoy Enamorado': 191, 'Every Breath You Take': 192, \"Everybody's Fool\": 193, 'Everyone Falls in Love': 194, 'FAMJAM4000': 195, 'FOR YOUR LOVE': 196, 'FUNK DO BOUNCE (Slowed)': 197, 'Face Down': 198, \"Fallin' All In You\": 199, 'Fantasma': 200, 'Fantasy': 201, 'Fanática Sensual': 202, 'Fazer Falta': 203, 'Feel Alright': 204, 'Feels So Right': 205, 'Felina': 206, 'Feliz Cumpleaños Ferxxo': 207, 'Ferxxo 100': 208, 'Fiel amiga': 209, 'Fire Burning': 210, 'Fit N Full': 211, 'Foolish': 212, 'Foreigner': 213, 'Frio': 214, 'GPS': 215, 'GYALIS': 216, 'Ganas De Ti': 217, 'Gasolina': 218, 'Get Crazy': 219, 'Get It Shawty': 220, 'Get Money': 221, 'Gimme! Gimme! Gimme! (A Man After Midnight)': 222, 'Girlfriend': 223, 'Girls': 224, 'Give It To Her': 225, 'Glad You Came': 226, 'Going Back to Cali - 2014 Remaster': 227, 'Going Under': 228, 'Good Life': 229, 'Good Looking': 230, 'Grind With Me': 231, 'Gris': 232, 'Guatauba': 233, 'HARD KNOCK LULLABY': 234, 'HONEY (ARE U COMING?)': 235, 'HP': 236, 'Hace Mucho Tiempo': 237, 'Hail Mary': 238, 'Harvey': 239, 'Hasta Abajo': 240, 'Hasta el Amanecer': 241, 'Hawái': 242, \"He Wasn't Man Enough\": 243, 'Heart-Shaped Box': 244, 'Heartless': 245, 'Heavy': 246, 'Her': 247, 'Hero': 248, \"Hey Daddy (Daddy's Home)\": 249, 'Holiday / Boulevard of Broken Dreams': 250, 'Honesty': 251, 'Honey': 252, 'Hotel Room Service': 253, 'How We Do': 254, 'How You Remind Me': 255, 'Hypnotize - 2007 Remaster': 256, 'I Gotta Feeling': 257, 'I Hate Everything About You': 258, 'I Have Nothing': 259, 'I Hope to Be Around': 260, 'I Know You Want Me (Calle Ocho)': 261, 'I Like It': 262, 'I Love You': 263, 'I WANNA BE YOUR SLAVE': 264, 'I Wanna Be Down': 265, 'I Wanna Be Yours': 266, 'I Wanna Dance with Somebody (Who Loves Me)': 267, 'I Wanna Know': 268, 'I Want To Hold Your Hand - Remastered 2015': 269, 'I Will Always Love You': 270, 'I Write Sins Not Tragedies': 271, 'I got it bad': 272, \"I'll Make Love To You\": 273, \"I'm Sprung\": 274, 'Ice Box': 275, 'If I Was Your Man': 276, 'Igual Que Ayer': 277, 'Impossible': 278, 'In A Good Way': 279, 'In Da Club': 280, 'In The End': 281, 'In Your Body': 282, 'Instagram': 283, 'Intercourse': 284, 'Irreplaceable': 285, 'It Was A Good Day': 286, 'Ivy': 287, 'Japanese Denim': 288, 'Julieta': 289, 'Julietota': 290, \"Jumpin', Jumpin'\": 291, 'Juna': 292, 'Junto Al Amanecer': 293, 'Just Dance': 294, 'Just a Friend 2002 - Radio Edit': 295, 'Karma': 296, 'Kholo Kholo': 297, 'Kill Bill': 298, 'Kill V. Maim': 299, 'Kill the Director': 300, 'Knee Socks': 301, \"L'Appuntamento\": 302, 'LA FINE': 303, 'LA PAURA DEL BUIO': 304, 'LALA': 305, 'La Bachata': 306, 'La Despedida': 307, 'La Difícil': 308, 'La Mala': 309, 'La Pregunta': 310, 'La Vida Es Así': 311, 'La Zona': 312, 'La player (Bandolera)': 313, 'Ladyfingers': 314, \"Lamb's Wool\": 315, 'Late Night Talking': 316, 'Let Me Love You': 317, 'Letter 2 My Unborn': 318, 'Libertad': 319, 'Like a Boy': 320, 'Like a Virgin': 321, 'Limbo': 322, \"Llamé Pa' Verte (Bailando Sexy)\": 323, 'Lo Que Pasó, Pasó': 324, 'Loba': 325, 'Locha-E-Ulfat': 326, 'Lonely': 327, 'Losing You': 328, 'Lost In My Bedroom': 329, 'Love': 330, 'Love Is Dead': 331, 'Love Love': 332, 'Love U 4 Life': 333, 'Love in the Time of Socialism': 334, 'Loving You': 335, 'Low': 336, 'MI EX TENÍA RAZÓN': 337, 'MONACO': 338, 'MUTT': 339, 'Machucando': 340, 'Made Niggaz': 341, 'Man Down': 342, 'Maneater': 343, 'Manha': 344, 'Marinero': 345, 'Mayor Que Yo': 346, 'Me & U': 347, 'Me Desvelo': 348, 'Me Estas Tentando': 349, 'Me Matas': 350, 'Me Quiere Besar': 351, 'Me Rehúso': 352, 'Merengue Electronico (Rompe Consola)': 353, 'Mi Fanatica': 354, 'Mia & Sebastian’s Theme': 355, 'Mia Completa': 356, 'Mice City': 357, 'Miel': 358, 'Mine Again': 359, 'Misery Business': 360, 'Miss Independent': 361, 'Monsoon - Gateway Version': 362, 'Morado': 363, 'More Than My Hometown': 364, 'Morocha': 365, 'Moscow Mule': 366, 'Motivation': 367, 'Moça': 368, 'Mr. Brightside': 369, 'Mr. Incorrect': 370, 'Ms. Jackson': 371, 'My Band': 372, 'Más humano': 373, 'Mírala Bien': 374, 'NI BIEN NI MAL': 375, 'Na Na Na (Na Na Na Na Na Na Na Na Na)': 376, 'Na Ponta Ela Fica': 377, 'Na Ponta do Pé 2': 378, 'Naive': 379, 'Naughty Girl': 380, 'Never Gonna Give You Up': 381, 'Never Leave You (Uh Oooh, Uh Oooh)': 382, 'Neverita': 383, 'Nice & Slow - Radio Version': 384, 'No Me Dejes Solo': 385, 'No One Noticed': 386, 'No Pares': 387, 'No Scrubs': 388, 'No Se Si Fue': 389, 'No Te Vayas': 390, 'No Te Veo - Remix': 391, 'No. 1 Party Anthem': 392, 'Noche de Travesura': 393, 'Normal': 394, 'Not Allowed': 395, 'Nothing but a Number': 396, 'Notorious Thugs - 2014 Remaster': 397, 'Numb': 398, \"Nuthin' but a G Thang\": 399, 'ORANGE SODA': 400, 'Oblivion': 401, 'Obsessed': 402, 'Off To The Races': 403, 'Ohnana': 404, 'On the Hotline - Amended Version': 405, 'One More Chance / Stay with Me - Remix; 2007 Remaster': 406, 'One More Hour': 407, 'One More Weekend': 408, 'One Wish': 409, 'Only Girl (In The World)': 410, 'Out of Bounds': 411, 'Over the Moon': 412, \"Pa' Que La Pases Bien\": 413, \"Pa' Que Retozen\": 414, 'Pam Pam': 415, 'Paper Planes': 416, 'Paradinha': 417, 'Pasarela': 418, 'Peaches & Cream': 419, 'Pegao': 420, 'Pepas': 421, 'Petals on the Moon': 422, 'Piel Canela': 423, 'Pobre Diabla': 424, \"Poppin' Them Thangs\": 425, 'Porque Me Tratas Así?': 426, 'Pose': 427, 'Pound The Alarm': 428, 'Pretend': 429, 'Pretty Girl': 430, 'Promiscuous': 431, 'Proposta': 432, 'Propuesta Indecente': 433, 'Pumped Up Kicks': 434, 'Puntos Suspensivos': 435, 'Quarto de Hotel': 436, 'Que Lloren': 437, 'Quem Pegou, Pegou - Ao Vivo': 438, 'Quer Voar': 439, 'Quiero Bailar': 440, 'Quiero Saber': 441, 'Radio': 442, 'Rain': 443, 'Rakata': 444, 'Rap God': 445, 'Ready, Set, Go!': 446, 'Rebota': 447, 'Red Nose': 448, 'Reflections': 449, 'Regulate': 450, 'Rhiannon': 451, 'Right Thurr': 452, 'Rincón': 453, 'Rock Wit U (Awww Baby)': 454, 'Rojo': 455, 'Roommates': 456, 'Rosa': 457, 'Runaway': 458, 'SORRY 4 THAT MUCH': 459, 'SOS': 460, 'Sailor Song': 461, 'Sal y Perrea': 462, 'Salió El Sol': 463, 'Santorini': 464, 'Say My Name': 465, 'Say You, Say Me': 466, 'Ser Bichote': 467, 'Sexual Healing': 468, 'Sexy Bitch (feat. Akon)': 469, 'Sexy Movimiento': 470, \"She's Kinda Hot\": 471, 'Shorty, Shorty': 472, 'Show Me How': 473, 'Shut up My Moms Calling': 474, 'Si': 475, 'Si Veo a Tu Mamá': 476, 'Simplesmente Ela': 477, 'Since U Been Gone': 478, 'Smells Like Teen Spirit': 479, 'Snap Out Of It': 480, 'So Anxious': 481, 'So Fresh, So Clean': 482, 'So Many Tears': 483, 'So Sick': 484, 'Softly': 485, 'Sola': 486, 'Solo Una Noche': 487, 'Somebody Told Me': 488, 'Someday': 489, 'Someday Faraway': 490, 'Someone Like You': 491, 'Someone You Loved': 492, 'Sorvete de Ovomaltine': 493, 'Soy Una Gargola': 494, 'Spanish Guitar': 495, 'Spring nicht': 496, 'Starships': 497, 'Steelo': 498, 'Stricken': 499, 'Suavemente': 500, 'Sugar': 501, 'Summer Vibe': 502, 'Sunbleach': 503, 'Super Bass': 504, 'Survivor': 505, 'Sweater Weather': 506, 'Sweet Dreams': 507, 'Swim': 508, 'Sympathy is a knife': 509, 'THE LONELIEST': 510, 'Taboo': 511, 'Take A Bow': 512, 'Take Me Where Your Heart Is': 513, 'Take You Down': 514, 'Te Extraño - Bachata Version': 515, 'Te Hago El Amor': 516, 'Te He Querido, Te He Llorado': 517, 'Te Lo Prometo': 518, 'Te Quiero': 519, 'Te Siento': 520, 'Teardrops': 521, 'Teenage Dirtbag': 522, 'Teenagers': 523, 'Tejano Blue': 524, 'Telescope': 525, 'Temperature': 526, 'Tempted To Touch': 527, 'Terrapin': 528, 'Tha Crossroads': 529, \"That's What I Like\": 530, 'The Adults Are Talking': 531, 'The Animal': 532, 'The Ballad of Mona Lisa': 533, 'The Complete Knock': 534, 'The Less I Know The Better': 535, 'The Mannequin Song': 536, 'The Spins': 537, 'The Vengeful One': 538, 'The Way I Talk': 539, 'There She Goes': 540, \"They Don't Know\": 541, 'This City': 542, 'Thriller': 543, 'Throne': 544, 'Thuggish Ruggish Bone': 545, 'Till the World Ends': 546, 'Title and Registration': 547, 'Tití Me Preguntó': 548, 'To Live & Die In L.A.': 549, 'Todo De Ti': 550, 'Touch My Body': 551, 'Toxic': 552, 'Travesuras': 553, 'Tus Vueltas': 554, 'Tuya Soy': 555, 'U Got It Bad': 556, 'U Remind Me': 557, 'Umbrella': 558, 'Un Beso': 559, 'Un Coco': 560, 'Un-Break My Heart': 561, 'Una Noche en Medellín': 562, 'Una Vaina Loca': 563, 'Unfoolish': 564, 'VACAXIONES': 565, 'VALENTINE': 566, 'Valerie - BBC Radio 1 Live Lounge': 567, 'Vete': 568, 'Vida de Rico': 569, 'Violent Crimes': 570, 'Volare': 571, 'Voltar à Bahia': 572, 'Vuelve': 573, 'Várias Queixas': 574, 'We Belong Together': 575, 'Weak': 576, 'Weightless': 577, 'Welcome to the Black Parade': 578, 'West Coast Love': 579, 'What If': 580, \"What's the Use?\": 581, 'Where Is The Love?': 582, 'Where the Wild Things Are': 583, \"Why'd You Only Call Me When You're High?\": 584, 'Windows Down': 585, 'With You': 586, 'Without You': 587, 'Womanizer': 588, 'Yeah You': 589, 'Yo (Excuse Me Miss)': 590, 'Yo Perreo Sola': 591, 'Yo Quiero Bailar': 592, 'Yo Te Quiero': 593, 'Yo Voy (feat. Daddy Yankee)': 594, 'Yonaguni': 595, 'You Know How We Do It': 596, \"You're Makin' Me High\": 597, 'Young Dumb & Broke': 598, 'Your Love Is Incredible': 599, 'Yours': 600, 'Zun Da Da': 601, 'best damn thing': 602, 'bouquet': 603, 'cómo dormiste?': 604, 'drivers license': 605, 'everything about her': 606, 'lovesick': 607, 'pretty': 608, 'zumzumzum': 609, '¿Do U Wanna Leave?': 610, '¿Y Eso?': 611, '¿por Que Te Demoras?': 612, 'Ô Moça': 613}\n",
      "losses: 0.010456017798285217\n",
      "losses: 0.006073540682033623\n",
      "losses: 0.004054328513853655\n",
      "time: 73.13369393348694\n"
     ]
    }
   ],
   "source": [
    "#Use Logistic Regression from Homework\n",
    "regression_model = lr.LogisticRegression(LEARNING_RATE,NUM_ITERATIONS)\n",
    "start_time = time.time()\n",
    "regression_model.train(X_train, y_train, True)\n",
    "end_time = time.time()\n",
    "\n",
    "print(f\"time: {end_time - start_time}\")"
   ]
  },
  {
   "cell_type": "code",
   "execution_count": 69,
   "metadata": {},
   "outputs": [
    {
     "name": "stdout",
     "output_type": "stream",
     "text": [
      "Libertad\n",
      "Libertad\n"
     ]
    }
   ],
   "source": [
    "#Test predicting funtion\n",
    "output = regression_model.predict(X_test[0])\n",
    "print(output)\n",
    "print(y_test[0])\n"
   ]
  },
  {
   "cell_type": "code",
   "execution_count": 70,
   "metadata": {},
   "outputs": [
    {
     "name": "stdout",
     "output_type": "stream",
     "text": [
      "Predicted Song Titles: ['Libertad', 'Libertad', 'Te He Querido, Te He Llorado', 'Felina', 'Dile', 'Pepas', 'Baila Morena - Live', 'Pegao', 'Quiero Saber', \"Llamé Pa' Verte (Bailando Sexy)\"]\n",
      "Actual Song Titles: ['Libertad' 'Libertad' 'Te He Querido, Te He Llorado'\n",
      " 'Te He Querido, Te He Llorado' 'Quiero Bailar' 'Quiero Bailar'\n",
      " 'Quiero Saber' 'Quiero Saber' 'Pegao' 'Pegao']\n",
      "accuracy score = 0.18963068181818182\n",
      "precision score = 0.12820146265017895\n",
      "recall score = 0.18963068181818182\n",
      "f1 score = 0.1413457546103039\n"
     ]
    },
    {
     "name": "stderr",
     "output_type": "stream",
     "text": [
      "/Users/0wner/Documents/Northeastern/Academic/S25/NLP/HW4/.conda/lib/python3.12/site-packages/sklearn/metrics/_classification.py:1565: UndefinedMetricWarning: Precision is ill-defined and being set to 0.0 in labels with no predicted samples. Use `zero_division` parameter to control this behavior.\n",
      "  _warn_prf(average, modifier, f\"{metric.capitalize()} is\", len(result))\n",
      "/Users/0wner/Documents/Northeastern/Academic/S25/NLP/HW4/.conda/lib/python3.12/site-packages/sklearn/metrics/_classification.py:1565: UndefinedMetricWarning: Recall is ill-defined and being set to 0.0 in labels with no true samples. Use `zero_division` parameter to control this behavior.\n",
      "  _warn_prf(average, modifier, f\"{metric.capitalize()} is\", len(result))\n"
     ]
    }
   ],
   "source": [
    "y_pred =[]\n",
    "\n",
    "for test_plot in X_test:\n",
    "  y_pred.append(regression_model.predict(test_plot))\n",
    "\n",
    "print(f\"Predicted Song Titles: {y_pred[:10]}\")\n",
    "print(f\"Actual Song Titles: {y_test[:10]}\")\n",
    "\n",
    "\n",
    "a_score = accuracy_score(y_test, y_pred)\n",
    "p_score = precision_score(y_test, y_pred, average='weighted')\n",
    "r_score = recall_score(y_test, y_pred, average='weighted')\n",
    "f_score = f1_score(y_test, y_pred, average='weighted')\n",
    "#ocab_size = classifier.get_vocab_size()\n",
    "print(f\"accuracy score = {a_score}\")\n",
    "print(f\"precision score = {p_score}\")\n",
    "print(f\"recall score = {r_score}\")\n",
    "print(f\"f1 score = {f_score}\")\n"
   ]
  },
  {
   "cell_type": "code",
   "execution_count": null,
   "metadata": {},
   "outputs": [],
   "source": [
    "# y_pred =[]\n",
    "# predictions = []\n",
    "\n",
    "# for test_lyric in X_train:\n",
    "#   result = regression_model.predict(test_lyric, eval=True)\n",
    "#   if result is None:\n",
    "#     print(\"None\")\n",
    "#   if isinstance(result, tuple):\n",
    "#     label, prediction_value = result\n",
    "#     predictions.append(prediction_value)\n",
    "#     y_pred.append(label)\n",
    "#   else:\n",
    "#     y_pred.append(result)\n"
   ]
  },
  {
   "cell_type": "code",
   "execution_count": null,
   "metadata": {},
   "outputs": [
    {
     "name": "stdout",
     "output_type": "stream",
     "text": [
      "predicted_labels shape: (5639, 1)\n",
      "y_test shape: (5639,)\n",
      "xtest shape: (1408,)\n"
     ]
    }
   ],
   "source": [
    "# predictions_array = np.array(predictions)\n",
    "# print(\"predicted_labels shape:\", predictions_array.shape)\n",
    "# print(\"y_test shape:\", y_train.shape)\n",
    "# print(\"xtest shape:\", y_test.shape)"
   ]
  },
  {
   "cell_type": "code",
   "execution_count": null,
   "metadata": {},
   "outputs": [
    {
     "name": "stdout",
     "output_type": "stream",
     "text": [
      "[array([0.16340326]), array([0.34257271]), array([0.20740972]), array([0.39289707]), array([0.13287706]), array([0.64092901]), array([0.12035484]), array([0.09304368]), array([0.12492449]), array([0.12289938]), array([0.50646684]), array([0.16059404]), array([0.07942918]), array([0.13287706]), array([0.40231594]), array([0.19891734]), array([0.09304368]), array([0.06397485]), array([0.29140707]), array([0.11454361]), array([0.09444182]), array([0.08475439]), array([0.14030559]), array([0.08475439]), array([0.27017197]), array([0.4256632]), array([0.11611145]), array([0.02359761]), array([0.17195979]), array([0.10440734]), array([0.16850781]), array([0.4537525]), array([0.16287481]), array([0.18768488]), array([0.24546827]), array([0.11454361]), array([0.3188917]), array([0.17316249]), array([0.25145221]), array([0.02650392]), array([0.09304368]), array([0.08475439]), array([0.03197309]), array([0.18366069]), array([0.45355003]), array([0.20452295]), array([0.09304368]), array([0.13772464]), array([0.13287706]), array([0.17182116]), array([0.02507598]), array([0.49403439]), array([0.21481463]), array([0.06200831]), array([0.1687712]), array([0.39594286]), array([0.09444182]), array([0.11611145]), array([0.12492449]), array([0.67924991]), array([0.3188917]), array([0.24057635]), array([0.14018683]), array([0.13287706]), array([0.12492449]), array([0.13850842]), array([0.24546827]), array([0.40780639]), array([0.11454361]), array([0.25145221]), array([0.28508405]), array([0.08757943]), array([0.50764586]), array([0.39701997]), array([0.13516198]), array([0.64092901]), array([0.53740346]), array([0.28279922]), array([0.1687712]), array([0.39594286]), array([0.08475439]), array([0.09304368]), array([0.13287706]), array([0.13516198]), array([0.3188917]), array([0.13516198]), array([0.17327075]), array([0.29140707]), array([0.15589644]), array([0.08475439]), array([0.02731833]), array([0.02525841]), array([0.24145053]), array([0.35962107]), array([0.35788788]), array([0.08448443]), array([0.57052442]), array([0.16340326]), array([0.19476038]), array([0.09223409]), array([0.12492449]), array([0.09223409]), array([0.30499441]), array([0.16851677]), array([0.41625724]), array([0.05847578]), array([0.24500013]), array([0.10440734]), array([0.13823539]), array([0.36270564]), array([0.5427002]), array([0.01673058]), array([0.05264698]), array([0.13516198]), array([0.19138411]), array([0.16851677]), array([0.09223409]), array([0.18847892]), array([0.30494926]), array([0.09502659]), array([0.29196399]), array([0.12259249]), array([0.20740972]), array([0.02421237]), array([0.11934301]), array([0.02528196]), array([0.29549382]), array([0.3497561]), array([0.02400874]), array([0.40801423]), array([0.0335353]), array([0.19476038]), array([0.1687712]), array([0.12492449]), array([0.08518798]), array([0.59481123]), array([0.12492449]), array([0.74609772]), array([0.21144241]), array([0.27167454]), array([0.21481463]), array([0.12289938]), array([0.23058056]), array([0.11539273]), array([0.15589644]), array([0.12492449]), array([0.11539273]), array([0.12492449]), array([0.44522274]), array([0.30499441]), array([0.03617006]), array([0.09679609]), array([0.01909931]), array([0.03538687]), array([0.05599292]), array([0.39952101]), array([0.04079625]), array([0.09239266]), array([0.02819816]), array([0.03617006]), array([0.09444182]), array([0.08680467]), array([0.09239266]), array([0.27017197]), array([0.08475439]), array([0.05473906]), array([0.16693766]), array([0.27017197]), array([0.02831601]), array([0.21144241]), array([0.25675406]), array([0.1881336]), array([0.02731756]), array([0.01140068]), array([0.44165485]), array([0.17885833]), array([0.04179119]), array([0.05100144]), array([0.21095378]), array([0.32151422]), array([0.03932747]), array([0.4494582]), array([0.02607701]), array([0.01792188]), array([0.01579802]), array([0.26403573]), array([0.12971077]), array([0.6558947]), array([0.07262316]), array([0.61341078]), array([0.26387762]), array([0.07894228]), array([0.28227965]), array([0.10823602]), array([0.21458221]), array([0.10823602]), array([0.13160524]), array([0.16359554]), array([0.56186331]), array([0.11216516]), array([0.33600315]), array([0.32129561]), array([0.25644362]), array([0.11951668]), array([0.40112734]), array([0.33600315]), array([0.20475109]), array([0.38067916]), array([0.32140059]), array([0.54245812]), array([0.28915366]), array([0.0409828]), array([0.19186356]), array([0.29234308]), array([0.16289183]), array([0.57920344]), array([0.13501119]), array([0.24410447]), array([0.73509519]), array([0.60043928]), array([0.20149059]), array([0.13030833]), array([0.02290081]), array([0.2941971]), array([0.08646894]), array([0.25161668]), array([0.17804468]), array([0.08646894]), array([0.08573621]), array([0.08646894]), array([0.15000321]), array([0.06762097]), array([0.35053332]), array([0.32140059]), array([0.14670588]), array([0.14670588]), array([0.0904766]), array([0.0298962]), array([0.05500822]), array([0.06312004]), array([0.01628082]), array([0.056316]), array([0.01426731]), array([0.03554025]), array([0.01571647]), array([0.0225364]), array([0.07202568]), array([0.23432744]), array([0.31435017]), array([0.04906259]), array([0.22131772]), array([0.05945031]), array([0.21220152]), array([0.01216763]), array([0.01911756]), array([0.01985196]), array([0.13201542]), array([0.12446127]), array([0.21856748]), array([0.11805895]), array([0.01985196]), array([0.29475158]), array([0.1067871]), array([0.06461526]), array([0.36780901]), array([0.03461312]), array([0.04906259]), array([0.07782969]), array([0.02682882]), array([0.0328436]), array([0.21973354]), array([0.01809534]), array([0.11646554]), array([0.26108039]), array([0.02876919]), array([0.02591357]), array([0.26249312]), array([0.20961304]), array([0.13421242]), array([0.2113756]), array([0.06512892]), array([0.17797389]), array([0.03078509]), array([0.2679775]), array([0.01346451]), array([0.47019666]), array([0.13868846]), array([0.0889098]), array([0.06613235]), array([0.07081481]), array([0.13868846]), array([0.17824312]), array([0.13868846]), array([0.07081481]), array([0.01346451]), array([0.01830303]), array([0.07922984]), array([0.55892076]), array([0.480053]), array([0.42901181]), array([0.20921889]), array([0.14467325]), array([0.2113756]), array([0.26448756]), array([0.2894203]), array([0.27603204]), array([0.01839628]), array([0.03785455]), array([0.07628783]), array([0.08223603]), array([0.02706479]), array([0.11981324]), array([0.14560789]), array([0.47019666]), array([0.31004436]), array([0.34016271]), array([0.01465409]), array([0.03439528]), array([0.30435892]), array([0.01505296]), array([0.35663234]), array([0.13553305]), array([0.02581796]), array([0.04709428]), array([0.02733739]), array([0.2350129]), array([0.17498094]), array([0.08567292]), array([0.07081481]), array([0.07148818]), array([0.07081481]), array([0.07148818]), array([0.14303579]), array([0.03591686]), array([0.19728735]), array([0.07201348]), array([0.30751033]), array([0.0267406]), array([0.01098233]), array([0.02197554]), array([0.09271029]), array([0.05703292]), array([0.30435892]), array([0.03019074]), array([0.07081481]), array([0.11853019]), array([0.12360257]), array([0.01247186]), array([0.07148818]), array([0.21754123]), array([0.1067829]), array([0.22517667]), array([0.11798509]), array([0.67828843]), array([0.01854225]), array([0.04808739]), array([0.01698396]), array([0.04808739]), array([0.01896669]), array([0.04808739]), array([0.0904766]), array([0.2407575]), array([0.04510593]), array([0.21052705]), array([0.03941965]), array([0.01474656]), array([0.40922376]), array([0.03774392]), array([0.02398917]), array([0.0826517]), array([0.08858756]), array([0.10756136]), array([0.20947988]), array([0.03941965]), array([0.11014096]), array([0.3600653]), array([0.05158539]), array([0.11196376]), array([0.31642816]), array([0.41680562]), array([0.11972142]), array([0.07670665]), array([0.17583646]), array([0.06001268]), array([0.0562891]), array([0.04031162]), array([0.0381846]), array([0.16379415]), array([0.1082044]), array([0.05007453]), array([0.59931641]), array([0.01126797]), array([0.11685645]), array([0.17010236]), array([0.07537987]), array([0.02291802]), array([0.06154612]), array([0.15870015]), array([0.03150322]), array([0.15166201]), array([0.17657002]), array([0.26289702]), array([0.28302653]), array([0.0519231]), array([0.09684279]), array([0.21984339]), array([0.19162442]), array([0.05822445]), array([0.05470334]), array([0.39054536]), array([0.11201596]), array([0.07948394]), array([0.05822445]), array([0.43568317]), array([0.09042297]), array([0.03936951]), array([0.03639726]), array([0.13930221]), array([0.12401835]), array([0.17951746]), array([0.04333566]), array([0.01738503]), array([0.27028691]), array([0.04648867]), array([0.01628593]), array([0.11557828]), array([0.16134342]), array([0.19035792]), array([0.03031662]), array([0.04190191]), array([0.06796084]), array([0.02290946]), array([0.10379508]), array([0.15494226]), array([0.06296876]), array([0.18264363]), array([0.02417378]), array([0.01952938]), array([0.01805009]), array([0.2868542]), array([0.01805009]), array([0.35059917]), array([0.05170332]), array([0.03018155]), array([0.02417378]), array([0.01946503]), array([0.04199344]), array([0.01767607]), array([0.02493072]), array([0.04504761]), array([0.03782073]), array([0.16341969]), array([0.00947531]), array([0.0097588]), array([0.02958032]), array([0.03689859]), array([0.04190191]), array([0.06667526]), array([0.1329969]), array([0.03595456]), array([0.46984383]), array([0.01532907]), array([0.02282838]), array([0.19053986]), array([0.11108525]), array([0.0313235]), array([0.02023474]), array([0.08875968]), array([0.18927609]), array([0.03531595]), array([0.01266353]), array([0.03032045]), array([0.34376726]), array([0.01750658]), array([0.05007453]), array([0.1558107]), array([0.1329969]), array([0.11308144]), array([0.20656316]), array([0.20195444]), array([0.14861003]), array([0.01615122]), array([0.12768302]), array([0.06319809]), array([0.0778313]), array([0.09342111]), array([0.00905914]), array([0.04346472]), array([0.04905059]), array([0.16134342]), array([0.02036651]), array([0.07431571]), array([0.26241644]), array([0.2425833]), array([0.04348529]), array([0.05975092]), array([0.02127921]), array([0.02787811]), array([0.08681965]), array([0.02213012]), array([0.09038647]), array([0.10756136]), array([0.03505426]), array([0.05261606]), array([0.02205293]), array([0.02837488]), array([0.33124825]), array([0.6584433]), array([0.23730072]), array([0.01069666]), array([0.00905914]), array([0.34176941]), array([0.01322933]), array([0.20798795]), array([0.01817432]), array([0.02070424]), array([0.13041543]), array([0.06348353]), array([0.07431571]), array([0.01474656]), array([0.07431571]), array([0.24108592]), array([0.12461766]), array([0.17099793]), array([0.0778313]), array([0.05245327]), array([0.12768302]), array([0.06677688]), array([0.09038647]), array([0.06667526]), array([0.22814457]), array([0.07563598]), array([0.11108525]), array([0.01474519]), array([0.3902963]), array([0.38394838]), array([0.06033739]), array([0.72625807]), array([0.11557828]), array([0.08950216]), array([0.07996884]), array([0.19549019]), array([0.03083635]), array([0.02016982]), array([0.17156836]), array([0.54556727]), array([0.02372656]), array([0.05245327]), array([0.00672287]), array([0.03674438]), array([0.06667526]), array([0.07523067]), array([0.06667526]), array([0.17195681]), array([0.06071976]), array([0.16134342]), array([0.09621045]), array([0.07251915]), array([0.56362211]), array([0.00995737]), array([0.07070571]), array([0.02009304]), array([0.04114768]), array([0.08000888]), array([0.02849808]), array([0.02777724]), array([0.04346472]), array([0.04190191]), array([0.02010992]), array([0.06917149]), array([0.02957517]), array([0.0890401]), array([0.18792048]), array([0.02070481]), array([0.01727661]), array([0.54782554]), array([0.11485632]), array([0.02957517]), array([0.04633894]), array([0.3902963]), array([0.6584433]), array([0.3426372]), array([0.27328722]), array([0.07070607]), array([0.16848972]), array([0.04611927]), array([0.09734065]), array([0.05848308]), array([0.01807467]), array([0.10735986]), array([0.34780523]), array([0.05353854]), array([0.02526457]), array([0.02179931]), array([0.03237955]), array([0.21052705]), array([0.12317613]), array([0.11557828]), array([0.0804389]), array([0.07818294]), array([0.05774873]), array([0.00960428]), array([0.06987318]), array([0.13463446]), array([0.094937]), array([0.3051578]), array([0.00878335]), array([0.05609912]), array([0.01951543]), array([0.40988334]), array([0.03063358]), array([0.62905567]), array([0.1269454]), array([0.0329979]), array([0.32126581]), array([0.04501508]), array([0.07431571]), array([0.12608072]), array([0.1589834]), array([0.07930374]), array([0.03233737]), array([0.01069666]), array([0.25546513]), array([0.47053042]), array([0.47053042]), array([0.34736812]), array([0.00993499]), array([0.07086196]), array([0.01223675]), array([0.07345178]), array([0.0212563]), array([0.8182777]), array([0.27744522]), array([0.05956263]), array([0.1368601]), array([0.05796879]), array([0.05213067]), array([0.20713058]), array([0.02239096]), array([0.11499889]), array([0.60204347]), array([0.1368601]), array([0.07041601]), array([0.17796955]), array([0.07041601]), array([0.01414168]), array([0.07254938]), array([0.05176284]), array([0.02737385]), array([0.24359195]), array([0.27564823]), array([0.0177117]), array([0.05295447]), array([0.07064869]), array([0.13690129]), array([0.02072837]), array([0.01126555]), array([0.01438029]), array([0.01085114]), array([0.41572558]), array([0.01342216]), array([0.03214839]), array([0.02550882]), array([0.01012993]), array([0.23453252]), array([0.28362503]), array([0.61218401]), array([0.60236364]), array([0.61218401]), array([0.85832275]), array([0.17195979]), array([0.21586053]), array([0.3180109]), array([0.13236223]), array([0.58271075]), array([0.89555794]), array([0.17195979]), array([0.39701997]), array([0.45954377]), array([0.5310732]), array([0.21123233]), array([0.45954377]), array([0.24500013]), array([0.18366069]), array([0.10440734]), array([0.2161874]), array([0.04542757]), array([0.31272862]), array([0.60008535]), array([0.52658137]), array([0.47964127]), array([0.1834141]), array([0.45307085]), array([0.55449907]), array([0.12888034]), array([0.02056886]), array([0.49804267]), array([0.13236223]), array([0.02928561]), array([0.48550095]), array([0.03283869]), array([0.04555649]), array([0.18139038]), array([0.12972792]), array([0.15361323]), array([0.23715517]), array([0.28078309]), array([0.43327606]), array([0.81509842]), array([0.70258628]), array([0.49939337]), array([0.28789494]), array([0.1049061]), array([0.11196376]), array([0.1473181]), array([0.1789516]), array([0.45286589]), array([0.15361323]), array([0.62837151]), array([0.09827862]), array([0.45024831]), array([0.17195979]), array([0.15315981]), array([0.34646705]), array([0.05188261]), array([0.02440556]), array([0.0589376]), array([0.30310367]), array([0.16335608]), array([0.02233344]), array([0.02879967]), array([0.24873465]), array([0.73821844]), array([0.12956319]), array([0.12956319]), array([0.15983468]), array([0.02259326]), array([0.03872996]), array([0.03872996]), array([0.12805882]), array([0.54235282]), array([0.37375752]), array([0.14990313]), array([0.05838925]), array([0.09182168]), array([0.03905045]), array([0.00940422]), array([0.15373703]), array([0.01902287]), array([0.05188261]), array([0.15506375]), array([0.14679158]), array([0.38482448]), array([0.01698884]), array([0.02259326]), array([0.15538869]), array([0.0239973]), array([0.62566942]), array([0.12000255]), array([0.15983468]), array([0.72856143]), array([0.5501011]), array([0.10676196]), array([0.3778109]), array([0.03757359]), array([0.04935864]), array([0.04410304]), array([0.01480404]), array([0.3332651]), array([0.03177222]), array([0.09844439]), array([0.16020432]), array([0.02170285]), array([0.17272064]), array([0.55567002]), array([0.48172899]), array([0.02838553]), array([0.0559995]), array([0.03481621]), array([0.01776171]), array([0.02951286]), array([0.06183176]), array([0.05713259]), array([0.03704017]), array([0.11101792]), array([0.04933259]), array([0.03210468]), array([0.04136677]), array([0.28645551]), array([0.02209785]), array([0.68029093]), array([0.01888365]), array([0.19461707]), array([0.22608913]), array([0.17824312]), array([0.20832977]), array([0.18985229]), array([0.09398635]), array([0.04535741]), array([0.05810945]), array([0.02806046]), array([0.02462489]), array([0.23320489]), array([0.03275402]), array([0.05434294]), array([0.02037255]), array([0.0078981]), array([0.04914436]), array([0.01728694]), array([0.09439532]), array([0.10367988]), array([0.1587408]), array([0.04105257]), array([0.01738988]), array([0.11747306]), array([0.28617504]), array([0.32343352]), array([0.16830698]), array([0.05471589]), array([0.01254602]), array([0.02514161]), array([0.01451551]), array([0.02329954]), array([0.03481551]), array([0.025377]), array([0.18194848]), array([0.05602823]), array([0.02139554]), array([0.02293828]), array([0.21337924]), array([0.03467528]), array([0.1539087]), array([0.02637287]), array([0.15128009]), array([0.02646331]), array([0.13681632]), array([0.01918199]), array([0.03282903]), array([0.02177126]), array([0.05879094]), array([0.15713302]), array([0.19565507]), array([0.45467708]), array([0.31630566]), array([0.24152655]), array([0.18497852]), array([0.04009939]), array([0.4178795]), array([0.25301291]), array([0.35436477]), array([0.36463453]), array([0.14355496]), array([0.04232478]), array([0.22294461]), array([0.07984227]), array([0.08167737]), array([0.66509412]), array([0.37387513]), array([0.24757897]), array([0.07682456]), array([0.42503751]), array([0.93177513]), array([0.18226453]), array([0.07670665]), array([0.57465017]), array([0.34511093]), array([0.58083651]), array([0.63739064]), array([0.18366069]), array([0.24500013]), array([0.46273355]), array([0.55062422]), array([0.05286666]), array([0.25803745]), array([0.55342333]), array([0.92653203]), array([0.4537525]), array([0.34999181]), array([0.42233436]), array([0.3332651]), array([0.18550292]), array([0.52058278]), array([0.03316405]), array([0.05597161]), array([0.62722897]), array([0.28229616]), array([0.76934745]), array([0.78699019]), array([0.52658137]), array([0.24220431]), array([0.52658137]), array([0.3783763]), array([0.17195979]), array([0.28473928]), array([0.4178795]), array([0.51039029]), array([0.45346636]), array([0.1834141]), array([0.4482704]), array([0.53740346]), array([0.4537525]), array([0.7427811]), array([0.43482977]), array([0.66681669]), array([0.28279922]), array([0.48909201]), array([0.73877943]), array([0.24057635]), array([0.82450376]), array([0.54047147]), array([0.14202734]), array([0.54260548]), array([0.16379415]), array([0.21343807]), array([0.48172899]), array([0.38600074]), array([0.32749682]), array([0.17195979]), array([0.46271302]), array([0.13560847]), array([0.6641248]), array([0.37727646]), array([0.13746004]), array([0.12317613]), array([0.01507081]), array([0.25513883]), array([0.51772798]), array([0.05652209]), array([0.62417289]), array([0.66720582]), array([0.31553991]), array([0.23250895]), array([0.5419872]), array([0.48808408]), array([0.16964059]), array([0.23937198]), array([0.07052667]), array([0.06613235]), array([0.10671191]), array([0.18226453]), array([0.03946778]), array([0.12419281]), array([0.27696544]), array([0.06832296]), array([0.23715517]), array([0.70936785]), array([0.32120359]), array([0.37666064]), array([0.05271013]), array([0.07345121]), array([0.0737119]), array([0.36609761]), array([0.46662853]), array([0.27617755]), array([0.15596592]), array([0.24220431]), array([0.21066097]), array([0.04586007]), array([0.09459494]), array([0.83164067]), array([0.34999181]), array([0.37708449]), array([0.39682863]), array([0.30494926]), array([0.17327075]), array([0.72675894]), array([0.63260975]), array([0.1498053]), array([0.43792723]), array([0.44545661]), array([0.75753228]), array([0.82224968]), array([0.25301291]), array([0.2102299]), array([0.08243026]), array([0.52667703]), array([0.28499087]), array([0.26037713]), array([0.68331414]), array([0.46273355]), array([0.30264492]), array([0.65679828]), array([0.88752414]), array([0.68326497]), array([0.19314667]), array([0.58271075]), array([0.25301291]), array([0.26339725]), array([0.37901291]), array([0.23464241]), array([0.18497852]), array([0.24152655]), array([0.28279922]), array([0.23464241]), array([0.34999181]), array([0.28137247]), array([0.46273355]), array([0.56032312]), array([0.83129686]), array([0.84586772]), array([0.70772538]), array([0.13516198]), array([0.34511093]), array([0.33447485]), array([0.30494926]), array([0.3180109]), array([0.63354831]), array([0.77430378]), array([0.60669033]), array([0.86749414]), array([0.26619919]), array([0.13516198]), array([0.06681636]), array([0.72797467]), array([0.19518256]), array([0.37741594]), array([0.04392196]), array([0.09621045]), array([0.21019493]), array([0.0826394]), array([0.2665369]), array([0.11554343]), array([0.15905662]), array([0.4259423]), array([0.64881939]), array([0.54403943]), array([0.12805423]), array([0.28605082]), array([0.2535179]), array([0.25315472]), array([0.07295467]), array([0.21056448]), array([0.07295467]), array([0.14378854]), array([0.09919426]), array([0.45921384]), array([0.37343933]), array([0.57112771]), array([0.45346636]), array([0.3315034]), array([0.05835738]), array([0.20982859]), array([0.25634373]), array([0.01891295]), array([0.41347881]), array([0.41103564]), array([0.05473075]), array([0.34672626]), array([0.15373703]), array([0.79794394]), array([0.32749682]), array([0.72856143]), array([0.14957209]), array([0.26126923]), array([0.20718619]), array([0.00479684]), array([0.22526247]), array([0.33061669]), array([0.56945329]), array([0.19446292]), array([0.03988569]), array([0.01972917]), array([0.00819839]), array([0.01576658]), array([0.02259922]), array([0.01810495]), array([0.02259922]), array([0.12920253]), array([0.04774339]), array([0.02165528]), array([0.0295501]), array([0.06708826]), array([0.07202568]), array([0.05500822]), array([0.04157903]), array([0.30914785]), array([0.02184371]), array([0.07946382]), array([0.05227284]), array([0.02031681]), array([0.06474191]), array([0.0205327]), array([0.01498546]), array([0.01933103]), array([0.03362893]), array([0.03076783]), array([0.02712606]), array([0.03703034]), array([0.02153026]), array([0.25115828]), array([0.10870668]), array([0.03905045]), array([0.07898568]), array([0.21056448]), array([0.15361323]), array([0.666359]), array([0.3724703]), array([0.55705615]), array([0.15983468]), array([0.25265337]), array([0.07417922]), array([0.05205707]), array([0.07427345]), array([0.05873234]), array([0.17195979]), array([0.88462479]), array([0.20624344]), array([0.02093074]), array([0.02771662]), array([0.91046693]), array([0.02302711]), array([0.26404449]), array([0.07262403]), array([0.53805979]), array([0.8442442]), array([0.35488595]), array([0.74511502]), array([0.22663031]), array([0.3903436]), array([0.30499422]), array([0.10440734]), array([0.45346636]), array([0.50799822]), array([0.3498995]), array([0.27760606]), array([0.36028616]), array([0.05921577]), array([0.07436893]), array([0.17003943]), array([0.6584433]), array([0.21586053]), array([0.1834141]), array([0.12822051]), array([0.0193574]), array([0.04177052]), array([0.57158651]), array([0.53805979]), array([0.57801184]), array([0.0303106]), array([0.01670955]), array([0.08288824]), array([0.02247253]), array([0.54963558]), array([0.49979799]), array([0.04190191]), array([0.15870015]), array([0.45307085]), array([0.55449907]), array([0.12888034]), array([0.02056886]), array([0.52811407]), array([0.37901291]), array([0.76934745]), array([0.78699019]), array([0.39189598]), array([0.14100714]), array([0.72721439]), array([0.86154735]), array([0.13028909]), array([0.3658891]), array([0.50764586]), array([0.30494926]), array([0.13236223]), array([0.54260548]), array([0.28560679]), array([0.24220431]), array([0.24220431]), array([0.3783763]), array([0.53740346]), array([0.74650329]), array([0.13236223]), array([0.13516198]), array([0.54047147]), array([0.43809891]), array([0.54260548]), array([0.27760606]), array([0.45958104]), array([0.21066097]), array([0.48909201]), array([0.80581277]), array([0.23826369]), array([0.34999181]), array([0.29549382]), array([0.17327075]), array([0.55836607]), array([0.63260975]), array([0.26268073]), array([0.19915224]), array([0.4178795]), array([0.32524086]), array([0.13284757]), array([0.17195979]), array([0.36900395]), array([0.14202734]), array([0.9180537]), array([0.75753228]), array([0.32179213]), array([0.57895132]), array([0.02499482]), array([0.12488283]), array([0.1953107]), array([0.18497852]), array([0.13236223]), array([0.13287706]), array([0.24783701]), array([0.67232575]), array([0.71857045]), array([0.1953107]), array([0.26934385]), array([0.01407177]), array([0.9180537]), array([0.01755864]), array([0.01736259]), array([0.23715517]), array([0.98568273]), array([0.37901291]), array([0.20648661]), array([0.3315034]), array([0.14946854]), array([0.01407177]), array([0.24783701]), array([0.1953107]), array([0.0742585]), array([0.0407818]), array([0.20648661]), array([0.24783701]), array([0.22512455]), array([0.01736259]), array([0.03056743]), array([0.10416621]), array([0.14946854]), array([0.07380661]), array([0.1953107]), array([0.18497852]), array([0.19915224]), array([0.22512455]), array([0.45958104]), array([0.21066097]), array([0.10416621]), array([0.02414405]), array([0.17195979]), array([0.50206413]), array([0.02167468]), array([0.04356638]), array([0.30135865]), array([0.467713]), array([0.03056743]), array([0.10416621]), array([0.14946854]), array([0.04872305]), array([0.0686952]), array([0.0331283]), array([0.02167468]), array([0.93347744]), array([0.06745335]), array([0.03929189]), array([0.04494466]), array([0.02229094]), array([0.17334221]), array([0.061322]), array([0.0340449]), array([0.0183214]), array([0.0414025]), array([0.06428488]), array([0.11669071]), array([0.57801233]), array([0.01131959]), array([0.03454207]), array([0.1497342]), array([0.07269272]), array([0.01964075]), array([0.01244961]), array([0.10259357]), array([0.04267739]), array([0.11996501]), array([0.11747306]), array([0.27102045]), array([0.00803043]), array([0.18226453]), array([0.18135389]), array([0.10830865]), array([0.26403573]), array([0.22741604]), array([0.04658173]), array([0.01941755]), array([0.08545398]), array([0.01077582]), array([0.18226453]), array([0.10502013]), array([0.05885527]), array([0.01785465]), array([0.02860314]), array([0.114508]), array([0.21040659]), array([0.0387783]), array([0.01610385]), array([0.20341948]), array([0.1601691]), array([0.10502013]), array([0.02066221]), array([0.08525927]), array([0.07299136]), array([0.08131278]), array([0.01759992]), array([0.25149239]), array([0.03290092]), array([0.07254938]), array([0.1682917]), array([0.03019799]), array([0.01641033]), array([0.05110155]), array([0.02446019]), array([0.1497342]), array([0.07269272]), array([0.43654796]), array([0.13963359]), array([0.02489306]), array([0.04402492]), array([0.0889098]), array([0.51759709]), array([0.30394803]), array([0.15494226]), array([0.24057635]), array([0.41819376]), array([0.3498995]), array([0.45346636]), array([0.32575405]), array([0.67232575]), array([0.13516198]), array([0.45899095]), array([0.13516198]), array([0.11454361]), array([0.14990313]), array([0.05838925]), array([0.17182116]), array([0.70772538]), array([0.88752414]), array([0.68326497]), array([0.15373703]), array([0.25265337]), array([0.01564723]), array([0.01586987]), array([0.03455039]), array([0.24057635]), array([0.17195979]), array([0.22512455]), array([0.15361323]), array([0.17195979]), array([0.08982966]), array([0.03938025]), array([0.15361323]), array([0.24432091]), array([0.45899095]), array([0.27117671]), array([0.13516198]), array([0.17316249]), array([0.11685645]), array([0.05188261]), array([0.77323233]), array([0.30135865]), array([0.57210621]), array([0.24783701]), array([0.13516198]), array([0.17327075]), array([0.45954377]), array([0.60417927]), array([0.11454361]), array([0.28272236]), array([0.1834141]), array([0.34983883]), array([0.51685843]), array([0.55342333]), array([0.09373914]), array([0.30482833]), array([0.06751915]), array([0.13823088]), array([0.03391914]), array([0.13236223]), array([0.13516198]), array([0.11454361]), array([0.68174716]), array([0.70058667]), array([0.7825137]), array([0.12834459]), array([0.43850939]), array([0.64982533]), array([0.6479567]), array([0.13236223]), array([0.59999463]), array([0.20624344]), array([0.03965548]), array([0.01896426]), array([0.02137684]), array([0.09684279]), array([0.39158817]), array([0.38252413]), array([0.13287706]), array([0.17195979]), array([0.10440734]), array([0.3188917]), array([0.23715517]), array([0.70936785]), array([0.08927837]), array([0.33459658]), array([0.02027188]), array([0.19461707]), array([0.17016543]), array([0.19518256])]\n"
     ]
    }
   ],
   "source": [
    "# print(predictions)"
   ]
  },
  {
   "cell_type": "code",
   "execution_count": null,
   "metadata": {},
   "outputs": [
    {
     "name": "stdout",
     "output_type": "stream",
     "text": [
      "[False False False False False]\n"
     ]
    },
    {
     "data": {
      "image/png": "[encoded data removed]",
      "text/plain": [
       "<Figure size 640x480 with 1 Axes>"
      ]
     },
     "metadata": {},
     "output_type": "display_data"
    }
   ],
   "source": [
    "# import matplotlib.pyplot as plt\n",
    "\n",
    "# #print(predictions.shape)\n",
    "# confidences = predictions_array.max(axis=1)  # shape: (num_samples,)\n",
    "\n",
    "# # Compare predicted class to true labels\n",
    "# predicted_labels = predictions_array.argmax(axis=1)\n",
    "# correct = predicted_labels == y_train\n",
    "\n",
    "# print(correct[:5])\n",
    "\n",
    "# plt.hist(confidences[correct], bins=20, alpha=0.7, label='Correct')\n",
    "# plt.hist(confidences[~correct], bins=20, alpha=0.7, label='Incorrect')\n",
    "# plt.xlabel(\"Model Confidence (Max Probability)\")\n",
    "# plt.ylabel(\"Number of Samples\")\n",
    "# plt.legend()\n",
    "# plt.title(\"Prediction Confidence Distribution\")\n",
    "# plt.show()"
   ]
  },
  {
   "cell_type": "code",
   "execution_count": 75,
   "metadata": {},
   "outputs": [
    {
     "name": "stdout",
     "output_type": "stream",
     "text": [
      "Predicted Song Titles: ['Libertad', 'Libertad', 'Te He Querido, Te He Llorado', 'Felina', 'Dile']\n",
      "Actual Song Titles: ['Libertad' 'Libertad' 'Te He Querido, Te He Llorado'\n",
      " 'Te He Querido, Te He Llorado' 'Quiero Bailar']\n"
     ]
    }
   ],
   "source": [
    "print(f\"Predicted Song Titles: {y_pred[:5]}\")\n",
    "print(f\"Actual Song Titles: {y_test[:5]}\")\n"
   ]
  },
  {
   "cell_type": "markdown",
   "metadata": {},
   "source": [
    "### Evaluating Model\n",
    "\n",
    "#### 1. Use a confusion matrix:\n",
    "- checks how many mistakes model made for top 10 song labels\n"
   ]
  },
  {
   "cell_type": "code",
   "execution_count": 53,
   "metadata": {},
   "outputs": [
    {
     "name": "stdout",
     "output_type": "stream",
     "text": [
      "['Tití Me Preguntó', 'Propuesta Indecente', 'Gasolina', 'Yo Voy (feat. Daddy Yankee)', 'Yonaguni', 'Moscow Mule', 'Me Rehúso', 'Hasta el Amanecer', 'NI BIEN NI MAL', 'El Amante', 'Rakata', 'Candy', 'Sola', 'Softly', 'THE LONELIEST', 'Amor Prohibido', 'Ferxxo 100', 'Yo Perreo Sola', 'I Know You Want Me (Calle Ocho)', 'Hotel Room Service']\n"
     ]
    },
    {
     "data": {
      "image/png": "[encoded data removed]",
      "text/plain": [
       "<Figure size 1000x800 with 2 Axes>"
      ]
     },
     "metadata": {},
     "output_type": "display_data"
    }
   ],
   "source": [
    "from sklearn.metrics import confusion_matrix\n",
    "import seaborn as sns\n",
    "from collections import Counter\n",
    "\n",
    "# Extract top 20 most common labels\n",
    "label_counts = Counter(y_test)\n",
    "top_labels = [label for label, _ in label_counts.most_common(20)]  # adjust number as needed\n",
    "print(top_labels)\n",
    "\n",
    "cm = confusion_matrix(y_test, y_pred, labels=top_labels)\n",
    "plt.figure(figsize=(10, 8))\n",
    "sns.heatmap(cm, annot=True, fmt='d', cmap='Blues')\n",
    "plt.xlabel(\"Predicted Label\")\n",
    "plt.ylabel(\"True Label\")\n",
    "plt.title(\"Confusion Matrix\")\n",
    "plt.show()"
   ]
  },
  {
   "cell_type": "code",
   "execution_count": 54,
   "metadata": {},
   "outputs": [
    {
     "data": {
      "text/plain": [
       "<Figure size 640x480 with 0 Axes>"
      ]
     },
     "metadata": {},
     "output_type": "display_data"
    }
   ],
   "source": [
    "plt.savefig('plots/confusion_matrix_song+artist.png') "
   ]
  },
  {
   "cell_type": "markdown",
   "metadata": {},
   "source": [
    "#### Use an example song\n",
    "Example song: Salio El Sol by Don Omar   \n",
    "Song Index: 301 in training data\n",
    "Similar Song:\n"
   ]
  },
  {
   "cell_type": "code",
   "execution_count": null,
   "metadata": {},
   "outputs": [
    {
     "name": "stdout",
     "output_type": "stream",
     "text": [
      "Original input song it should map too: Dile by Don Omar\n",
      "Similar song we passed into model: Salió el Sol  by Don Omar\n",
      "Predicted song title: Hasta el Amanecer\n",
      "Predicted song title: Guatauba\n"
     ]
    }
   ],
   "source": [
    "#X = similar_song_Lyrics\n",
    "#similar_song_title - Song Title\n",
    "\n",
    "#Datapoint [0]\n",
    "print(f\"Original input song it should map too: {my_data_similar_df[\"title\"][301]} by {my_data_similar_df[\"artist\"][301]}\")\n",
    "print(f\"Similar song we passed into model: {my_data_similar_df[\"similar_track\"][301]}  by {my_data_similar_df[\"similar_artist\"][301]}\")\n",
    "print(f\"Predicted song title: {y_pred[301]}\")\n",
    "print(f\"Actual? song title: {y_train[301]}\")"
   ]
  },
  {
   "cell_type": "code",
   "execution_count": 56,
   "metadata": {},
   "outputs": [],
   "source": [
    "for key,val in regression_model.label_mapping.items():\n",
    "    if key == \"Dile, Don Omar\":\n",
    "        print(f\"{key}: {val}\")"
   ]
  },
  {
   "cell_type": "code",
   "execution_count": 57,
   "metadata": {},
   "outputs": [],
   "source": [
    "for key,val in regression_model.label_mapping.items():\n",
    "    if key == \"Guatauba, Plan B\":\n",
    "        print(f\"{key}: {val}\")"
   ]
  },
  {
   "cell_type": "code",
   "execution_count": 58,
   "metadata": {},
   "outputs": [],
   "source": [
    "#User Classified similarity labels:\n",
    "\n",
    "#Labels that are not similar to: Salio el Sol by Don Omar\n",
    "# 6 - 3 nights by Dominic Fike\n",
    "# 11 - 505 by Arctic Monkeys\n",
    "# 13 - 8TEEN by Khalid\n",
    "# 21 - American Requiem by Beyonce\n",
    "\n",
    "#Labels somewhat similar to : Salio el Sol by Don Omar\n",
    "# 17 - A Tu Merced, Bad Bunny\n",
    "# 19 - ADMV by Maluma\n",
    "#241 - Hasta el amanecer by Niki Jam"
   ]
  },
  {
   "cell_type": "code",
   "execution_count": null,
   "metadata": {},
   "outputs": [
    {
     "name": "stdout",
     "output_type": "stream",
     "text": [
      "(614,)\n"
     ]
    }
   ],
   "source": [
    "x = X_train[301]  # example TF-IDF row\n",
    "X = np.append(x,1)\n",
    "dot_product = np.dot(X, regression_model.weights.T)\n",
    "z_score = np.reshape(dot_product, (1, -1))\n",
    "prediction = regression_model._softmax(z_score)\n",
    "flatten_predictions = prediction.flatten()\n",
    "\n",
    "print(flatten_predictions.shape)\n"
   ]
  },
  {
   "cell_type": "code",
   "execution_count": 60,
   "metadata": {},
   "outputs": [
    {
     "name": "stdout",
     "output_type": "stream",
     "text": [
      " predicted label: 3 Nights with prob 9.527819544925498e-05 at index 6\n",
      " predicted label: A Tu Merced with prob 0.001332318021548188 at index 17\n",
      " predicted label: ADMV with prob 0.0008861140516757389 at index 19\n",
      " predicted label: Hasta el Amanecer with prob 0.5426054767461772 at index 241\n",
      " predicted label: 505 with prob 0.00017164565856894544 at index 11\n",
      " predicted label: 8TEEN with prob 0.00015344773077070106 at index 13\n",
      " predicted label: AMERIICAN REQUIEM with prob 0.0001348993650118691 at index 21\n",
      " predicted label: Guatauba with prob 0.07098482509437237 at index 233\n",
      " predicted label: Dile Que Tu Me Quieres with prob 0.0014846153979623813 at index 154\n"
     ]
    }
   ],
   "source": [
    "potential_indices = [6,17,19,241,11,13,21, 233, 154]\n",
    "\n",
    "for index in potential_indices:\n",
    "        for key,val in regression_model.label_mapping.items():\n",
    "                if val == index:\n",
    "                        print(f\" predicted label: {key} with prob {flatten_predictions[index]} at index {index}\")"
   ]
  },
  {
   "cell_type": "code",
   "execution_count": 61,
   "metadata": {},
   "outputs": [
    {
     "name": "stdout",
     "output_type": "stream",
     "text": [
      "the actual song it was trained with Guatauba\n"
     ]
    }
   ],
   "source": [
    "print(f\"the actual song it was trained with {y_train[301]}\")"
   ]
  },
  {
   "cell_type": "code",
   "execution_count": null,
   "metadata": {},
   "outputs": [
    {
     "name": "stdout",
     "output_type": "stream",
     "text": [
      " predicted label: Hasta el Amanecer with prob 0.5426054767461772 at index 241\n",
      " predicted label: El Perdedor with prob 0.07719454964472715 at index 181\n",
      " predicted label: Guatauba with prob 0.07098482509437237 at index 233\n",
      " predicted label: El Amante with prob 0.006792359881204341 at index 178\n",
      " predicted label: A Mí with prob 0.006306300087396189 at index 14\n",
      " predicted label: Un Coco with prob 0.005307319422850291 at index 560\n",
      " predicted label: Bobo with prob 0.00477830857212391 at index 84\n",
      " predicted label: Rojo with prob 0.00463304234657107 at index 455\n",
      " predicted label: Neverita with prob 0.004324352330295447 at index 383\n",
      " predicted label: Ser Bichote with prob 0.004051084740508641 at index 467\n"
     ]
    }
   ],
   "source": [
    "#The least predicted similar songs:\n",
    "\n",
    "X = np.append(x,1)\n",
    "dot_product = np.dot(X, regression_model.weights.T)\n",
    "\n",
    "z_score = np.reshape(dot_product, (1, -1))\n",
    "prediction = regression_model._softmax(z_score)\n",
    "flatten_predictions = prediction.flatten()\n",
    "top_10_indices = np.argsort(flatten_predictions)[-10:][::-1]  # sort and take top 10\n",
    "\n",
    "for index in top_10_indices:\n",
    "        for key,val in regression_model.label_mapping.items():\n",
    "                if val == index:\n",
    "                        print(f\" predicted label: {key} with prob {flatten_predictions[index]} at index {index}\")"
   ]
  },
  {
   "cell_type": "code",
   "execution_count": 63,
   "metadata": {},
   "outputs": [
    {
     "name": "stdout",
     "output_type": "stream",
     "text": [
      "['Libertad' 'Libertad' 'Te He Querido, Te He Llorado'\n",
      " 'Te He Querido, Te He Llorado' 'Quiero Bailar' 'Quiero Bailar'\n",
      " 'Quiero Saber' 'Quiero Saber' 'Pegao' 'Pegao' 'Si' 'Si' 'Cuéntale'\n",
      " 'Cuéntale' 'Libertad' 'Libertad' 'Te He Querido, Te He Llorado'\n",
      " 'Te He Querido, Te He Llorado' 'Quiero Bailar' 'Quiero Bailar'\n",
      " 'Quiero Saber' 'Quiero Saber' 'Pegao' 'Pegao' 'Si' 'Si' 'Ganas De Ti'\n",
      " 'Ganas De Ti' 'Yo Voy (feat. Daddy Yankee)' 'Yo Voy (feat. Daddy Yankee)'\n",
      " 'Fanática Sensual' 'Fanática Sensual' 'Dale Don Dale' 'Doncella'\n",
      " 'Ahora Es' 'Ahora Es' 'Pam Pam' 'Pam Pam' \"Pa' Que La Pases Bien\"\n",
      " \"Pa' Que La Pases Bien\" 'Pobre Diabla' 'Pobre Diabla' 'Junto Al Amanecer'\n",
      " 'Junto Al Amanecer' 'Yo Quiero Bailar' 'Yo Quiero Bailar'\n",
      " \"Llamé Pa' Verte (Bailando Sexy)\" \"Llamé Pa' Verte (Bailando Sexy)\"\n",
      " 'Salió El Sol' 'Salió El Sol' 'Soy Una Gargola' 'Soy Una Gargola'\n",
      " 'Mayor Que Yo' 'Mayor Que Yo' '5 Letras' '5 Letras' 'Me Matas' 'Me Matas'\n",
      " 'Down' 'Down' 'Dile' 'Dile' \"Pa' Que Retozen\" \"Pa' Que Retozen\"\n",
      " 'Machucando' 'No Te Veo - Remix' 'Sexy Movimiento' 'Sexy Movimiento'\n",
      " 'Rakata' 'Rakata' 'Noche de Travesura' 'Noche de Travesura' 'Candy'\n",
      " 'Candy' 'Guatauba' 'Guatauba' 'Una Vaina Loca' 'Una Vaina Loca' 'Felina'\n",
      " 'Felina' 'No Me Dejes Solo' 'No Me Dejes Solo' 'Lo Que Pasó, Pasó'\n",
      " 'Lo Que Pasó, Pasó' 'Abusadora' 'Abusadora' 'Zun Da Da' 'Zun Da Da'\n",
      " 'No Pares' 'No Pares' 'Estoy Enamorado' 'Estoy Enamorado'\n",
      " 'Tempted To Touch' 'Tempted To Touch' 'Shorty, Shorty' 'Shorty, Shorty'\n",
      " 'Te Extraño - Bachata Version' 'Te Extraño - Bachata Version'\n",
      " 'Que Lloren' 'Que Lloren']\n"
     ]
    }
   ],
   "source": [
    "print(y_test[:100])"
   ]
  },
  {
   "cell_type": "code",
   "execution_count": 91,
   "metadata": {},
   "outputs": [
    {
     "name": "stdout",
     "output_type": "stream",
     "text": [
      "[2915 2916 2917 2918 2919 2920 2921 2922]\n",
      "Fire Burning\n",
      "Fire Burning\n",
      "Fire Burning\n",
      "Fire Burning\n",
      "Fire Burning\n",
      "Fire Burning\n",
      "Fire Burning\n",
      "Fire Burning\n"
     ]
    }
   ],
   "source": [
    "#Trained on data:\n",
    "indices = np.where(y_train == 'Fire Burning')[0]\n",
    "\n",
    "print(indices)\n",
    "for i in indices:\n",
    "    print(y_train[i])\n",
    "    #print(my_data_similar_df[\"similar_track\"][i])"
   ]
  },
  {
   "cell_type": "code",
   "execution_count": 99,
   "metadata": {},
   "outputs": [
    {
     "name": "stdout",
     "output_type": "stream",
     "text": [
      "Original input song it should map too: Your Love Is Incredible by Sisqo\n",
      "Similar song we passed into model: Enchantment Passing Through  by Dru Hill\n"
     ]
    }
   ],
   "source": [
    "#X = similar_song_Lyrics\n",
    "#similar_song_title - Song Title\n",
    "\n",
    "#Datapoint [0]\n",
    "print(f\"Original input song it should map too: {my_data_similar_df[\"title\"][2915]} by {my_data_similar_df[\"artist\"][2915]}\")\n",
    "print(f\"Similar song we passed into model: {my_data_similar_df[\"similar_track\"][2915]}  by {my_data_similar_df[\"similar_artist\"][2915]}\")"
   ]
  },
  {
   "cell_type": "code",
   "execution_count": 96,
   "metadata": {},
   "outputs": [
    {
     "name": "stdout",
     "output_type": "stream",
     "text": [
      "Fire Burning\n",
      "Fire Burning\n"
     ]
    }
   ],
   "source": [
    "x = X_train[2915]  # example TF-IDF row\n",
    "print(y_train[2915])\n",
    "output = regression_model.predict(x)\n",
    "print(output)"
   ]
  },
  {
   "cell_type": "code",
   "execution_count": 98,
   "metadata": {},
   "outputs": [
    {
     "name": "stdout",
     "output_type": "stream",
     "text": [
      " predicted label: Fire Burning with prob 0.05205498370811641 at index 210\n",
      " predicted label: THE LONELIEST with prob 0.012027389680578237 at index 510\n",
      " predicted label: Softly with prob 0.01152720106657678 at index 485\n",
      " predicted label: Te Extraño - Bachata Version with prob 0.009806290287976853 at index 515\n",
      " predicted label: The Complete Knock with prob 0.005752106099661162 at index 534\n",
      " predicted label: 3 Nights with prob 0.005743974344206676 at index 6\n",
      " predicted label: Promiscuous with prob 0.005697762933078683 at index 431\n",
      " predicted label: Every Breath You Take with prob 0.005695084692733766 at index 192\n",
      " predicted label: Show Me How with prob 0.005376829892442825 at index 473\n",
      " predicted label: Windows Down with prob 0.0052193869149868765 at index 585\n"
     ]
    }
   ],
   "source": [
    "#The top predicted similar songs:\n",
    "\n",
    "X = np.append(x,1)\n",
    "dot_product = np.dot(X, regression_model.weights.T)\n",
    "\n",
    "z_score = np.reshape(dot_product, (1, -1))\n",
    "prediction = regression_model._softmax(z_score)\n",
    "flatten_predictions = prediction.flatten()\n",
    "top_10_indices = np.argsort(flatten_predictions)[-10:][::-1]  # sort and take top 10\n",
    "\n",
    "for index in top_10_indices:\n",
    "        for key,val in regression_model.label_mapping.items():\n",
    "                if val == index:\n",
    "                        print(f\" predicted label: {key} with prob {flatten_predictions[index]} at index {index}\")"
   ]
  },
  {
   "cell_type": "code",
   "execution_count": null,
   "metadata": {},
   "outputs": [],
   "source": [
    "#User Classified similarity labels:\n",
    "\n",
    "#Labels that are not similar to: FireBurning by Sean Kingston\n",
    "# 6 - 3 nights by Dominic Fike\n",
    "# 11 - 505 by Arctic Monkeys\n",
    "# 13 - 8TEEN by Khalid\n",
    "# 21 - American Requiem by Beyonce\n",
    "\n",
    "#Labels somewhat similar to : Salio el Sol by Don Omar\n",
    "# 17 - A Tu Merced, Bad Bunny\n",
    "# 19 - ADMV by Maluma\n",
    "#241 - Hasta el amanecer by Niki Jam"
   ]
  },
  {
   "cell_type": "code",
   "execution_count": null,
   "metadata": {},
   "outputs": [
    {
     "name": "stdout",
     "output_type": "stream",
     "text": [
      "index is 241\n",
      "The probability for Hasta el Amanecer: was 0.5426054767461772\n",
      "index is 181\n",
      "The probability for El Perdedor: was 0.07719454964472715\n",
      "index is 233\n",
      "The probability for Guatauba: was 0.07098482509437237\n",
      "index is 178\n",
      "The probability for El Amante: was 0.006792359881204341\n",
      "index is 14\n",
      "The probability for A Mí: was 0.006306300087396189\n",
      "index is 560\n",
      "The probability for Un Coco: was 0.005307319422850291\n",
      "index is 84\n",
      "The probability for Bobo: was 0.00477830857212391\n",
      "index is 455\n",
      "The probability for Rojo: was 0.00463304234657107\n",
      "index is 383\n",
      "The probability for Neverita: was 0.004324352330295447\n",
      "index is 467\n",
      "The probability for Ser Bichote: was 0.004051084740508641\n"
     ]
    }
   ],
   "source": [
    "\n",
    "\n",
    "for index in top_10_indices:\n",
    "    print(f\"index is {index}\")\n",
    "    for key,val in regression_model.label_mapping.items():\n",
    "        if val == index:\n",
    "            print(f\"The probability for {key}: was {flat_arr[index]}\")\n"
   ]
  }
 ],
 "metadata": {
  "kernelspec": {
   "display_name": "Python 3",
   "language": "python",
   "name": "python3"
  },
  "language_info": {
   "codemirror_mode": {
    "name": "ipython",
    "version": 3
   },
   "file_extension": ".py",
   "mimetype": "text/x-python",
   "name": "python",
   "nbconvert_exporter": "python",
   "pygments_lexer": "ipython3",
   "version": "3.12.9"
  }
 },
 "nbformat": 4,
 "nbformat_minor": 2
}
