{
 "cells": [
  {
   "cell_type": "markdown",
   "metadata": {},
   "source": [
    "# Supervised Logistic Regreesion Analysis"
   ]
  },
  {
   "cell_type": "markdown",
   "metadata": {},
   "source": [
    "## Instructions"
   ]
  },
  {
   "cell_type": "markdown",
   "metadata": {},
   "source": [
    "Make sure that \"kat_data_similar_songs.csv\" is stored in the directory \"data/kat_data_similar_songs.csv\"."
   ]
  },
  {
   "cell_type": "code",
   "execution_count": 1,
   "metadata": {},
   "outputs": [],
   "source": [
    "import pandas as pd\n",
    "import numpy as np\n",
    "import lr_model as lr\n",
    "import matplotlib.pyplot as plt\n",
    "import time\n",
    "from sklearn.preprocessing import StandardScaler\n",
    "from sklearn.feature_extraction.text import TfidfVectorizer\n",
    "from sklearn.metrics import accuracy_score, precision_score, recall_score, f1_score\n",
    "\n",
    "NUM_FEATURES = 10000\n",
    "NUM_ITERATIONS = 300\n",
    "LEARNING_RATE = 0.1"
   ]
  },
  {
   "cell_type": "code",
   "execution_count": 2,
   "metadata": {},
   "outputs": [
    {
     "name": "stdout",
     "output_type": "stream",
     "text": [
      "7047\n"
     ]
    }
   ],
   "source": [
    "#load the data, tuples\n",
    "my_data_similar_df = pd.read_csv(\"data/kat_data_similar.csv\") \n",
    "print(len( my_data_similar_df))\n",
    "\n",
    "#Grab the lyrics and the corresponding similar song title\n",
    "similar_lyrics, song_title = my_data_similar_df[\"lyrics\"].tolist(), my_data_similar_df['title'].tolist()\n"
   ]
  },
  {
   "cell_type": "code",
   "execution_count": 3,
   "metadata": {},
   "outputs": [
    {
     "data": {
      "text/plain": [
       "614"
      ]
     },
     "execution_count": 3,
     "metadata": {},
     "output_type": "execute_result"
    }
   ],
   "source": [
    "len(set(song_title))"
   ]
  },
  {
   "cell_type": "code",
   "execution_count": 4,
   "metadata": {},
   "outputs": [],
   "source": [
    "#Process lyrics, lemmatize and remove stop words\n",
    "processed_lyrics = []\n",
    "for lyric in similar_lyrics:\n",
    "    processed_lyrics.append(lr.preprocess_sentence(lyric))"
   ]
  },
  {
   "cell_type": "code",
   "execution_count": 5,
   "metadata": {},
   "outputs": [],
   "source": [
    "# Vectorize the data using TF-IDF\n",
    "tfidf_vectorizer = TfidfVectorizer(max_features=NUM_FEATURES)\n",
    "tfidf_matrix = tfidf_vectorizer.fit_transform(processed_lyrics)\n",
    "tfidf_matrix = tfidf_matrix.toarray()\n"
   ]
  },
  {
   "cell_type": "code",
   "execution_count": 6,
   "metadata": {},
   "outputs": [],
   "source": [
    "# Scale the features using StandardScaler\n",
    "scaler = StandardScaler()\n",
    "X_scaled = scaler.fit_transform(tfidf_matrix)"
   ]
  },
  {
   "cell_type": "code",
   "execution_count": 7,
   "metadata": {},
   "outputs": [],
   "source": [
    "X_train, X_test, y_train, y_test = [], [], [], []"
   ]
  },
  {
   "cell_type": "code",
   "execution_count": 8,
   "metadata": {},
   "outputs": [],
   "source": [
    "#Split training and testing data\n",
    "\n",
    "for i in range(0, len(similar_lyrics), 10):  \n",
    "    X_train_chunk = X_scaled[i:i+8]  # Select 8 samples for training\n",
    "    X_test_chunk = X_scaled[i+8:i+10]  # Select 2 sample for testing\n",
    "    y_train_chunk = song_title[i:i+8]  # Corresponding labels for training\n",
    "    y_test_chunk = song_title[i+8:i+10]  # Corresponding label for testing\n",
    "    \n",
    "    # Append chunks to total lists\n",
    "    X_train.append(X_train_chunk)\n",
    "    X_test.append(X_test_chunk)\n",
    "    y_train.append(y_train_chunk)\n",
    "    y_test.append(y_test_chunk)\n",
    "\n",
    "X_train = np.vstack(X_train)\n",
    "X_test = np.vstack(X_test)\n",
    "y_train = np.hstack(y_train)\n",
    "y_test = np.hstack(y_test)\n"
   ]
  },
  {
   "cell_type": "code",
   "execution_count": 9,
   "metadata": {},
   "outputs": [
    {
     "name": "stdout",
     "output_type": "stream",
     "text": [
      "Training set size: [[-0.17386512 -0.1044889  -0.0451613  ... -0.0183089  -0.02495614\n",
      "  -0.02379465]\n",
      " [-0.17386512 -0.1044889  -0.0451613  ... -0.0183089  -0.02495614\n",
      "  -0.02379465]\n",
      " [-0.17386512 -0.1044889  -0.0451613  ... -0.0183089  -0.02495614\n",
      "  -0.02379465]\n",
      " [-0.17386512 -0.1044889  -0.0451613  ... -0.0183089  -0.02495614\n",
      "  -0.02379465]\n",
      " [-0.17386512 -0.1044889  -0.0451613  ... -0.0183089  -0.02495614\n",
      "  -0.02379465]]\n",
      "labels for training set: ['Cuéntale' 'Cuéntale' 'Cuéntale' 'Cuéntale' 'Cuéntale']\n",
      "Testing set size: [[-0.17386512 -0.1044889  -0.0451613  ... -0.0183089  -0.02495614\n",
      "  -0.02379465]\n",
      " [ 3.25657129 -0.1044889  -0.0451613  ... -0.0183089  -0.02495614\n",
      "  -0.02379465]\n",
      " [-0.17386512 -0.1044889  -0.0451613  ... -0.0183089  -0.02495614\n",
      "  -0.02379465]\n",
      " [-0.17386512 -0.1044889  -0.0451613  ... -0.0183089  -0.02495614\n",
      "  -0.02379465]\n",
      " [-0.17386512 -0.1044889  -0.0451613  ... -0.0183089  -0.02495614\n",
      "  -0.02379465]]\n",
      "labels for training set: ['Libertad' 'Libertad' 'Te He Querido, Te He Llorado'\n",
      " 'Te He Querido, Te He Llorado' 'Quiero Bailar']\n"
     ]
    }
   ],
   "source": [
    "print(\"Training set size:\", X_train[:5])\n",
    "print(\"labels for training set:\", y_train[:5])\n",
    "print(\"Testing set size:\", X_test[:5])\n",
    "print(\"labels for training set:\", y_test[:5])\n"
   ]
  },
  {
   "cell_type": "code",
   "execution_count": 10,
   "metadata": {},
   "outputs": [
    {
     "name": "stdout",
     "output_type": "stream",
     "text": [
      "(7047, 10000)\n",
      "0.6\n"
     ]
    }
   ],
   "source": [
    "#Get shape and sparsity\n",
    "print(tfidf_matrix.shape)\n",
    "print(np.count_nonzero(tfidf_matrix[0])/len(tfidf_matrix[0])*100)"
   ]
  },
  {
   "cell_type": "code",
   "execution_count": 11,
   "metadata": {},
   "outputs": [
    {
     "name": "stdout",
     "output_type": "stream",
     "text": [
      "Training for 300 iterations\n",
      "class mappings:  {'001': 0, '085 - Ao Vivo': 1, '1000 Oceans': 2, '11 PM': 3, '1st of Tha Month': 4, '23rd Street': 5, '3 Nights': 6, '3005': 7, '4Me 4Me': 8, '5 Letras': 9, \"5 MO' MINUTES\": 10, '505': 11, '777-666': 12, '8TEEN': 13, 'A Mí': 14, 'A Song For Mama': 15, 'A Ti No': 16, 'A Tu Merced': 17, 'ABALO EMOCIONAL - Ao Vivo': 18, 'ADMV': 19, 'ALIEN SUPERSTAR': 20, 'AMERIICAN REQUIEM': 21, 'Abusadora': 22, 'Across The Universe - Remastered 2009': 23, 'Add Up My Love': 24, 'Addicted': 25, 'Afraid': 26, 'After Hours': 27, \"Age Ain't Nothing But a Number\": 28, 'Agosto': 29, 'Ahora Es': 30, \"Ain't No Rest For The Wicked - Original Version\": 31, 'All My Life': 32, 'All Night': 33, 'Alocate': 34, 'Amarillo': 35, 'Ambitionz Az A Ridah': 36, 'American Idiot': 37, 'Amor Prohibido': 38, 'Angel in Disguise': 39, 'Angelina': 40, 'Angelito': 41, 'Another One Bites The Dust - Remastered 2011': 42, 'Another Way to Die': 43, 'Apocalypse': 44, 'Aqui Esta Tu Caldo': 45, 'Arabella': 46, 'Are You Ready?': 47, 'Are You That Somebody': 48, 'Art House': 49, 'Asylum': 50, 'Atrévete-Te-Te': 51, 'Ay Vamos': 52, 'Azul': 53, 'BABY SAID': 54, 'BMF': 55, 'Baby': 56, 'Baby Powder': 57, 'Back to the Old House - 2011 Remaster': 58, 'Baila Baila Baila': 59, 'Baila Morena - Live': 60, 'Balada - Ao Vivo': 61, 'Bandida': 62, 'Barbie Girl': 63, 'Basket Case': 64, 'Be My Lover': 65, 'Be My Own Boyfriend': 66, 'Be Without You - Kendu Mix': 67, \"Beat Dat Beat (It's Time To)\": 68, 'Beat It': 69, 'Beautiful Crazy': 70, 'Beautiful Girls': 71, 'Beautiful Monster': 72, 'Because Of You': 73, 'Bed': 74, \"Beggin'\": 75, 'Best Time': 76, 'Big Wheel': 77, 'Billie Jean': 78, 'Bills, Bills, Bills': 79, 'Birthday Bitch': 80, 'Blanco': 81, 'Bloqueado - Ao Vivo': 82, 'Blow': 83, 'Bobo': 84, 'Body Aint Me': 85, 'Bohemian Rhapsody - Remastered 2011': 86, 'Bonita': 87, 'Booty Up': 88, 'Bootylicious': 89, 'Borderline': 90, 'Borro Cassette': 91, 'Boulevard of Broken Dreams': 92, 'Bring Me To Life': 93, 'Broken Cash Machine': 94, 'Bumbum Granada': 95, 'Burn': 96, 'Bye Bye Bye': 97, 'C U Girl': 98, 'C.R.E.A.M. (Cash Rules Everything Around Me)': 99, 'CORALINE': 100, 'Cadeado': 101, 'Can We Talk': 102, \"Can't Help but Wait\": 103, \"Can't Take My Eyes Off of You - (I Love You Baby)\": 104, 'Candy': 105, 'Candy Perfume Girl': 106, 'Candy Rain': 107, 'Candy Shop': 108, 'Cannibal': 109, 'Captive Heart': 110, 'Careless Whisper': 111, 'Carry Out (Featuring Justin Timberlake)': 112, 'Case Of The Ex (Whatcha Gonna Do)': 113, 'Casimir Pulaski Day': 114, 'Chanel': 115, 'Cherry Bomb': 116, 'Cherry-coloured Funk': 117, 'Chicken Fried': 118, 'Chu Chu Pamela': 119, 'Circadian Rhythm': 120, 'Circles': 121, 'Ciudad de las Luces': 122, 'Columbia': 123, 'Come a Little Closer': 124, 'Come and Talk to Me - Remix': 125, 'Como La Flor': 126, 'Como Mirarte': 127, 'Complicated': 128, 'Confessions Part II': 129, 'Continuo Atardecer': 130, 'Corazón Sin Cara': 131, 'Crank That (Soulja Boy)': 132, 'Crazy In Love - Remix': 133, 'Cross My Mind': 134, 'Cry': 135, 'Cry For You': 136, 'Cry Me a River': 137, 'Crybaby': 138, 'Cuando Me Acerco A Ti': 139, 'Cumbia Sampuesana': 140, 'Cuéntale': 141, 'DArkSide': 142, 'DENIAL IS A RIVER': 143, 'Dale Don Dale': 144, 'Darte un Beso': 145, 'Day Tripper - Remastered 2015': 146, 'Dembow': 147, 'Después de la Playa': 148, 'Devotion': 149, 'Dia Azul': 150, 'Die Young': 151, 'Differences': 152, 'Dile': 153, 'Dile Que Tu Me Quieres': 154, 'Dime': 155, 'Disco': 156, 'Djadja': 157, 'Do For Love': 158, 'Do I Wanna Know?': 159, \"Doin' What It 'Pose 2Do\": 160, \"Don't Forget About Us\": 161, \"Don't Jump\": 162, \"Don't Stop The Music\": 163, \"Don't Threaten Me with a Good Time\": 164, 'Doncella': 165, 'Doomed': 166, 'Doses & Mimosas': 167, 'Down': 168, 'Down On Me': 169, 'Dreaming Of You': 170, 'Drown': 171, 'Dueño': 172, 'EL CLúB': 173, 'Earrings': 174, 'Easier': 175, 'Echo': 176, 'Efecto': 177, 'El Amante': 178, 'El Apagón': 179, 'El Chico Del Apartamento 512': 180, 'El Perdedor': 181, 'El Préstamo': 182, 'Eleanor Rigby - Remastered 2009': 183, 'Ella Me Levanto': 184, 'End Of The Road': 185, 'Enséñame a Bailar': 186, 'Envuelvete': 187, 'Eres Mía': 188, 'Esquece Pt. 2': 189, 'Estamos Bien': 190, 'Estoy Enamorado': 191, 'Every Breath You Take': 192, \"Everybody's Fool\": 193, 'Everyone Falls in Love': 194, 'FAMJAM4000': 195, 'FOR YOUR LOVE': 196, 'FUNK DO BOUNCE (Slowed)': 197, 'Face Down': 198, \"Fallin' All In You\": 199, 'Fantasma': 200, 'Fantasy': 201, 'Fanática Sensual': 202, 'Fazer Falta': 203, 'Feel Alright': 204, 'Feels So Right': 205, 'Felina': 206, 'Feliz Cumpleaños Ferxxo': 207, 'Ferxxo 100': 208, 'Fiel amiga': 209, 'Fire Burning': 210, 'Fit N Full': 211, 'Foolish': 212, 'Foreigner': 213, 'Frio': 214, 'GPS': 215, 'GYALIS': 216, 'Ganas De Ti': 217, 'Gasolina': 218, 'Get Crazy': 219, 'Get It Shawty': 220, 'Get Money': 221, 'Gimme! Gimme! Gimme! (A Man After Midnight)': 222, 'Girlfriend': 223, 'Girls': 224, 'Give It To Her': 225, 'Glad You Came': 226, 'Going Back to Cali - 2014 Remaster': 227, 'Going Under': 228, 'Good Life': 229, 'Good Looking': 230, 'Grind With Me': 231, 'Gris': 232, 'Guatauba': 233, 'HARD KNOCK LULLABY': 234, 'HONEY (ARE U COMING?)': 235, 'HP': 236, 'Hace Mucho Tiempo': 237, 'Hail Mary': 238, 'Harvey': 239, 'Hasta Abajo': 240, 'Hasta el Amanecer': 241, 'Hawái': 242, \"He Wasn't Man Enough\": 243, 'Heart-Shaped Box': 244, 'Heartless': 245, 'Heavy': 246, 'Her': 247, 'Hero': 248, \"Hey Daddy (Daddy's Home)\": 249, 'Holiday / Boulevard of Broken Dreams': 250, 'Honesty': 251, 'Honey': 252, 'Hotel Room Service': 253, 'How We Do': 254, 'How You Remind Me': 255, 'Hypnotize - 2007 Remaster': 256, 'I Gotta Feeling': 257, 'I Hate Everything About You': 258, 'I Have Nothing': 259, 'I Hope to Be Around': 260, 'I Know You Want Me (Calle Ocho)': 261, 'I Like It': 262, 'I Love You': 263, 'I WANNA BE YOUR SLAVE': 264, 'I Wanna Be Down': 265, 'I Wanna Be Yours': 266, 'I Wanna Dance with Somebody (Who Loves Me)': 267, 'I Wanna Know': 268, 'I Want To Hold Your Hand - Remastered 2015': 269, 'I Will Always Love You': 270, 'I Write Sins Not Tragedies': 271, 'I got it bad': 272, \"I'll Make Love To You\": 273, \"I'm Sprung\": 274, 'Ice Box': 275, 'If I Was Your Man': 276, 'Igual Que Ayer': 277, 'Impossible': 278, 'In A Good Way': 279, 'In Da Club': 280, 'In The End': 281, 'In Your Body': 282, 'Instagram': 283, 'Intercourse': 284, 'Irreplaceable': 285, 'It Was A Good Day': 286, 'Ivy': 287, 'Japanese Denim': 288, 'Julieta': 289, 'Julietota': 290, \"Jumpin', Jumpin'\": 291, 'Juna': 292, 'Junto Al Amanecer': 293, 'Just Dance': 294, 'Just a Friend 2002 - Radio Edit': 295, 'Karma': 296, 'Kholo Kholo': 297, 'Kill Bill': 298, 'Kill V. Maim': 299, 'Kill the Director': 300, 'Knee Socks': 301, \"L'Appuntamento\": 302, 'LA FINE': 303, 'LA PAURA DEL BUIO': 304, 'LALA': 305, 'La Bachata': 306, 'La Despedida': 307, 'La Difícil': 308, 'La Mala': 309, 'La Pregunta': 310, 'La Vida Es Así': 311, 'La Zona': 312, 'La player (Bandolera)': 313, 'Ladyfingers': 314, \"Lamb's Wool\": 315, 'Late Night Talking': 316, 'Let Me Love You': 317, 'Letter 2 My Unborn': 318, 'Libertad': 319, 'Like a Boy': 320, 'Like a Virgin': 321, 'Limbo': 322, \"Llamé Pa' Verte (Bailando Sexy)\": 323, 'Lo Que Pasó, Pasó': 324, 'Loba': 325, 'Locha-E-Ulfat': 326, 'Lonely': 327, 'Losing You': 328, 'Lost In My Bedroom': 329, 'Love': 330, 'Love Is Dead': 331, 'Love Love': 332, 'Love U 4 Life': 333, 'Love in the Time of Socialism': 334, 'Loving You': 335, 'Low': 336, 'MI EX TENÍA RAZÓN': 337, 'MONACO': 338, 'MUTT': 339, 'Machucando': 340, 'Made Niggaz': 341, 'Man Down': 342, 'Maneater': 343, 'Manha': 344, 'Marinero': 345, 'Mayor Que Yo': 346, 'Me & U': 347, 'Me Desvelo': 348, 'Me Estas Tentando': 349, 'Me Matas': 350, 'Me Quiere Besar': 351, 'Me Rehúso': 352, 'Merengue Electronico (Rompe Consola)': 353, 'Mi Fanatica': 354, 'Mia & Sebastian’s Theme': 355, 'Mia Completa': 356, 'Mice City': 357, 'Miel': 358, 'Mine Again': 359, 'Misery Business': 360, 'Miss Independent': 361, 'Monsoon - Gateway Version': 362, 'Morado': 363, 'More Than My Hometown': 364, 'Morocha': 365, 'Moscow Mule': 366, 'Motivation': 367, 'Moça': 368, 'Mr. Brightside': 369, 'Mr. Incorrect': 370, 'Ms. Jackson': 371, 'My Band': 372, 'Más humano': 373, 'Mírala Bien': 374, 'NI BIEN NI MAL': 375, 'Na Na Na (Na Na Na Na Na Na Na Na Na)': 376, 'Na Ponta Ela Fica': 377, 'Na Ponta do Pé 2': 378, 'Naive': 379, 'Naughty Girl': 380, 'Never Gonna Give You Up': 381, 'Never Leave You (Uh Oooh, Uh Oooh)': 382, 'Neverita': 383, 'Nice & Slow - Radio Version': 384, 'No Me Dejes Solo': 385, 'No One Noticed': 386, 'No Pares': 387, 'No Scrubs': 388, 'No Se Si Fue': 389, 'No Te Vayas': 390, 'No Te Veo - Remix': 391, 'No. 1 Party Anthem': 392, 'Noche de Travesura': 393, 'Normal': 394, 'Not Allowed': 395, 'Nothing but a Number': 396, 'Notorious Thugs - 2014 Remaster': 397, 'Numb': 398, \"Nuthin' but a G Thang\": 399, 'ORANGE SODA': 400, 'Oblivion': 401, 'Obsessed': 402, 'Off To The Races': 403, 'Ohnana': 404, 'On the Hotline - Amended Version': 405, 'One More Chance / Stay with Me - Remix; 2007 Remaster': 406, 'One More Hour': 407, 'One More Weekend': 408, 'One Wish': 409, 'Only Girl (In The World)': 410, 'Out of Bounds': 411, 'Over the Moon': 412, \"Pa' Que La Pases Bien\": 413, \"Pa' Que Retozen\": 414, 'Pam Pam': 415, 'Paper Planes': 416, 'Paradinha': 417, 'Pasarela': 418, 'Peaches & Cream': 419, 'Pegao': 420, 'Pepas': 421, 'Petals on the Moon': 422, 'Piel Canela': 423, 'Pobre Diabla': 424, \"Poppin' Them Thangs\": 425, 'Porque Me Tratas Así?': 426, 'Pose': 427, 'Pound The Alarm': 428, 'Pretend': 429, 'Pretty Girl': 430, 'Promiscuous': 431, 'Proposta': 432, 'Propuesta Indecente': 433, 'Pumped Up Kicks': 434, 'Puntos Suspensivos': 435, 'Quarto de Hotel': 436, 'Que Lloren': 437, 'Quem Pegou, Pegou - Ao Vivo': 438, 'Quer Voar': 439, 'Quiero Bailar': 440, 'Quiero Saber': 441, 'Radio': 442, 'Rain': 443, 'Rakata': 444, 'Rap God': 445, 'Ready, Set, Go!': 446, 'Rebota': 447, 'Red Nose': 448, 'Reflections': 449, 'Regulate': 450, 'Rhiannon': 451, 'Right Thurr': 452, 'Rincón': 453, 'Rock Wit U (Awww Baby)': 454, 'Rojo': 455, 'Roommates': 456, 'Rosa': 457, 'Runaway': 458, 'SORRY 4 THAT MUCH': 459, 'SOS': 460, 'Sailor Song': 461, 'Sal y Perrea': 462, 'Salió El Sol': 463, 'Santorini': 464, 'Say My Name': 465, 'Say You, Say Me': 466, 'Ser Bichote': 467, 'Sexual Healing': 468, 'Sexy Bitch (feat. Akon)': 469, 'Sexy Movimiento': 470, \"She's Kinda Hot\": 471, 'Shorty, Shorty': 472, 'Show Me How': 473, 'Shut up My Moms Calling': 474, 'Si': 475, 'Si Veo a Tu Mamá': 476, 'Simplesmente Ela': 477, 'Since U Been Gone': 478, 'Smells Like Teen Spirit': 479, 'Snap Out Of It': 480, 'So Anxious': 481, 'So Fresh, So Clean': 482, 'So Many Tears': 483, 'So Sick': 484, 'Softly': 485, 'Sola': 486, 'Solo Una Noche': 487, 'Somebody Told Me': 488, 'Someday': 489, 'Someday Faraway': 490, 'Someone Like You': 491, 'Someone You Loved': 492, 'Sorvete de Ovomaltine': 493, 'Soy Una Gargola': 494, 'Spanish Guitar': 495, 'Spring nicht': 496, 'Starships': 497, 'Steelo': 498, 'Stricken': 499, 'Suavemente': 500, 'Sugar': 501, 'Summer Vibe': 502, 'Sunbleach': 503, 'Super Bass': 504, 'Survivor': 505, 'Sweater Weather': 506, 'Sweet Dreams': 507, 'Swim': 508, 'Sympathy is a knife': 509, 'THE LONELIEST': 510, 'Taboo': 511, 'Take A Bow': 512, 'Take Me Where Your Heart Is': 513, 'Take You Down': 514, 'Te Extraño - Bachata Version': 515, 'Te Hago El Amor': 516, 'Te He Querido, Te He Llorado': 517, 'Te Lo Prometo': 518, 'Te Quiero': 519, 'Te Siento': 520, 'Teardrops': 521, 'Teenage Dirtbag': 522, 'Teenagers': 523, 'Tejano Blue': 524, 'Telescope': 525, 'Temperature': 526, 'Tempted To Touch': 527, 'Terrapin': 528, 'Tha Crossroads': 529, \"That's What I Like\": 530, 'The Adults Are Talking': 531, 'The Animal': 532, 'The Ballad of Mona Lisa': 533, 'The Complete Knock': 534, 'The Less I Know The Better': 535, 'The Mannequin Song': 536, 'The Spins': 537, 'The Vengeful One': 538, 'The Way I Talk': 539, 'There She Goes': 540, \"They Don't Know\": 541, 'This City': 542, 'Thriller': 543, 'Throne': 544, 'Thuggish Ruggish Bone': 545, 'Till the World Ends': 546, 'Title and Registration': 547, 'Tití Me Preguntó': 548, 'To Live & Die In L.A.': 549, 'Todo De Ti': 550, 'Touch My Body': 551, 'Toxic': 552, 'Travesuras': 553, 'Tus Vueltas': 554, 'Tuya Soy': 555, 'U Got It Bad': 556, 'U Remind Me': 557, 'Umbrella': 558, 'Un Beso': 559, 'Un Coco': 560, 'Un-Break My Heart': 561, 'Una Noche en Medellín': 562, 'Una Vaina Loca': 563, 'Unfoolish': 564, 'VACAXIONES': 565, 'VALENTINE': 566, 'Valerie - BBC Radio 1 Live Lounge': 567, 'Vete': 568, 'Vida de Rico': 569, 'Violent Crimes': 570, 'Volare': 571, 'Voltar à Bahia': 572, 'Vuelve': 573, 'Várias Queixas': 574, 'We Belong Together': 575, 'Weak': 576, 'Weightless': 577, 'Welcome to the Black Parade': 578, 'West Coast Love': 579, 'What If': 580, \"What's the Use?\": 581, 'Where Is The Love?': 582, 'Where the Wild Things Are': 583, \"Why'd You Only Call Me When You're High?\": 584, 'Windows Down': 585, 'With You': 586, 'Without You': 587, 'Womanizer': 588, 'Yeah You': 589, 'Yo (Excuse Me Miss)': 590, 'Yo Perreo Sola': 591, 'Yo Quiero Bailar': 592, 'Yo Te Quiero': 593, 'Yo Voy (feat. Daddy Yankee)': 594, 'Yonaguni': 595, 'You Know How We Do It': 596, \"You're Makin' Me High\": 597, 'Young Dumb & Broke': 598, 'Your Love Is Incredible': 599, 'Yours': 600, 'Zun Da Da': 601, 'best damn thing': 602, 'bouquet': 603, 'cómo dormiste?': 604, 'drivers license': 605, 'everything about her': 606, 'lovesick': 607, 'pretty': 608, 'zumzumzum': 609, '¿Do U Wanna Leave?': 610, '¿Y Eso?': 611, '¿por Que Te Demoras?': 612, 'Ô Moça': 613}\n",
      "losses: 0.010456017798285217\n",
      "losses: 0.0016075883260388214\n",
      "losses: 0.0013116205721808393\n",
      "time: 558.2130739688873\n"
     ]
    }
   ],
   "source": [
    "#Use Logistic Regression from Homework\n",
    "regression_model = lr.LogisticRegression(LEARNING_RATE,NUM_ITERATIONS)\n",
    "start_time = time.time()\n",
    "regression_model.train(X_train, y_train, True)\n",
    "end_time = time.time()\n",
    "\n",
    "print(f\"time: {end_time - start_time}\")"
   ]
  },
  {
   "cell_type": "code",
   "execution_count": 18,
   "metadata": {},
   "outputs": [
    {
     "name": "stdout",
     "output_type": "stream",
     "text": [
      "Libertad\n",
      "Libertad\n"
     ]
    }
   ],
   "source": [
    "#Test predicting funtion\n",
    "output = regression_model.predict(X_test[0])\n",
    "print(output)\n",
    "print(y_test[0])\n"
   ]
  },
  {
   "cell_type": "code",
   "execution_count": 19,
   "metadata": {},
   "outputs": [
    {
     "name": "stdout",
     "output_type": "stream",
     "text": [
      "Predicted Song Titles: ['Libertad', 'Libertad', 'Te He Querido, Te He Llorado', 'Felina', 'Dile', 'Pepas', 'Baila Morena - Live', 'Pegao', 'Quiero Saber', \"Llamé Pa' Verte (Bailando Sexy)\"]\n",
      "Actual Song Titles: ['Libertad' 'Libertad' 'Te He Querido, Te He Llorado'\n",
      " 'Te He Querido, Te He Llorado' 'Quiero Bailar' 'Quiero Bailar'\n",
      " 'Quiero Saber' 'Quiero Saber' 'Pegao' 'Pegao']\n",
      "accuracy score = 0.20170454545454544\n",
      "precision score = 0.16318601548172068\n",
      "recall score = 0.20170454545454544\n",
      "f1 score = 0.16898383071688278\n"
     ]
    },
    {
     "name": "stderr",
     "output_type": "stream",
     "text": [
      "/Users/0wner/Documents/Northeastern/Academic/S25/NLP/HW4/.conda/lib/python3.12/site-packages/sklearn/metrics/_classification.py:1565: UndefinedMetricWarning: Precision is ill-defined and being set to 0.0 in labels with no predicted samples. Use `zero_division` parameter to control this behavior.\n",
      "  _warn_prf(average, modifier, f\"{metric.capitalize()} is\", len(result))\n",
      "/Users/0wner/Documents/Northeastern/Academic/S25/NLP/HW4/.conda/lib/python3.12/site-packages/sklearn/metrics/_classification.py:1565: UndefinedMetricWarning: Recall is ill-defined and being set to 0.0 in labels with no true samples. Use `zero_division` parameter to control this behavior.\n",
      "  _warn_prf(average, modifier, f\"{metric.capitalize()} is\", len(result))\n"
     ]
    }
   ],
   "source": [
    "y_pred =[]\n",
    "\n",
    "for test_plot in X_test:\n",
    "  y_pred.append(regression_model.predict(test_plot))\n",
    "\n",
    "print(f\"Predicted Song Titles: {y_pred[:10]}\")\n",
    "print(f\"Actual Song Titles: {y_test[:10]}\")\n",
    "\n",
    "\n",
    "a_score = accuracy_score(y_test, y_pred)\n",
    "p_score = precision_score(y_test, y_pred, average='weighted')\n",
    "r_score = recall_score(y_test, y_pred, average='weighted')\n",
    "f_score = f1_score(y_test, y_pred, average='weighted')\n",
    "#ocab_size = classifier.get_vocab_size()\n",
    "print(f\"accuracy score = {a_score}\")\n",
    "print(f\"precision score = {p_score}\")\n",
    "print(f\"recall score = {r_score}\")\n",
    "print(f\"f1 score = {f_score}\")\n"
   ]
  },
  {
   "cell_type": "code",
   "execution_count": 29,
   "metadata": {},
   "outputs": [],
   "source": [
    "y_pred =[]\n",
    "predictions = []\n",
    "\n",
    "for test_lyric in X_test:\n",
    "  result = regression_model.predict(test_lyric)\n",
    "  if result is None:\n",
    "    print(\"None\")\n",
    "  if isinstance(result, tuple):\n",
    "    label, prediction_value = result\n",
    "    predictions.append(prediction_value)\n",
    "    y_pred.append(label)\n",
    "  else:\n",
    "    y_pred.append(result)\n"
   ]
  },
  {
   "cell_type": "code",
   "execution_count": 30,
   "metadata": {},
   "outputs": [
    {
     "name": "stdout",
     "output_type": "stream",
     "text": [
      "1408\n",
      "1408\n"
     ]
    }
   ],
   "source": [
    "print(len(y_pred))\n",
    "print(len(y_test))"
   ]
  },
  {
   "cell_type": "code",
   "execution_count": 31,
   "metadata": {},
   "outputs": [
    {
     "name": "stdout",
     "output_type": "stream",
     "text": [
      "predicted_labels shape: (0,)\n",
      "y_test shape: (5639,)\n",
      "xtest shape: (1408,)\n"
     ]
    }
   ],
   "source": [
    "predictions_array = np.array(predictions)\n",
    "print(\"predicted_labels shape:\", predictions_array.shape)\n",
    "print(\"y_test shape:\", y_train.shape)\n",
    "print(\"xtest shape:\", y_test.shape)"
   ]
  },
  {
   "cell_type": "code",
   "execution_count": 32,
   "metadata": {},
   "outputs": [
    {
     "name": "stdout",
     "output_type": "stream",
     "text": [
      "Predicted Song Titles: ['Libertad', 'Libertad', 'Te He Querido, Te He Llorado', 'Felina', 'Dile']\n",
      "Actual Song Titles: ['Libertad' 'Libertad' 'Te He Querido, Te He Llorado'\n",
      " 'Te He Querido, Te He Llorado' 'Quiero Bailar']\n"
     ]
    }
   ],
   "source": [
    "print(f\"Predicted Song Titles: {y_pred[:5]}\")\n",
    "print(f\"Actual Song Titles: {y_test[:5]}\")\n"
   ]
  },
  {
   "cell_type": "markdown",
   "metadata": {},
   "source": [
    "### Evaluating Model\n",
    "\n",
    "#### 1. Use a confusion matrix:\n",
    "- checks how many mistakes model made for top 10 song labels\n"
   ]
  },
  {
   "cell_type": "code",
   "execution_count": 37,
   "metadata": {},
   "outputs": [
    {
     "name": "stdout",
     "output_type": "stream",
     "text": [
      "['Tití Me Preguntó', 'Propuesta Indecente', 'Gasolina', 'Yo Voy (feat. Daddy Yankee)', 'Yonaguni', 'Moscow Mule', 'Me Rehúso', 'Hasta el Amanecer', 'NI BIEN NI MAL', 'El Amante']\n"
     ]
    },
    {
     "data": {
      "image/png": "[encoded data removed]",
      "text/plain": [
       "<Figure size 1000x800 with 2 Axes>"
      ]
     },
     "metadata": {},
     "output_type": "display_data"
    }
   ],
   "source": [
    "from sklearn.metrics import confusion_matrix\n",
    "import seaborn as sns\n",
    "from collections import Counter\n",
    "\n",
    "# Extract top 20 most common labels\n",
    "label_counts = Counter(y_test)\n",
    "top_labels = [label for label, _ in label_counts.most_common(10)]  # adjust number as needed\n",
    "print(top_labels)\n",
    "\n",
    "cm = confusion_matrix(y_test, y_pred, labels=top_labels)\n",
    "plt.figure(figsize=(10, 8))\n",
    "sns.heatmap(cm, annot=True, fmt='d', cmap='Blues')\n",
    "plt.xlabel(\"Predicted Label\")\n",
    "plt.ylabel(\"True Label\")\n",
    "plt.title(\"Confusion Matrix\")\n",
    "plt.show()"
   ]
  },
  {
   "cell_type": "code",
   "execution_count": null,
   "metadata": {},
   "outputs": [
    {
     "data": {
      "text/plain": [
       "<Figure size 640x480 with 0 Axes>"
      ]
     },
     "metadata": {},
     "output_type": "display_data"
    }
   ],
   "source": [
    "# plt.savefig('plots/confusion_matrix_song+artist.png') "
   ]
  },
  {
   "cell_type": "markdown",
   "metadata": {},
   "source": [
    "#### Use an example song\n",
    "Example song: Salio El Sol by Don Omar   \n",
    "Song Index: 301 in training data\n",
    "Similar Song:\n"
   ]
  },
  {
   "cell_type": "code",
   "execution_count": null,
   "metadata": {},
   "outputs": [
    {
     "name": "stdout",
     "output_type": "stream",
     "text": [
      "Original input song it should map too: Dile by Don Omar\n",
      "Similar song we passed into model: Salió el Sol  by Don Omar\n",
      "Predicted song title: Hotel Room Service\n",
      "Actual? song title: Guatauba\n"
     ]
    }
   ],
   "source": [
    "#X = similar_song_Lyrics\n",
    "#similar_song_title - Song Title\n",
    "\n",
    "#Datapoint [0]\n",
    "print(f\"Original input song it should map too: {my_data_similar_df[\"title\"][301]} by {my_data_similar_df[\"artist\"][301]}\")\n",
    "print(f\"Similar song we passed into model: {my_data_similar_df[\"similar_track\"][301]}  by {my_data_similar_df[\"similar_artist\"][301]}\")\n",
    "print(f\"Predicted song title: {y_pred[301]}\")\n",
    "print(f\"Actual? song title: {y_train[301]}\")"
   ]
  },
  {
   "cell_type": "code",
   "execution_count": null,
   "metadata": {},
   "outputs": [
    {
     "name": "stdout",
     "output_type": "stream",
     "text": [
      "{'001': 0, '085 - Ao Vivo': 1, '1000 Oceans': 2, '11 PM': 3, '1st of Tha Month': 4, '23rd Street': 5, '3 Nights': 6, '3005': 7, '4Me 4Me': 8, '5 Letras': 9, \"5 MO' MINUTES\": 10, '505': 11, '777-666': 12, '8TEEN': 13, 'A Mí': 14, 'A Song For Mama': 15, 'A Ti No': 16, 'A Tu Merced': 17, 'ABALO EMOCIONAL - Ao Vivo': 18, 'ADMV': 19, 'ALIEN SUPERSTAR': 20, 'AMERIICAN REQUIEM': 21, 'Abusadora': 22, 'Across The Universe - Remastered 2009': 23, 'Add Up My Love': 24, 'Addicted': 25, 'Afraid': 26, 'After Hours': 27, \"Age Ain't Nothing But a Number\": 28, 'Agosto': 29, 'Ahora Es': 30, \"Ain't No Rest For The Wicked - Original Version\": 31, 'All My Life': 32, 'All Night': 33, 'Alocate': 34, 'Amarillo': 35, 'Ambitionz Az A Ridah': 36, 'American Idiot': 37, 'Amor Prohibido': 38, 'Angel in Disguise': 39, 'Angelina': 40, 'Angelito': 41, 'Another One Bites The Dust - Remastered 2011': 42, 'Another Way to Die': 43, 'Apocalypse': 44, 'Aqui Esta Tu Caldo': 45, 'Arabella': 46, 'Are You Ready?': 47, 'Are You That Somebody': 48, 'Art House': 49, 'Asylum': 50, 'Atrévete-Te-Te': 51, 'Ay Vamos': 52, 'Azul': 53, 'BABY SAID': 54, 'BMF': 55, 'Baby': 56, 'Baby Powder': 57, 'Back to the Old House - 2011 Remaster': 58, 'Baila Baila Baila': 59, 'Baila Morena - Live': 60, 'Balada - Ao Vivo': 61, 'Bandida': 62, 'Barbie Girl': 63, 'Basket Case': 64, 'Be My Lover': 65, 'Be My Own Boyfriend': 66, 'Be Without You - Kendu Mix': 67, \"Beat Dat Beat (It's Time To)\": 68, 'Beat It': 69, 'Beautiful Crazy': 70, 'Beautiful Girls': 71, 'Beautiful Monster': 72, 'Because Of You': 73, 'Bed': 74, \"Beggin'\": 75, 'Best Time': 76, 'Big Wheel': 77, 'Billie Jean': 78, 'Bills, Bills, Bills': 79, 'Birthday Bitch': 80, 'Blanco': 81, 'Bloqueado - Ao Vivo': 82, 'Blow': 83, 'Bobo': 84, 'Body Aint Me': 85, 'Bohemian Rhapsody - Remastered 2011': 86, 'Bonita': 87, 'Booty Up': 88, 'Bootylicious': 89, 'Borderline': 90, 'Borro Cassette': 91, 'Boulevard of Broken Dreams': 92, 'Bring Me To Life': 93, 'Broken Cash Machine': 94, 'Bumbum Granada': 95, 'Burn': 96, 'Bye Bye Bye': 97, 'C U Girl': 98, 'C.R.E.A.M. (Cash Rules Everything Around Me)': 99, 'CORALINE': 100, 'Cadeado': 101, 'Can We Talk': 102, \"Can't Help but Wait\": 103, \"Can't Take My Eyes Off of You - (I Love You Baby)\": 104, 'Candy': 105, 'Candy Perfume Girl': 106, 'Candy Rain': 107, 'Candy Shop': 108, 'Cannibal': 109, 'Captive Heart': 110, 'Careless Whisper': 111, 'Carry Out (Featuring Justin Timberlake)': 112, 'Case Of The Ex (Whatcha Gonna Do)': 113, 'Casimir Pulaski Day': 114, 'Chanel': 115, 'Cherry Bomb': 116, 'Cherry-coloured Funk': 117, 'Chicken Fried': 118, 'Chu Chu Pamela': 119, 'Circadian Rhythm': 120, 'Circles': 121, 'Ciudad de las Luces': 122, 'Columbia': 123, 'Come a Little Closer': 124, 'Come and Talk to Me - Remix': 125, 'Como La Flor': 126, 'Como Mirarte': 127, 'Complicated': 128, 'Confessions Part II': 129, 'Continuo Atardecer': 130, 'Corazón Sin Cara': 131, 'Crank That (Soulja Boy)': 132, 'Crazy In Love - Remix': 133, 'Cross My Mind': 134, 'Cry': 135, 'Cry For You': 136, 'Cry Me a River': 137, 'Crybaby': 138, 'Cuando Me Acerco A Ti': 139, 'Cumbia Sampuesana': 140, 'Cuéntale': 141, 'DArkSide': 142, 'DENIAL IS A RIVER': 143, 'Dale Don Dale': 144, 'Darte un Beso': 145, 'Day Tripper - Remastered 2015': 146, 'Dembow': 147, 'Después de la Playa': 148, 'Devotion': 149, 'Dia Azul': 150, 'Die Young': 151, 'Differences': 152, 'Dile': 153, 'Dile Que Tu Me Quieres': 154, 'Dime': 155, 'Disco': 156, 'Djadja': 157, 'Do For Love': 158, 'Do I Wanna Know?': 159, \"Doin' What It 'Pose 2Do\": 160, \"Don't Forget About Us\": 161, \"Don't Jump\": 162, \"Don't Stop The Music\": 163, \"Don't Threaten Me with a Good Time\": 164, 'Doncella': 165, 'Doomed': 166, 'Doses & Mimosas': 167, 'Down': 168, 'Down On Me': 169, 'Dreaming Of You': 170, 'Drown': 171, 'Dueño': 172, 'EL CLúB': 173, 'Earrings': 174, 'Easier': 175, 'Echo': 176, 'Efecto': 177, 'El Amante': 178, 'El Apagón': 179, 'El Chico Del Apartamento 512': 180, 'El Perdedor': 181, 'El Préstamo': 182, 'Eleanor Rigby - Remastered 2009': 183, 'Ella Me Levanto': 184, 'End Of The Road': 185, 'Enséñame a Bailar': 186, 'Envuelvete': 187, 'Eres Mía': 188, 'Esquece Pt. 2': 189, 'Estamos Bien': 190, 'Estoy Enamorado': 191, 'Every Breath You Take': 192, \"Everybody's Fool\": 193, 'Everyone Falls in Love': 194, 'FAMJAM4000': 195, 'FOR YOUR LOVE': 196, 'FUNK DO BOUNCE (Slowed)': 197, 'Face Down': 198, \"Fallin' All In You\": 199, 'Fantasma': 200, 'Fantasy': 201, 'Fanática Sensual': 202, 'Fazer Falta': 203, 'Feel Alright': 204, 'Feels So Right': 205, 'Felina': 206, 'Feliz Cumpleaños Ferxxo': 207, 'Ferxxo 100': 208, 'Fiel amiga': 209, 'Fire Burning': 210, 'Fit N Full': 211, 'Foolish': 212, 'Foreigner': 213, 'Frio': 214, 'GPS': 215, 'GYALIS': 216, 'Ganas De Ti': 217, 'Gasolina': 218, 'Get Crazy': 219, 'Get It Shawty': 220, 'Get Money': 221, 'Gimme! Gimme! Gimme! (A Man After Midnight)': 222, 'Girlfriend': 223, 'Girls': 224, 'Give It To Her': 225, 'Glad You Came': 226, 'Going Back to Cali - 2014 Remaster': 227, 'Going Under': 228, 'Good Life': 229, 'Good Looking': 230, 'Grind With Me': 231, 'Gris': 232, 'Guatauba': 233, 'HARD KNOCK LULLABY': 234, 'HONEY (ARE U COMING?)': 235, 'HP': 236, 'Hace Mucho Tiempo': 237, 'Hail Mary': 238, 'Harvey': 239, 'Hasta Abajo': 240, 'Hasta el Amanecer': 241, 'Hawái': 242, \"He Wasn't Man Enough\": 243, 'Heart-Shaped Box': 244, 'Heartless': 245, 'Heavy': 246, 'Her': 247, 'Hero': 248, \"Hey Daddy (Daddy's Home)\": 249, 'Holiday / Boulevard of Broken Dreams': 250, 'Honesty': 251, 'Honey': 252, 'Hotel Room Service': 253, 'How We Do': 254, 'How You Remind Me': 255, 'Hypnotize - 2007 Remaster': 256, 'I Gotta Feeling': 257, 'I Hate Everything About You': 258, 'I Have Nothing': 259, 'I Hope to Be Around': 260, 'I Know You Want Me (Calle Ocho)': 261, 'I Like It': 262, 'I Love You': 263, 'I WANNA BE YOUR SLAVE': 264, 'I Wanna Be Down': 265, 'I Wanna Be Yours': 266, 'I Wanna Dance with Somebody (Who Loves Me)': 267, 'I Wanna Know': 268, 'I Want To Hold Your Hand - Remastered 2015': 269, 'I Will Always Love You': 270, 'I Write Sins Not Tragedies': 271, 'I got it bad': 272, \"I'll Make Love To You\": 273, \"I'm Sprung\": 274, 'Ice Box': 275, 'If I Was Your Man': 276, 'Igual Que Ayer': 277, 'Impossible': 278, 'In A Good Way': 279, 'In Da Club': 280, 'In The End': 281, 'In Your Body': 282, 'Instagram': 283, 'Intercourse': 284, 'Irreplaceable': 285, 'It Was A Good Day': 286, 'Ivy': 287, 'Japanese Denim': 288, 'Julieta': 289, 'Julietota': 290, \"Jumpin', Jumpin'\": 291, 'Juna': 292, 'Junto Al Amanecer': 293, 'Just Dance': 294, 'Just a Friend 2002 - Radio Edit': 295, 'Karma': 296, 'Kholo Kholo': 297, 'Kill Bill': 298, 'Kill V. Maim': 299, 'Kill the Director': 300, 'Knee Socks': 301, \"L'Appuntamento\": 302, 'LA FINE': 303, 'LA PAURA DEL BUIO': 304, 'LALA': 305, 'La Bachata': 306, 'La Despedida': 307, 'La Difícil': 308, 'La Mala': 309, 'La Pregunta': 310, 'La Vida Es Así': 311, 'La Zona': 312, 'La player (Bandolera)': 313, 'Ladyfingers': 314, \"Lamb's Wool\": 315, 'Late Night Talking': 316, 'Let Me Love You': 317, 'Letter 2 My Unborn': 318, 'Libertad': 319, 'Like a Boy': 320, 'Like a Virgin': 321, 'Limbo': 322, \"Llamé Pa' Verte (Bailando Sexy)\": 323, 'Lo Que Pasó, Pasó': 324, 'Loba': 325, 'Locha-E-Ulfat': 326, 'Lonely': 327, 'Losing You': 328, 'Lost In My Bedroom': 329, 'Love': 330, 'Love Is Dead': 331, 'Love Love': 332, 'Love U 4 Life': 333, 'Love in the Time of Socialism': 334, 'Loving You': 335, 'Low': 336, 'MI EX TENÍA RAZÓN': 337, 'MONACO': 338, 'MUTT': 339, 'Machucando': 340, 'Made Niggaz': 341, 'Man Down': 342, 'Maneater': 343, 'Manha': 344, 'Marinero': 345, 'Mayor Que Yo': 346, 'Me & U': 347, 'Me Desvelo': 348, 'Me Estas Tentando': 349, 'Me Matas': 350, 'Me Quiere Besar': 351, 'Me Rehúso': 352, 'Merengue Electronico (Rompe Consola)': 353, 'Mi Fanatica': 354, 'Mia & Sebastian’s Theme': 355, 'Mia Completa': 356, 'Mice City': 357, 'Miel': 358, 'Mine Again': 359, 'Misery Business': 360, 'Miss Independent': 361, 'Monsoon - Gateway Version': 362, 'Morado': 363, 'More Than My Hometown': 364, 'Morocha': 365, 'Moscow Mule': 366, 'Motivation': 367, 'Moça': 368, 'Mr. Brightside': 369, 'Mr. Incorrect': 370, 'Ms. Jackson': 371, 'My Band': 372, 'Más humano': 373, 'Mírala Bien': 374, 'NI BIEN NI MAL': 375, 'Na Na Na (Na Na Na Na Na Na Na Na Na)': 376, 'Na Ponta Ela Fica': 377, 'Na Ponta do Pé 2': 378, 'Naive': 379, 'Naughty Girl': 380, 'Never Gonna Give You Up': 381, 'Never Leave You (Uh Oooh, Uh Oooh)': 382, 'Neverita': 383, 'Nice & Slow - Radio Version': 384, 'No Me Dejes Solo': 385, 'No One Noticed': 386, 'No Pares': 387, 'No Scrubs': 388, 'No Se Si Fue': 389, 'No Te Vayas': 390, 'No Te Veo - Remix': 391, 'No. 1 Party Anthem': 392, 'Noche de Travesura': 393, 'Normal': 394, 'Not Allowed': 395, 'Nothing but a Number': 396, 'Notorious Thugs - 2014 Remaster': 397, 'Numb': 398, \"Nuthin' but a G Thang\": 399, 'ORANGE SODA': 400, 'Oblivion': 401, 'Obsessed': 402, 'Off To The Races': 403, 'Ohnana': 404, 'On the Hotline - Amended Version': 405, 'One More Chance / Stay with Me - Remix; 2007 Remaster': 406, 'One More Hour': 407, 'One More Weekend': 408, 'One Wish': 409, 'Only Girl (In The World)': 410, 'Out of Bounds': 411, 'Over the Moon': 412, \"Pa' Que La Pases Bien\": 413, \"Pa' Que Retozen\": 414, 'Pam Pam': 415, 'Paper Planes': 416, 'Paradinha': 417, 'Pasarela': 418, 'Peaches & Cream': 419, 'Pegao': 420, 'Pepas': 421, 'Petals on the Moon': 422, 'Piel Canela': 423, 'Pobre Diabla': 424, \"Poppin' Them Thangs\": 425, 'Porque Me Tratas Así?': 426, 'Pose': 427, 'Pound The Alarm': 428, 'Pretend': 429, 'Pretty Girl': 430, 'Promiscuous': 431, 'Proposta': 432, 'Propuesta Indecente': 433, 'Pumped Up Kicks': 434, 'Puntos Suspensivos': 435, 'Quarto de Hotel': 436, 'Que Lloren': 437, 'Quem Pegou, Pegou - Ao Vivo': 438, 'Quer Voar': 439, 'Quiero Bailar': 440, 'Quiero Saber': 441, 'Radio': 442, 'Rain': 443, 'Rakata': 444, 'Rap God': 445, 'Ready, Set, Go!': 446, 'Rebota': 447, 'Red Nose': 448, 'Reflections': 449, 'Regulate': 450, 'Rhiannon': 451, 'Right Thurr': 452, 'Rincón': 453, 'Rock Wit U (Awww Baby)': 454, 'Rojo': 455, 'Roommates': 456, 'Rosa': 457, 'Runaway': 458, 'SORRY 4 THAT MUCH': 459, 'SOS': 460, 'Sailor Song': 461, 'Sal y Perrea': 462, 'Salió El Sol': 463, 'Santorini': 464, 'Say My Name': 465, 'Say You, Say Me': 466, 'Ser Bichote': 467, 'Sexual Healing': 468, 'Sexy Bitch (feat. Akon)': 469, 'Sexy Movimiento': 470, \"She's Kinda Hot\": 471, 'Shorty, Shorty': 472, 'Show Me How': 473, 'Shut up My Moms Calling': 474, 'Si': 475, 'Si Veo a Tu Mamá': 476, 'Simplesmente Ela': 477, 'Since U Been Gone': 478, 'Smells Like Teen Spirit': 479, 'Snap Out Of It': 480, 'So Anxious': 481, 'So Fresh, So Clean': 482, 'So Many Tears': 483, 'So Sick': 484, 'Softly': 485, 'Sola': 486, 'Solo Una Noche': 487, 'Somebody Told Me': 488, 'Someday': 489, 'Someday Faraway': 490, 'Someone Like You': 491, 'Someone You Loved': 492, 'Sorvete de Ovomaltine': 493, 'Soy Una Gargola': 494, 'Spanish Guitar': 495, 'Spring nicht': 496, 'Starships': 497, 'Steelo': 498, 'Stricken': 499, 'Suavemente': 500, 'Sugar': 501, 'Summer Vibe': 502, 'Sunbleach': 503, 'Super Bass': 504, 'Survivor': 505, 'Sweater Weather': 506, 'Sweet Dreams': 507, 'Swim': 508, 'Sympathy is a knife': 509, 'THE LONELIEST': 510, 'Taboo': 511, 'Take A Bow': 512, 'Take Me Where Your Heart Is': 513, 'Take You Down': 514, 'Te Extraño - Bachata Version': 515, 'Te Hago El Amor': 516, 'Te He Querido, Te He Llorado': 517, 'Te Lo Prometo': 518, 'Te Quiero': 519, 'Te Siento': 520, 'Teardrops': 521, 'Teenage Dirtbag': 522, 'Teenagers': 523, 'Tejano Blue': 524, 'Telescope': 525, 'Temperature': 526, 'Tempted To Touch': 527, 'Terrapin': 528, 'Tha Crossroads': 529, \"That's What I Like\": 530, 'The Adults Are Talking': 531, 'The Animal': 532, 'The Ballad of Mona Lisa': 533, 'The Complete Knock': 534, 'The Less I Know The Better': 535, 'The Mannequin Song': 536, 'The Spins': 537, 'The Vengeful One': 538, 'The Way I Talk': 539, 'There She Goes': 540, \"They Don't Know\": 541, 'This City': 542, 'Thriller': 543, 'Throne': 544, 'Thuggish Ruggish Bone': 545, 'Till the World Ends': 546, 'Title and Registration': 547, 'Tití Me Preguntó': 548, 'To Live & Die In L.A.': 549, 'Todo De Ti': 550, 'Touch My Body': 551, 'Toxic': 552, 'Travesuras': 553, 'Tus Vueltas': 554, 'Tuya Soy': 555, 'U Got It Bad': 556, 'U Remind Me': 557, 'Umbrella': 558, 'Un Beso': 559, 'Un Coco': 560, 'Un-Break My Heart': 561, 'Una Noche en Medellín': 562, 'Una Vaina Loca': 563, 'Unfoolish': 564, 'VACAXIONES': 565, 'VALENTINE': 566, 'Valerie - BBC Radio 1 Live Lounge': 567, 'Vete': 568, 'Vida de Rico': 569, 'Violent Crimes': 570, 'Volare': 571, 'Voltar à Bahia': 572, 'Vuelve': 573, 'Várias Queixas': 574, 'We Belong Together': 575, 'Weak': 576, 'Weightless': 577, 'Welcome to the Black Parade': 578, 'West Coast Love': 579, 'What If': 580, \"What's the Use?\": 581, 'Where Is The Love?': 582, 'Where the Wild Things Are': 583, \"Why'd You Only Call Me When You're High?\": 584, 'Windows Down': 585, 'With You': 586, 'Without You': 587, 'Womanizer': 588, 'Yeah You': 589, 'Yo (Excuse Me Miss)': 590, 'Yo Perreo Sola': 591, 'Yo Quiero Bailar': 592, 'Yo Te Quiero': 593, 'Yo Voy (feat. Daddy Yankee)': 594, 'Yonaguni': 595, 'You Know How We Do It': 596, \"You're Makin' Me High\": 597, 'Young Dumb & Broke': 598, 'Your Love Is Incredible': 599, 'Yours': 600, 'Zun Da Da': 601, 'best damn thing': 602, 'bouquet': 603, 'cómo dormiste?': 604, 'drivers license': 605, 'everything about her': 606, 'lovesick': 607, 'pretty': 608, 'zumzumzum': 609, '¿Do U Wanna Leave?': 610, '¿Y Eso?': 611, '¿por Que Te Demoras?': 612, 'Ô Moça': 613}\n"
     ]
    }
   ],
   "source": [
    "print(regression_model.label_mapping)"
   ]
  },
  {
   "cell_type": "code",
   "execution_count": null,
   "metadata": {},
   "outputs": [
    {
     "name": "stdout",
     "output_type": "stream",
     "text": [
      "Honey: 252\n"
     ]
    }
   ],
   "source": [
    "for key,val in regression_model.label_mapping.items():\n",
    "    if key == \"Honey\":\n",
    "        print(f\"{key}: {val}\")"
   ]
  },
  {
   "cell_type": "code",
   "execution_count": null,
   "metadata": {},
   "outputs": [],
   "source": [
    "for key,val in regression_model.label_mapping.items():\n",
    "    if key == \"Guatauba, Plan B\":\n",
    "        print(f\"{key}: {val}\")"
   ]
  },
  {
   "cell_type": "code",
   "execution_count": null,
   "metadata": {},
   "outputs": [],
   "source": [
    "#User Classified similarity labels:\n",
    "\n",
    "#Labels that are not similar to: Salio el Sol by Don Omar\n",
    "# 6 - 3 nights by Dominic Fike\n",
    "# 11 - 505 by Arctic Monkeys\n",
    "# 13 - 8TEEN by Khalid\n",
    "# 21 - American Requiem by Beyonce\n",
    "\n",
    "#Labels somewhat similar to : Salio el Sol by Don Omar\n",
    "# 17 - A Tu Merced, Bad Bunny\n",
    "# 19 - ADMV by Maluma\n",
    "#241 - Hasta el amanecer by Niki Jam"
   ]
  },
  {
   "cell_type": "code",
   "execution_count": null,
   "metadata": {},
   "outputs": [
    {
     "name": "stdout",
     "output_type": "stream",
     "text": [
      "(614,)\n"
     ]
    }
   ],
   "source": [
    "x = X_train[301]  # example TF-IDF row\n",
    "X = np.append(x,1)\n",
    "dot_product = np.dot(X, regression_model.weights.T)\n",
    "z_score = np.reshape(dot_product, (1, -1))\n",
    "prediction = regression_model._softmax(z_score)\n",
    "flatten_predictions = prediction.flatten()\n",
    "\n",
    "print(flatten_predictions.shape)\n"
   ]
  },
  {
   "cell_type": "code",
   "execution_count": null,
   "metadata": {},
   "outputs": [
    {
     "name": "stdout",
     "output_type": "stream",
     "text": [
      " predicted label: 3 Nights with prob 9.527819544925498e-05 at index 6\n",
      " predicted label: A Tu Merced with prob 0.001332318021548188 at index 17\n",
      " predicted label: ADMV with prob 0.0008861140516757389 at index 19\n",
      " predicted label: Hasta el Amanecer with prob 0.5426054767461772 at index 241\n",
      " predicted label: 505 with prob 0.00017164565856894544 at index 11\n",
      " predicted label: 8TEEN with prob 0.00015344773077070106 at index 13\n",
      " predicted label: AMERIICAN REQUIEM with prob 0.0001348993650118691 at index 21\n",
      " predicted label: Guatauba with prob 0.07098482509437237 at index 233\n",
      " predicted label: Dile Que Tu Me Quieres with prob 0.0014846153979623813 at index 154\n"
     ]
    }
   ],
   "source": [
    "potential_indices = [6,17,19,241,11,13,21, 233, 154]\n",
    "\n",
    "for index in potential_indices:\n",
    "        for key,val in regression_model.label_mapping.items():\n",
    "                if val == index:\n",
    "                        print(f\" predicted label: {key} with prob {flatten_predictions[index]} at index {index}\")"
   ]
  },
  {
   "cell_type": "code",
   "execution_count": null,
   "metadata": {},
   "outputs": [
    {
     "name": "stdout",
     "output_type": "stream",
     "text": [
      "the actual song it was trained with Guatauba\n"
     ]
    }
   ],
   "source": [
    "print(f\"the actual song it was trained with {y_train[301]}\")"
   ]
  },
  {
   "cell_type": "code",
   "execution_count": null,
   "metadata": {},
   "outputs": [
    {
     "name": "stdout",
     "output_type": "stream",
     "text": [
      " predicted label: Hasta el Amanecer with prob 0.5426054767461772 at index 241\n",
      " predicted label: El Perdedor with prob 0.07719454964472715 at index 181\n",
      " predicted label: Guatauba with prob 0.07098482509437237 at index 233\n",
      " predicted label: El Amante with prob 0.006792359881204341 at index 178\n",
      " predicted label: A Mí with prob 0.006306300087396189 at index 14\n",
      " predicted label: Un Coco with prob 0.005307319422850291 at index 560\n",
      " predicted label: Bobo with prob 0.00477830857212391 at index 84\n",
      " predicted label: Rojo with prob 0.00463304234657107 at index 455\n",
      " predicted label: Neverita with prob 0.004324352330295447 at index 383\n",
      " predicted label: Ser Bichote with prob 0.004051084740508641 at index 467\n"
     ]
    }
   ],
   "source": [
    "#The least predicted similar songs:\n",
    "\n",
    "X = np.append(x,1)\n",
    "dot_product = np.dot(X, regression_model.weights.T)\n",
    "\n",
    "z_score = np.reshape(dot_product, (1, -1))\n",
    "prediction = regression_model._softmax(z_score)\n",
    "flatten_predictions = prediction.flatten()\n",
    "top_10_indices = np.argsort(flatten_predictions)[-10:][::-1]  # sort and take top 10\n",
    "\n",
    "for index in top_10_indices:\n",
    "        for key,val in regression_model.label_mapping.items():\n",
    "                if val == index:\n",
    "                        print(f\" predicted label: {key} with prob {flatten_predictions[index]} at index {index}\")"
   ]
  },
  {
   "cell_type": "code",
   "execution_count": null,
   "metadata": {},
   "outputs": [
    {
     "name": "stdout",
     "output_type": "stream",
     "text": [
      "['Libertad' 'Libertad' 'Te He Querido, Te He Llorado'\n",
      " 'Te He Querido, Te He Llorado' 'Quiero Bailar' 'Quiero Bailar'\n",
      " 'Quiero Saber' 'Quiero Saber' 'Pegao' 'Pegao' 'Si' 'Si' 'Cuéntale'\n",
      " 'Cuéntale' 'Libertad' 'Libertad' 'Te He Querido, Te He Llorado'\n",
      " 'Te He Querido, Te He Llorado' 'Quiero Bailar' 'Quiero Bailar'\n",
      " 'Quiero Saber' 'Quiero Saber' 'Pegao' 'Pegao' 'Si' 'Si' 'Ganas De Ti'\n",
      " 'Ganas De Ti' 'Yo Voy (feat. Daddy Yankee)' 'Yo Voy (feat. Daddy Yankee)'\n",
      " 'Fanática Sensual' 'Fanática Sensual' 'Dale Don Dale' 'Doncella'\n",
      " 'Ahora Es' 'Ahora Es' 'Pam Pam' 'Pam Pam' \"Pa' Que La Pases Bien\"\n",
      " \"Pa' Que La Pases Bien\" 'Pobre Diabla' 'Pobre Diabla' 'Junto Al Amanecer'\n",
      " 'Junto Al Amanecer' 'Yo Quiero Bailar' 'Yo Quiero Bailar'\n",
      " \"Llamé Pa' Verte (Bailando Sexy)\" \"Llamé Pa' Verte (Bailando Sexy)\"\n",
      " 'Salió El Sol' 'Salió El Sol' 'Soy Una Gargola' 'Soy Una Gargola'\n",
      " 'Mayor Que Yo' 'Mayor Que Yo' '5 Letras' '5 Letras' 'Me Matas' 'Me Matas'\n",
      " 'Down' 'Down' 'Dile' 'Dile' \"Pa' Que Retozen\" \"Pa' Que Retozen\"\n",
      " 'Machucando' 'No Te Veo - Remix' 'Sexy Movimiento' 'Sexy Movimiento'\n",
      " 'Rakata' 'Rakata' 'Noche de Travesura' 'Noche de Travesura' 'Candy'\n",
      " 'Candy' 'Guatauba' 'Guatauba' 'Una Vaina Loca' 'Una Vaina Loca' 'Felina'\n",
      " 'Felina' 'No Me Dejes Solo' 'No Me Dejes Solo' 'Lo Que Pasó, Pasó'\n",
      " 'Lo Que Pasó, Pasó' 'Abusadora' 'Abusadora' 'Zun Da Da' 'Zun Da Da'\n",
      " 'No Pares' 'No Pares' 'Estoy Enamorado' 'Estoy Enamorado'\n",
      " 'Tempted To Touch' 'Tempted To Touch' 'Shorty, Shorty' 'Shorty, Shorty'\n",
      " 'Te Extraño - Bachata Version' 'Te Extraño - Bachata Version'\n",
      " 'Que Lloren' 'Que Lloren']\n"
     ]
    }
   ],
   "source": [
    "print(y_test[:100])"
   ]
  },
  {
   "cell_type": "code",
   "execution_count": null,
   "metadata": {},
   "outputs": [
    {
     "name": "stdout",
     "output_type": "stream",
     "text": [
      "[2915 2916 2917 2918 2919 2920 2921 2922]\n",
      "Fire Burning\n",
      "Fire Burning\n",
      "Fire Burning\n",
      "Fire Burning\n",
      "Fire Burning\n",
      "Fire Burning\n",
      "Fire Burning\n",
      "Fire Burning\n"
     ]
    }
   ],
   "source": [
    "#Trained on data:\n",
    "indices = np.where(y_train == 'Fire Burning')[0]\n",
    "\n",
    "print(indices)\n",
    "for i in indices:\n",
    "    print(y_train[i])\n",
    "    #print(my_data_similar_df[\"similar_track\"][i])"
   ]
  },
  {
   "cell_type": "code",
   "execution_count": null,
   "metadata": {},
   "outputs": [
    {
     "name": "stdout",
     "output_type": "stream",
     "text": [
      "Original input song it should map too: Your Love Is Incredible by Sisqo\n",
      "Similar song we passed into model: Enchantment Passing Through  by Dru Hill\n"
     ]
    }
   ],
   "source": [
    "#X = similar_song_Lyrics\n",
    "#similar_song_title - Song Title\n",
    "\n",
    "#Datapoint [0]\n",
    "print(f\"Original input song it should map too: {my_data_similar_df[\"title\"][2915]} by {my_data_similar_df[\"artist\"][2915]}\")\n",
    "print(f\"Similar song we passed into model: {my_data_similar_df[\"similar_track\"][2915]}  by {my_data_similar_df[\"similar_artist\"][2915]}\")"
   ]
  },
  {
   "cell_type": "code",
   "execution_count": null,
   "metadata": {},
   "outputs": [
    {
     "name": "stdout",
     "output_type": "stream",
     "text": [
      "Fire Burning\n",
      "Fire Burning\n"
     ]
    }
   ],
   "source": [
    "x = X_train[2915]  # example TF-IDF row\n",
    "print(y_train[2915])\n",
    "output = regression_model.predict(x)\n",
    "print(output)"
   ]
  },
  {
   "cell_type": "code",
   "execution_count": null,
   "metadata": {},
   "outputs": [
    {
     "name": "stdout",
     "output_type": "stream",
     "text": [
      " predicted label: Fire Burning with prob 0.05205498370811641 at index 210\n",
      " predicted label: THE LONELIEST with prob 0.012027389680578237 at index 510\n",
      " predicted label: Softly with prob 0.01152720106657678 at index 485\n",
      " predicted label: Te Extraño - Bachata Version with prob 0.009806290287976853 at index 515\n",
      " predicted label: The Complete Knock with prob 0.005752106099661162 at index 534\n",
      " predicted label: 3 Nights with prob 0.005743974344206676 at index 6\n",
      " predicted label: Promiscuous with prob 0.005697762933078683 at index 431\n",
      " predicted label: Every Breath You Take with prob 0.005695084692733766 at index 192\n",
      " predicted label: Show Me How with prob 0.005376829892442825 at index 473\n",
      " predicted label: Windows Down with prob 0.0052193869149868765 at index 585\n"
     ]
    }
   ],
   "source": [
    "#The top predicted similar songs:\n",
    "\n",
    "X = np.append(X_train[2915] ,1)\n",
    "dot_product = np.dot(X, regression_model.weights.T)\n",
    "\n",
    "z_score = np.reshape(dot_product, (1, -1))\n",
    "prediction = regression_model._softmax(z_score)\n",
    "flatten_predictions = prediction.flatten()\n",
    "top_10_indices = np.argsort(flatten_predictions)[-10:][::-1]  # sort and take top 10\n",
    "\n",
    "for index in top_10_indices:\n",
    "        for key,val in regression_model.label_mapping.items():\n",
    "                if val == index:\n",
    "                        print(f\" predicted label: {key} with prob {flatten_predictions[index]} at index {index}\")"
   ]
  },
  {
   "cell_type": "code",
   "execution_count": null,
   "metadata": {},
   "outputs": [],
   "source": [
    "#User Classified similarity labels:\n",
    "\n",
    "#Labels that are not similar to: FireBurning by Sean Kingston\n",
    "# 6 - 3 nights by Dominic Fike\n",
    "# 11 - 505 by Arctic Monkeys\n",
    "# 13 - 8TEEN by Khalid\n",
    "# 21 - American Requiem by Beyonce\n",
    "\n",
    "#Labels somewhat similar to : Fire burning by Sean Kingston\n",
    "# 336 - Low  by Flo Rida\n",
    "# 431 -Promiscuous\n",
    "# 294 -Just Dance"
   ]
  },
  {
   "cell_type": "code",
   "execution_count": null,
   "metadata": {},
   "outputs": [
    {
     "name": "stdout",
     "output_type": "stream",
     "text": [
      " predicted label: Honey with prob 0.0015809793905248858 at index 252\n",
      " predicted label: 505 with prob 0.0018105933823848205 at index 11\n",
      " predicted label: 8TEEN with prob 0.0009605162278557261 at index 13\n",
      " predicted label: AMERIICAN REQUIEM with prob 0.0015417831146828098 at index 21\n",
      " predicted label: Low with prob 0.0019053202960040067 at index 336\n",
      " predicted label: Promiscuous with prob 0.005697762933078683 at index 431\n",
      " predicted label: Just Dance with prob 0.0014423277824895334 at index 294\n"
     ]
    }
   ],
   "source": [
    "potential_indices = [252, 11, 13, 21, 336, 431, 294]\n",
    "\n",
    "for index in potential_indices:\n",
    "        for key,val in regression_model.label_mapping.items():\n",
    "                if val == index:\n",
    "                        print(f\" predicted label: {key} with prob {flatten_predictions[index]} at index {index}\")"
   ]
  },
  {
   "cell_type": "code",
   "execution_count": null,
   "metadata": {},
   "outputs": [
    {
     "name": "stdout",
     "output_type": "stream",
     "text": [
      "index is 210\n",
      "The probability for Fire Burning: was 0.05205498370811641\n",
      "index is 510\n",
      "The probability for THE LONELIEST: was 0.012027389680578237\n",
      "index is 485\n",
      "The probability for Softly: was 0.01152720106657678\n",
      "index is 515\n",
      "The probability for Te Extraño - Bachata Version: was 0.009806290287976853\n",
      "index is 534\n",
      "The probability for The Complete Knock: was 0.005752106099661162\n",
      "index is 6\n",
      "The probability for 3 Nights: was 0.005743974344206676\n",
      "index is 431\n",
      "The probability for Promiscuous: was 0.005697762933078683\n",
      "index is 192\n",
      "The probability for Every Breath You Take: was 0.005695084692733766\n",
      "index is 473\n",
      "The probability for Show Me How: was 0.005376829892442825\n",
      "index is 585\n",
      "The probability for Windows Down: was 0.0052193869149868765\n"
     ]
    }
   ],
   "source": [
    "\n",
    "\n",
    "for index in top_10_indices:\n",
    "    print(f\"index is {index}\")\n",
    "    for key,val in regression_model.label_mapping.items():\n",
    "        if val == index:\n",
    "            print(f\"The probability for {key}: was {flatten_predictions[index]}\")\n"
   ]
  }
 ],
 "metadata": {
  "kernelspec": {
   "display_name": "nlp",
   "language": "python",
   "name": "python3"
  },
  "language_info": {
   "codemirror_mode": {
    "name": "ipython",
    "version": 3
   },
   "file_extension": ".py",
   "mimetype": "text/x-python",
   "name": "python",
   "nbconvert_exporter": "python",
   "pygments_lexer": "ipython3",
   "version": "3.9.21"
  }
 },
 "nbformat": 4,
 "nbformat_minor": 2
}
