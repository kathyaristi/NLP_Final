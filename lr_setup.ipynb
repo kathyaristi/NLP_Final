{
 "cells": [
  {
   "cell_type": "code",
   "execution_count": 1,
   "metadata": {},
   "outputs": [],
   "source": [
    "\n",
    "import pandas as pd\n",
    "import numpy as np\n",
    "import lr_model as lr\n",
    "import model_utils as utils\n",
    "import matplotlib.pyplot as plt\n",
    "import time\n",
    "from sklearn.preprocessing import StandardScaler\n",
    "from sklearn.feature_extraction.text import TfidfVectorizer\n",
    "from sklearn.metrics import accuracy_score, precision_score, recall_score, f1_score\n",
    "from nltk.corpus import stopwords\n",
    "from nltk.tokenize import word_tokenize\n",
    "from nltk.stem import WordNetLemmatizer\n",
    "\n",
    "NUM_FEATURES = 1000\n",
    "NUM_ITERATIONS = 500\n",
    "NUM_TRAINING_EXAMPLES = 200\n",
    "LEARNING_RATE = 0.1"
   ]
  },
  {
   "cell_type": "code",
   "execution_count": 2,
   "metadata": {},
   "outputs": [
    {
     "name": "stdout",
     "output_type": "stream",
     "text": [
      "7047\n"
     ]
    }
   ],
   "source": [
    "#load the data, tuples\n",
    "my_data_similar_df = pd.read_csv(\"data/my_data_similar.csv\") \n",
    "print(len( my_data_similar_df))\n",
    "\n",
    "#Grab the lyrics and the corresponding similar song title\n",
    "#song_artist = my_data_similar_df['title'].astype(str) + \", \" +my_data_similar_df['artist'].astype(str)\n",
    "similar_lyrics, song_title = my_data_similar_df[\"lyrics\"].tolist(), my_data_similar_df['title'].tolist()\n"
   ]
  },
  {
   "cell_type": "code",
   "execution_count": 3,
   "metadata": {},
   "outputs": [],
   "source": [
    "#Process lyrics, lemmatize and remove stop words\n",
    "processed_lyrics = []\n",
    "for lyric in similar_lyrics:\n",
    "    processed_lyrics.append(utils.preprocess_sentence(lyric))"
   ]
  },
  {
   "cell_type": "code",
   "execution_count": 4,
   "metadata": {},
   "outputs": [],
   "source": [
    "# Vectorize the data using TF-IDF\n",
    "tfidf_vectorizer = TfidfVectorizer(max_features=NUM_FEATURES)\n",
    "tfidf_matrix = tfidf_vectorizer.fit_transform(processed_lyrics)\n",
    "\n",
    "#add in numeric features?\n",
    "#lyric_tfidf = tfidf_vectorizer.fit_transform(lyrics)\n",
    "#X = hstack([lyric_tfidf, numerical_features_sparse])\n",
    "\n",
    "tfidf_matrix = tfidf_matrix.toarray()\n"
   ]
  },
  {
   "cell_type": "code",
   "execution_count": 5,
   "metadata": {},
   "outputs": [],
   "source": [
    "# Scale the features using StandardScaler - Maybe not needed\n",
    "scaler = StandardScaler()\n",
    "X_scaled = scaler.fit_transform(tfidf_matrix)\n"
   ]
  },
  {
   "cell_type": "code",
   "execution_count": 6,
   "metadata": {},
   "outputs": [],
   "source": [
    "X_train, X_test, y_train, y_test = [], [], [], []\n"
   ]
  },
  {
   "cell_type": "code",
   "execution_count": 8,
   "metadata": {},
   "outputs": [],
   "source": [
    "#Split training and testing data\n",
    "\n",
    "for i in range(0, len(similar_lyrics), 10):  \n",
    "    X_train_chunk = X_scaled[i:i+8]  # Select 8 samples for training\n",
    "    X_test_chunk = X_scaled[i+8:i+10]  # Select 2 sample for testing\n",
    "    y_train_chunk = song_title[i:i+8]  # Corresponding labels for training\n",
    "    y_test_chunk = song_title[i+8:i+10]  # Corresponding label for testing\n",
    "    \n",
    "    # Append chunks to total lists\n",
    "    X_train.append(X_train_chunk)\n",
    "    X_test.append(X_test_chunk)\n",
    "    y_train.append(y_train_chunk)\n",
    "    y_test.append(y_test_chunk)\n",
    "\n",
    "X_train = np.vstack(X_train)\n",
    "X_test = np.vstack(X_test)\n",
    "y_train = np.hstack(y_train)\n",
    "y_test = np.hstack(y_test)\n"
   ]
  },
  {
   "cell_type": "code",
   "execution_count": 9,
   "metadata": {},
   "outputs": [
    {
     "name": "stdout",
     "output_type": "stream",
     "text": [
      "Training set size: [[-0.07494321 -0.09367645 -0.11311231 ... -0.06663206 -0.11013878\n",
      "  -0.16355722]\n",
      " [-0.07494321 -0.09367645 -0.11311231 ... -0.06663206 -0.11013878\n",
      "  -0.16355722]\n",
      " [-0.07494321 -0.09367645 -0.11311231 ... -0.06663206 -0.11013878\n",
      "  -0.16355722]\n",
      " [-0.07494321  0.90335975 -0.11311231 ... -0.06663206 -0.11013878\n",
      "  -0.16355722]\n",
      " [-0.07494321 -0.09367645 -0.11311231 ... -0.06663206 -0.11013878\n",
      "  -0.16355722]]\n",
      "labels for training set: ['Cuéntale' 'Cuéntale' 'Cuéntale' 'Cuéntale' 'Cuéntale']\n",
      "Testing set size: [[-0.07494321 -0.09367645 -0.11311231 ... -0.06663206 -0.11013878\n",
      "  -0.16355722]\n",
      " [-0.07494321 -0.09367645 -0.11311231 ... -0.06663206 -0.11013878\n",
      "  -0.16355722]\n",
      " [-0.07494321 -0.09367645 -0.11311231 ... -0.06663206 -0.11013878\n",
      "  -0.16355722]\n",
      " [-0.07494321  2.18307018 -0.11311231 ... -0.06663206 -0.11013878\n",
      "  -0.16355722]\n",
      " [-0.07494321 -0.09367645 -0.11311231 ... -0.06663206 -0.11013878\n",
      "  -0.16355722]]\n",
      "labels for training set: ['Libertad' 'Libertad' 'Te He Querido, Te He Llorado'\n",
      " 'Te He Querido, Te He Llorado' 'Quiero Bailar']\n"
     ]
    }
   ],
   "source": [
    "print(\"Training set size:\", X_train[:5])\n",
    "print(\"labels for training set:\", y_train[:5])\n",
    "print(\"Testing set size:\", X_test[:5])\n",
    "print(\"labels for training set:\", y_test[:5])\n"
   ]
  },
  {
   "cell_type": "code",
   "execution_count": 10,
   "metadata": {},
   "outputs": [
    {
     "name": "stdout",
     "output_type": "stream",
     "text": [
      "(7047, 1000)\n",
      "5.7\n"
     ]
    }
   ],
   "source": [
    "#Get shape and sparsity\n",
    "print(tfidf_matrix.shape)\n",
    "print(np.count_nonzero(tfidf_matrix[0])/len(tfidf_matrix[0])*100)"
   ]
  },
  {
   "cell_type": "code",
   "execution_count": 11,
   "metadata": {},
   "outputs": [
    {
     "name": "stdout",
     "output_type": "stream",
     "text": [
      "x shape: (5639, 1000)\n",
      "Training for 500 iterations\n",
      "class mappings:  {'001': 0, '085 - Ao Vivo': 1, '1000 Oceans': 2, '11 PM': 3, '1st of Tha Month': 4, '23rd Street': 5, '3 Nights': 6, '3005': 7, '4Me 4Me': 8, '5 Letras': 9, \"5 MO' MINUTES\": 10, '505': 11, '777-666': 12, '8TEEN': 13, 'A Mí': 14, 'A Song For Mama': 15, 'A Ti No': 16, 'A Tu Merced': 17, 'ABALO EMOCIONAL - Ao Vivo': 18, 'ADMV': 19, 'ALIEN SUPERSTAR': 20, 'AMERIICAN REQUIEM': 21, 'Abusadora': 22, 'Across The Universe - Remastered 2009': 23, 'Add Up My Love': 24, 'Addicted': 25, 'Afraid': 26, 'After Hours': 27, \"Age Ain't Nothing But a Number\": 28, 'Agosto': 29, 'Ahora Es': 30, \"Ain't No Rest For The Wicked - Original Version\": 31, 'All My Life': 32, 'All Night': 33, 'Alocate': 34, 'Amarillo': 35, 'Ambitionz Az A Ridah': 36, 'American Idiot': 37, 'Amor Prohibido': 38, 'Angel in Disguise': 39, 'Angelina': 40, 'Angelito': 41, 'Another One Bites The Dust - Remastered 2011': 42, 'Another Way to Die': 43, 'Apocalypse': 44, 'Aqui Esta Tu Caldo': 45, 'Arabella': 46, 'Are You Ready?': 47, 'Are You That Somebody': 48, 'Art House': 49, 'Asylum': 50, 'Atrévete-Te-Te': 51, 'Ay Vamos': 52, 'Azul': 53, 'BABY SAID': 54, 'BMF': 55, 'Baby': 56, 'Baby Powder': 57, 'Back to the Old House - 2011 Remaster': 58, 'Baila Baila Baila': 59, 'Baila Morena - Live': 60, 'Balada - Ao Vivo': 61, 'Bandida': 62, 'Barbie Girl': 63, 'Basket Case': 64, 'Be My Lover': 65, 'Be My Own Boyfriend': 66, 'Be Without You - Kendu Mix': 67, \"Beat Dat Beat (It's Time To)\": 68, 'Beat It': 69, 'Beautiful Crazy': 70, 'Beautiful Girls': 71, 'Beautiful Monster': 72, 'Because Of You': 73, 'Bed': 74, \"Beggin'\": 75, 'Best Time': 76, 'Big Wheel': 77, 'Billie Jean': 78, 'Bills, Bills, Bills': 79, 'Birthday Bitch': 80, 'Blanco': 81, 'Bloqueado - Ao Vivo': 82, 'Blow': 83, 'Bobo': 84, 'Body Aint Me': 85, 'Bohemian Rhapsody - Remastered 2011': 86, 'Bonita': 87, 'Booty Up': 88, 'Bootylicious': 89, 'Borderline': 90, 'Borro Cassette': 91, 'Boulevard of Broken Dreams': 92, 'Bring Me To Life': 93, 'Broken Cash Machine': 94, 'Bumbum Granada': 95, 'Burn': 96, 'Bye Bye Bye': 97, 'C U Girl': 98, 'C.R.E.A.M. (Cash Rules Everything Around Me)': 99, 'CORALINE': 100, 'Cadeado': 101, 'Can We Talk': 102, \"Can't Help but Wait\": 103, \"Can't Take My Eyes Off of You - (I Love You Baby)\": 104, 'Candy': 105, 'Candy Perfume Girl': 106, 'Candy Rain': 107, 'Candy Shop': 108, 'Cannibal': 109, 'Captive Heart': 110, 'Careless Whisper': 111, 'Carry Out (Featuring Justin Timberlake)': 112, 'Case Of The Ex (Whatcha Gonna Do)': 113, 'Casimir Pulaski Day': 114, 'Chanel': 115, 'Cherry Bomb': 116, 'Cherry-coloured Funk': 117, 'Chicken Fried': 118, 'Chu Chu Pamela': 119, 'Circadian Rhythm': 120, 'Circles': 121, 'Ciudad de las Luces': 122, 'Columbia': 123, 'Come a Little Closer': 124, 'Come and Talk to Me - Remix': 125, 'Como La Flor': 126, 'Como Mirarte': 127, 'Complicated': 128, 'Confessions Part II': 129, 'Continuo Atardecer': 130, 'Corazón Sin Cara': 131, 'Crank That (Soulja Boy)': 132, 'Crazy In Love - Remix': 133, 'Cross My Mind': 134, 'Cry': 135, 'Cry For You': 136, 'Cry Me a River': 137, 'Crybaby': 138, 'Cuando Me Acerco A Ti': 139, 'Cumbia Sampuesana': 140, 'Cuéntale': 141, 'DArkSide': 142, 'DENIAL IS A RIVER': 143, 'Dale Don Dale': 144, 'Darte un Beso': 145, 'Day Tripper - Remastered 2015': 146, 'Dembow': 147, 'Después de la Playa': 148, 'Devotion': 149, 'Dia Azul': 150, 'Die Young': 151, 'Differences': 152, 'Dile': 153, 'Dile Que Tu Me Quieres': 154, 'Dime': 155, 'Disco': 156, 'Djadja': 157, 'Do For Love': 158, 'Do I Wanna Know?': 159, \"Doin' What It 'Pose 2Do\": 160, \"Don't Forget About Us\": 161, \"Don't Jump\": 162, \"Don't Stop The Music\": 163, \"Don't Threaten Me with a Good Time\": 164, 'Doncella': 165, 'Doomed': 166, 'Doses & Mimosas': 167, 'Down': 168, 'Down On Me': 169, 'Dreaming Of You': 170, 'Drown': 171, 'Dueño': 172, 'EL CLúB': 173, 'Earrings': 174, 'Easier': 175, 'Echo': 176, 'Efecto': 177, 'El Amante': 178, 'El Apagón': 179, 'El Chico Del Apartamento 512': 180, 'El Perdedor': 181, 'El Préstamo': 182, 'Eleanor Rigby - Remastered 2009': 183, 'Ella Me Levanto': 184, 'End Of The Road': 185, 'Enséñame a Bailar': 186, 'Envuelvete': 187, 'Eres Mía': 188, 'Esquece Pt. 2': 189, 'Estamos Bien': 190, 'Estoy Enamorado': 191, 'Every Breath You Take': 192, \"Everybody's Fool\": 193, 'Everyone Falls in Love': 194, 'FAMJAM4000': 195, 'FOR YOUR LOVE': 196, 'FUNK DO BOUNCE (Slowed)': 197, 'Face Down': 198, \"Fallin' All In You\": 199, 'Fantasma': 200, 'Fantasy': 201, 'Fanática Sensual': 202, 'Fazer Falta': 203, 'Feel Alright': 204, 'Feels So Right': 205, 'Felina': 206, 'Feliz Cumpleaños Ferxxo': 207, 'Ferxxo 100': 208, 'Fiel amiga': 209, 'Fire Burning': 210, 'Fit N Full': 211, 'Foolish': 212, 'Foreigner': 213, 'Frio': 214, 'GPS': 215, 'GYALIS': 216, 'Ganas De Ti': 217, 'Gasolina': 218, 'Get Crazy': 219, 'Get It Shawty': 220, 'Get Money': 221, 'Gimme! Gimme! Gimme! (A Man After Midnight)': 222, 'Girlfriend': 223, 'Girls': 224, 'Give It To Her': 225, 'Glad You Came': 226, 'Going Back to Cali - 2014 Remaster': 227, 'Going Under': 228, 'Good Life': 229, 'Good Looking': 230, 'Grind With Me': 231, 'Gris': 232, 'Guatauba': 233, 'HARD KNOCK LULLABY': 234, 'HONEY (ARE U COMING?)': 235, 'HP': 236, 'Hace Mucho Tiempo': 237, 'Hail Mary': 238, 'Harvey': 239, 'Hasta Abajo': 240, 'Hasta el Amanecer': 241, 'Hawái': 242, \"He Wasn't Man Enough\": 243, 'Heart-Shaped Box': 244, 'Heartless': 245, 'Heavy': 246, 'Her': 247, 'Hero': 248, \"Hey Daddy (Daddy's Home)\": 249, 'Holiday / Boulevard of Broken Dreams': 250, 'Honesty': 251, 'Honey': 252, 'Hotel Room Service': 253, 'How We Do': 254, 'How You Remind Me': 255, 'Hypnotize - 2007 Remaster': 256, 'I Gotta Feeling': 257, 'I Hate Everything About You': 258, 'I Have Nothing': 259, 'I Hope to Be Around': 260, 'I Know You Want Me (Calle Ocho)': 261, 'I Like It': 262, 'I Love You': 263, 'I WANNA BE YOUR SLAVE': 264, 'I Wanna Be Down': 265, 'I Wanna Be Yours': 266, 'I Wanna Dance with Somebody (Who Loves Me)': 267, 'I Wanna Know': 268, 'I Want To Hold Your Hand - Remastered 2015': 269, 'I Will Always Love You': 270, 'I Write Sins Not Tragedies': 271, 'I got it bad': 272, \"I'll Make Love To You\": 273, \"I'm Sprung\": 274, 'Ice Box': 275, 'If I Was Your Man': 276, 'Igual Que Ayer': 277, 'Impossible': 278, 'In A Good Way': 279, 'In Da Club': 280, 'In The End': 281, 'In Your Body': 282, 'Instagram': 283, 'Intercourse': 284, 'Irreplaceable': 285, 'It Was A Good Day': 286, 'Ivy': 287, 'Japanese Denim': 288, 'Julieta': 289, 'Julietota': 290, \"Jumpin', Jumpin'\": 291, 'Juna': 292, 'Junto Al Amanecer': 293, 'Just Dance': 294, 'Just a Friend 2002 - Radio Edit': 295, 'Karma': 296, 'Kholo Kholo': 297, 'Kill Bill': 298, 'Kill V. Maim': 299, 'Kill the Director': 300, 'Knee Socks': 301, \"L'Appuntamento\": 302, 'LA FINE': 303, 'LA PAURA DEL BUIO': 304, 'LALA': 305, 'La Bachata': 306, 'La Despedida': 307, 'La Difícil': 308, 'La Mala': 309, 'La Pregunta': 310, 'La Vida Es Así': 311, 'La Zona': 312, 'La player (Bandolera)': 313, 'Ladyfingers': 314, \"Lamb's Wool\": 315, 'Late Night Talking': 316, 'Let Me Love You': 317, 'Letter 2 My Unborn': 318, 'Libertad': 319, 'Like a Boy': 320, 'Like a Virgin': 321, 'Limbo': 322, \"Llamé Pa' Verte (Bailando Sexy)\": 323, 'Lo Que Pasó, Pasó': 324, 'Loba': 325, 'Locha-E-Ulfat': 326, 'Lonely': 327, 'Losing You': 328, 'Lost In My Bedroom': 329, 'Love': 330, 'Love Is Dead': 331, 'Love Love': 332, 'Love U 4 Life': 333, 'Love in the Time of Socialism': 334, 'Loving You': 335, 'Low': 336, 'MI EX TENÍA RAZÓN': 337, 'MONACO': 338, 'MUTT': 339, 'Machucando': 340, 'Made Niggaz': 341, 'Man Down': 342, 'Maneater': 343, 'Manha': 344, 'Marinero': 345, 'Mayor Que Yo': 346, 'Me & U': 347, 'Me Desvelo': 348, 'Me Estas Tentando': 349, 'Me Matas': 350, 'Me Quiere Besar': 351, 'Me Rehúso': 352, 'Merengue Electronico (Rompe Consola)': 353, 'Mi Fanatica': 354, 'Mia & Sebastian’s Theme': 355, 'Mia Completa': 356, 'Mice City': 357, 'Miel': 358, 'Mine Again': 359, 'Misery Business': 360, 'Miss Independent': 361, 'Monsoon - Gateway Version': 362, 'Morado': 363, 'More Than My Hometown': 364, 'Morocha': 365, 'Moscow Mule': 366, 'Motivation': 367, 'Moça': 368, 'Mr. Brightside': 369, 'Mr. Incorrect': 370, 'Ms. Jackson': 371, 'My Band': 372, 'Más humano': 373, 'Mírala Bien': 374, 'NI BIEN NI MAL': 375, 'Na Na Na (Na Na Na Na Na Na Na Na Na)': 376, 'Na Ponta Ela Fica': 377, 'Na Ponta do Pé 2': 378, 'Naive': 379, 'Naughty Girl': 380, 'Never Gonna Give You Up': 381, 'Never Leave You (Uh Oooh, Uh Oooh)': 382, 'Neverita': 383, 'Nice & Slow - Radio Version': 384, 'No Me Dejes Solo': 385, 'No One Noticed': 386, 'No Pares': 387, 'No Scrubs': 388, 'No Se Si Fue': 389, 'No Te Vayas': 390, 'No Te Veo - Remix': 391, 'No. 1 Party Anthem': 392, 'Noche de Travesura': 393, 'Normal': 394, 'Not Allowed': 395, 'Nothing but a Number': 396, 'Notorious Thugs - 2014 Remaster': 397, 'Numb': 398, \"Nuthin' but a G Thang\": 399, 'ORANGE SODA': 400, 'Oblivion': 401, 'Obsessed': 402, 'Off To The Races': 403, 'Ohnana': 404, 'On the Hotline - Amended Version': 405, 'One More Chance / Stay with Me - Remix; 2007 Remaster': 406, 'One More Hour': 407, 'One More Weekend': 408, 'One Wish': 409, 'Only Girl (In The World)': 410, 'Out of Bounds': 411, 'Over the Moon': 412, \"Pa' Que La Pases Bien\": 413, \"Pa' Que Retozen\": 414, 'Pam Pam': 415, 'Paper Planes': 416, 'Paradinha': 417, 'Pasarela': 418, 'Peaches & Cream': 419, 'Pegao': 420, 'Pepas': 421, 'Petals on the Moon': 422, 'Piel Canela': 423, 'Pobre Diabla': 424, \"Poppin' Them Thangs\": 425, 'Porque Me Tratas Así?': 426, 'Pose': 427, 'Pound The Alarm': 428, 'Pretend': 429, 'Pretty Girl': 430, 'Promiscuous': 431, 'Proposta': 432, 'Propuesta Indecente': 433, 'Pumped Up Kicks': 434, 'Puntos Suspensivos': 435, 'Quarto de Hotel': 436, 'Que Lloren': 437, 'Quem Pegou, Pegou - Ao Vivo': 438, 'Quer Voar': 439, 'Quiero Bailar': 440, 'Quiero Saber': 441, 'Radio': 442, 'Rain': 443, 'Rakata': 444, 'Rap God': 445, 'Ready, Set, Go!': 446, 'Rebota': 447, 'Red Nose': 448, 'Reflections': 449, 'Regulate': 450, 'Rhiannon': 451, 'Right Thurr': 452, 'Rincón': 453, 'Rock Wit U (Awww Baby)': 454, 'Rojo': 455, 'Roommates': 456, 'Rosa': 457, 'Runaway': 458, 'SORRY 4 THAT MUCH': 459, 'SOS': 460, 'Sailor Song': 461, 'Sal y Perrea': 462, 'Salió El Sol': 463, 'Santorini': 464, 'Say My Name': 465, 'Say You, Say Me': 466, 'Ser Bichote': 467, 'Sexual Healing': 468, 'Sexy Bitch (feat. Akon)': 469, 'Sexy Movimiento': 470, \"She's Kinda Hot\": 471, 'Shorty, Shorty': 472, 'Show Me How': 473, 'Shut up My Moms Calling': 474, 'Si': 475, 'Si Veo a Tu Mamá': 476, 'Simplesmente Ela': 477, 'Since U Been Gone': 478, 'Smells Like Teen Spirit': 479, 'Snap Out Of It': 480, 'So Anxious': 481, 'So Fresh, So Clean': 482, 'So Many Tears': 483, 'So Sick': 484, 'Softly': 485, 'Sola': 486, 'Solo Una Noche': 487, 'Somebody Told Me': 488, 'Someday': 489, 'Someday Faraway': 490, 'Someone Like You': 491, 'Someone You Loved': 492, 'Sorvete de Ovomaltine': 493, 'Soy Una Gargola': 494, 'Spanish Guitar': 495, 'Spring nicht': 496, 'Starships': 497, 'Steelo': 498, 'Stricken': 499, 'Suavemente': 500, 'Sugar': 501, 'Summer Vibe': 502, 'Sunbleach': 503, 'Super Bass': 504, 'Survivor': 505, 'Sweater Weather': 506, 'Sweet Dreams': 507, 'Swim': 508, 'Sympathy is a knife': 509, 'THE LONELIEST': 510, 'Taboo': 511, 'Take A Bow': 512, 'Take Me Where Your Heart Is': 513, 'Take You Down': 514, 'Te Extraño - Bachata Version': 515, 'Te Hago El Amor': 516, 'Te He Querido, Te He Llorado': 517, 'Te Lo Prometo': 518, 'Te Quiero': 519, 'Te Siento': 520, 'Teardrops': 521, 'Teenage Dirtbag': 522, 'Teenagers': 523, 'Tejano Blue': 524, 'Telescope': 525, 'Temperature': 526, 'Tempted To Touch': 527, 'Terrapin': 528, 'Tha Crossroads': 529, \"That's What I Like\": 530, 'The Adults Are Talking': 531, 'The Animal': 532, 'The Ballad of Mona Lisa': 533, 'The Complete Knock': 534, 'The Less I Know The Better': 535, 'The Mannequin Song': 536, 'The Spins': 537, 'The Vengeful One': 538, 'The Way I Talk': 539, 'There She Goes': 540, \"They Don't Know\": 541, 'This City': 542, 'Thriller': 543, 'Throne': 544, 'Thuggish Ruggish Bone': 545, 'Till the World Ends': 546, 'Title and Registration': 547, 'Tití Me Preguntó': 548, 'To Live & Die In L.A.': 549, 'Todo De Ti': 550, 'Touch My Body': 551, 'Toxic': 552, 'Travesuras': 553, 'Tus Vueltas': 554, 'Tuya Soy': 555, 'U Got It Bad': 556, 'U Remind Me': 557, 'Umbrella': 558, 'Un Beso': 559, 'Un Coco': 560, 'Un-Break My Heart': 561, 'Una Noche en Medellín': 562, 'Una Vaina Loca': 563, 'Unfoolish': 564, 'VACAXIONES': 565, 'VALENTINE': 566, 'Valerie - BBC Radio 1 Live Lounge': 567, 'Vete': 568, 'Vida de Rico': 569, 'Violent Crimes': 570, 'Volare': 571, 'Voltar à Bahia': 572, 'Vuelve': 573, 'Várias Queixas': 574, 'We Belong Together': 575, 'Weak': 576, 'Weightless': 577, 'Welcome to the Black Parade': 578, 'West Coast Love': 579, 'What If': 580, \"What's the Use?\": 581, 'Where Is The Love?': 582, 'Where the Wild Things Are': 583, \"Why'd You Only Call Me When You're High?\": 584, 'Windows Down': 585, 'With You': 586, 'Without You': 587, 'Womanizer': 588, 'Yeah You': 589, 'Yo (Excuse Me Miss)': 590, 'Yo Perreo Sola': 591, 'Yo Quiero Bailar': 592, 'Yo Te Quiero': 593, 'Yo Voy (feat. Daddy Yankee)': 594, 'Yonaguni': 595, 'You Know How We Do It': 596, \"You're Makin' Me High\": 597, 'Young Dumb & Broke': 598, 'Your Love Is Incredible': 599, 'Yours': 600, 'Zun Da Da': 601, 'best damn thing': 602, 'bouquet': 603, 'cómo dormiste?': 604, 'drivers license': 605, 'everything about her': 606, 'lovesick': 607, 'pretty': 608, 'zumzumzum': 609, '¿Do U Wanna Leave?': 610, '¿Y Eso?': 611, '¿por Que Te Demoras?': 612, 'Ô Moça': 613}\n",
      "losses: 0.010456017798285217\n",
      "losses: 0.006103523214046761\n",
      "losses: 0.004121683235378299\n",
      "losses: 0.003076095317007592\n",
      "losses: 0.002499401650900613\n",
      "time: 145.32613277435303\n"
     ]
    }
   ],
   "source": [
    "#Use Logistic Regression from Homework\n",
    "regression_model = lr.LogisticRegression(LEARNING_RATE,NUM_ITERATIONS)\n",
    "print(f\"x shape: {X_train.shape}\")\n",
    "start_time = time.time()\n",
    "regression_model.train(X_train, y_train, True)\n",
    "end_time = time.time()\n",
    "\n",
    "print(f\"time: {end_time - start_time}\")"
   ]
  },
  {
   "cell_type": "code",
   "execution_count": 12,
   "metadata": {},
   "outputs": [
    {
     "name": "stdout",
     "output_type": "stream",
     "text": [
      "[-7.49432123e-02 -9.36764463e-02 -1.13112314e-01 -9.51628276e-02\n",
      " -9.30798743e-02 -1.07522473e-01  7.48587688e-01 -1.19536088e-01\n",
      " -1.06680755e-01 -6.51021954e-02 -6.04067810e-02  1.71018261e+00\n",
      " -1.44916719e-01 -2.91411241e-01 -1.21407410e-01 -1.74167069e-01\n",
      "  2.24664186e+00 -1.85280988e-01 -8.53521167e-02 -6.61900240e-02\n",
      " -1.68842366e-01  2.06692780e+00 -9.49086270e-02 -1.08131793e-01\n",
      " -1.92566784e-01 -1.12474499e-01 -1.12570924e-01 -1.45730605e-01\n",
      " -2.14498831e-01 -1.07115759e-01 -1.12708088e-01 -1.41548859e-01\n",
      " -1.33443551e-01  4.16795721e+00  3.84986567e+00 -1.50081384e-01\n",
      " -1.85463153e-01 -1.42353444e-01 -1.41390647e-01 -1.14707846e-01\n",
      " -2.29508834e-01 -7.52381295e-02 -1.17038456e-01 -2.46995334e-01\n",
      " -1.44731714e-01 -1.30475319e-01  6.19347943e-01  2.45414967e+00\n",
      " -2.33022426e-01  1.71887666e+00 -1.04757079e-01 -1.09122312e-01\n",
      " -1.18290357e-01 -1.32317525e-01 -4.42329662e-01 -3.03284351e-01\n",
      " -1.82105035e-01 -1.35061703e-01 -1.47938250e-01 -1.24507316e-01\n",
      " -1.09301510e-01 -1.13937921e-01 -6.13869591e-02 -7.25106365e-02\n",
      " -1.18928141e-01 -2.01298794e-01 -1.30421962e-01 -1.17511552e-01\n",
      " -1.67788570e-01 -1.37437704e-01 -1.77307826e-01 -8.23512188e-02\n",
      " -2.08645234e-01 -9.70052239e-02 -2.67665307e-01 -1.46459161e-01\n",
      " -5.53244507e-02 -8.96244647e-02 -1.64982661e-01 -1.26148981e-01\n",
      " -1.07055688e-01 -1.18107702e-01 -1.57388763e-01 -1.78401300e-01\n",
      " -7.95862846e-02 -1.04857959e-01 -6.33614907e-02 -6.52072804e-02\n",
      " -6.61575774e-02 -8.38703441e-02 -1.62961098e-01 -2.06809051e-01\n",
      " -2.19105104e-01 -9.44719851e-02 -5.46549824e-01 -1.23626775e-01\n",
      " -1.16833219e-01 -1.02125286e-01 -7.14849673e-02 -1.13406577e-01\n",
      " -9.09835704e-02 -9.89870245e-02 -8.67568015e-02  2.64460817e+00\n",
      "  2.28989686e+00 -1.30034002e-01 -1.63828716e-01 -8.01542631e-02\n",
      " -3.76969509e-02 -8.67157353e-02 -2.13498712e-01  2.20521773e+00\n",
      " -9.94144640e-02 -1.04297395e-01  1.17260440e+00 -1.53257427e-01\n",
      " -1.64431579e-01 -1.27907979e-01 -3.60874883e-01 -1.57835652e-01\n",
      " -1.65873733e-01 -1.61866129e-01  1.96331881e+00 -8.11243651e-02\n",
      " -8.76262772e-02 -1.08887429e-01 -4.42812551e-01  1.88835894e+00\n",
      " -1.76408526e-01 -1.09491406e-01 -1.05681995e-01 -9.50470279e-02\n",
      " -8.34580611e-01 -1.43403156e-01 -1.03714305e-01 -1.20450586e-01\n",
      " -1.67002271e-01 -8.81698313e-02 -1.17458737e-01 -1.08520359e-01\n",
      " -9.44205928e-02 -1.19875387e-01 -1.19228079e-01 -3.12345699e-01\n",
      " -1.30757760e-01 -1.28087848e-01  3.02595422e+00  2.16962478e+00\n",
      "  6.85700557e-01 -1.07661808e-01 -2.01253990e-01  9.76603629e-01\n",
      " -1.18569308e-01  1.09310995e+00 -1.01775148e-01  8.84878864e-01\n",
      "  3.16568175e+00 -1.54519826e-01 -2.86035659e-01 -1.31987816e-01\n",
      " -1.43544082e-01 -1.31464425e-01 -1.56551802e-01  1.10102302e+00\n",
      "  2.57705488e+00  3.13011999e+00  9.38537762e-01 -1.29045808e-01\n",
      " -1.22344980e-01 -8.11006422e-02  4.83431496e-01 -1.89825933e-01\n",
      " -4.36358960e-02 -1.70040893e-01 -1.77441002e-01 -1.61583356e-01\n",
      " -1.57768218e-01 -1.36479797e-01 -1.37431840e-01 -1.23986943e-01\n",
      " -1.09510359e-01 -1.32800607e-01 -2.54148239e-01  2.38100941e+00\n",
      " -1.06430306e-01 -9.07756630e-02 -1.45596900e-01 -1.30160194e-01\n",
      " -1.78751950e-01 -1.19056829e-01  1.84189168e+00 -6.80089185e-02\n",
      " -5.57448918e-02 -1.17734206e-01 -1.63365693e-01 -1.38833244e-01\n",
      " -1.44669355e-01 -1.08704863e-01  1.03200473e+00 -1.58734453e-01\n",
      " -1.55805307e-01 -1.57838685e-01 -1.16252453e-01 -1.18769572e-01\n",
      "  1.99541785e+00 -1.22767398e-01 -1.23059700e-01 -1.62958307e-01\n",
      "  2.30736573e+00 -4.26552015e-02 -1.21481530e-01  6.59864255e+00\n",
      " -9.27723372e-02 -1.61646918e-01 -1.10818394e-01  3.76729950e+00\n",
      " -1.28634187e-01 -1.31779725e-01 -1.05323427e-01  1.48421779e+00\n",
      " -1.74879351e-01 -4.92977070e-01 -1.37042337e-01 -1.24709959e-01\n",
      " -8.49046191e-02 -8.51901615e-02 -1.62870491e-01 -1.22416819e-01\n",
      " -1.18770888e-01 -1.33778578e-01 -1.04146397e-01 -1.29603545e-01\n",
      " -1.09296337e-01 -2.04677194e-01 -1.58350140e-01 -1.53188675e-01\n",
      " -6.35919085e-02 -1.25414075e-01 -2.56119459e-01 -1.47578495e-01\n",
      " -1.02112697e-01  1.73780993e+00 -9.34437133e-02  1.51344187e-01\n",
      " -1.54104850e-01 -1.98399766e-01  6.02344076e-01 -1.80252894e-01\n",
      " -1.47464680e-01 -1.17972318e-01 -1.31037123e-01 -1.69845070e-01\n",
      " -1.61295477e-01  1.82020181e+00 -2.50017570e-01  2.09103308e+00\n",
      " -2.86443362e-01 -9.68993145e-02 -1.26329776e-01  5.75091698e+00\n",
      " -1.43751345e-01 -1.57243565e-01 -1.47931330e-01  6.18022568e+00\n",
      "  1.38278057e+00 -2.56273993e-01 -1.71604027e-01 -2.66884729e-01\n",
      " -1.59198915e-01 -2.06041368e-01 -1.50798750e-01 -2.27929931e-01\n",
      " -2.21696560e-01 -2.54185911e-01 -1.43869596e-01 -2.10363152e-01\n",
      " -2.30424949e-01 -2.45717725e-01 -1.70971723e-01 -1.87401462e-01\n",
      " -1.09272331e-01 -1.17572172e-01 -1.34087966e-01 -1.05116108e-01\n",
      " -1.16774761e-01 -1.08113148e-01 -3.31511066e-01 -1.54506220e-01\n",
      " -1.94313812e-01 -8.69307512e-02  2.05085241e+00 -1.13403305e-01\n",
      " -1.43306139e-01  7.46392613e-01 -1.44184799e-01 -1.30834184e-01\n",
      " -2.03436631e-01 -1.35711647e-01 -1.90529536e-01 -1.42975811e-01\n",
      " -1.09578014e-01 -1.16955315e-01 -1.43164756e-01 -1.49731527e-01\n",
      " -1.25895600e-01 -1.56396992e-01 -8.47119736e-02 -1.43201867e-01\n",
      " -2.03642470e-01 -1.06363933e-01 -2.05992637e-01 -1.99320781e-01\n",
      " -1.47653547e-01  2.32506102e+00 -1.28379089e-01 -1.22557551e-01\n",
      " -8.97679436e-02 -1.21217552e-01 -1.11570630e-01 -1.36093305e-01\n",
      " -1.26704596e-01 -1.40747217e-01 -1.60056982e-01 -1.32568761e-01\n",
      " -1.16581010e-01 -1.25530433e-01 -1.23929257e-01 -1.39072178e-01\n",
      " -3.85670315e-01 -1.39631146e-01 -1.33191478e-01 -8.61401865e-02\n",
      " -6.49826237e-02 -3.07439513e-01 -2.65411517e-01 -3.74240000e-01\n",
      " -1.47226062e-01 -1.29883281e-01 -1.61987063e-01 -2.81398953e-01\n",
      " -1.51272769e-01 -2.37287300e-01 -1.07738253e-01 -4.16868556e-01\n",
      " -9.20524228e-02 -1.42643385e-01 -9.07238428e-02 -2.00816320e-01\n",
      " -1.18962663e-01 -7.96638142e-02  9.42148112e-01  7.47365257e-01\n",
      "  1.06099546e+00 -1.12262521e-01 -1.35231712e-01 -1.33538574e-01\n",
      " -1.74517875e-01 -1.26545829e-01 -1.19725676e-01 -1.15742368e-01\n",
      " -8.61777309e-02 -2.37697338e-01 -8.35730614e-02 -1.07936546e-01\n",
      " -2.17540869e-01  8.48976241e-01 -1.23567919e-01  6.82708058e-01\n",
      " -1.15552561e-01 -2.14905967e-01 -1.94667785e-01 -1.30253013e-01\n",
      " -2.39997847e-01 -9.38260010e-02 -6.73263107e-02 -1.25717056e-01\n",
      " -1.40025604e-01 -2.03380614e-01 -1.07124884e-01 -1.24741350e-01\n",
      " -1.49320508e-01  8.85725623e+00 -1.83047484e-01 -1.22300806e-01\n",
      " -7.93452932e-02 -2.03597865e-01  3.89489724e+00 -2.02771441e-01\n",
      " -9.62879075e-02 -7.34546671e-02 -1.48000240e-01 -1.12791069e-01\n",
      " -1.45807473e-01 -1.44284237e-01  1.36944299e+00 -1.06501870e-01\n",
      " -1.41244550e-01 -7.58795465e-02 -1.00631875e-01 -5.64032421e-02\n",
      " -1.70307313e-01 -1.29154401e-01 -3.11292909e-01 -5.36358355e-01\n",
      " -1.37724439e-01 -1.45633888e-01 -1.74628682e-01 -2.12499839e-01\n",
      " -1.50405677e-01  3.33309663e+00  1.48661749e+00 -1.07325803e-01\n",
      " -2.71215673e-01 -1.96267094e-01 -1.21724155e-01 -9.19306453e-02\n",
      " -7.56415960e-02  4.81591292e+00 -2.56379444e-01 -7.64975136e-02\n",
      " -1.33873310e-01 -1.04579135e-01 -1.22955121e-01 -1.17992947e-01\n",
      " -9.50253313e-02 -1.61208881e-01 -1.68668863e-01 -5.01568620e-01\n",
      " -9.23640388e-02  1.68585566e+00 -1.56519950e-01 -4.90912209e-02\n",
      " -1.93847461e-01 -1.15295946e-01 -1.17136199e-01  4.52533082e-01\n",
      " -2.16925104e-01 -8.59685165e-02 -1.87733481e-01 -1.00139874e-01\n",
      " -1.17570563e-01 -9.26916562e-02 -8.84952583e-02 -8.81078847e-03\n",
      " -5.38156555e-02 -1.64786639e-01 -2.64417001e-01 -1.79264964e-01\n",
      " -4.44447700e-01 -8.78599322e-02  8.06542570e+00 -1.29456061e-01\n",
      " -1.24263422e-01 -1.40787143e-01 -2.09460021e-01 -1.63015212e-01\n",
      " -9.60439190e-02 -1.04492866e-01 -1.69687021e-01 -1.29180544e-01\n",
      " -1.02287393e-01  1.31460868e+00  1.95534120e+00  1.06420508e-01\n",
      "  1.15602686e+00  1.10723790e+00 -1.10092805e-01 -1.84837766e-01\n",
      " -2.42950366e-01 -1.59995819e-01 -1.25198600e-01 -8.23487492e-02\n",
      "  1.39758129e+00 -1.49739609e-01 -1.47748702e-01 -1.08974395e-01\n",
      " -4.08320473e-01 -1.09611877e-01 -9.58907100e-02 -1.01204693e-01\n",
      " -1.16787635e-01 -8.49841218e-02 -2.23255017e-01 -3.83452967e-01\n",
      "  1.29602847e+00 -4.53120020e-01  1.61341698e+00 -1.07426791e-01\n",
      " -1.98179716e-01 -1.00827600e-01 -3.60267567e-01 -1.02531831e-01\n",
      " -1.15455764e-01 -1.92937482e-01 -1.07989067e-01 -1.02423910e-01\n",
      " -1.03915683e-01 -1.11926430e-01 -7.72543803e-02 -2.80742881e-01\n",
      " -2.46524436e-01 -1.46457345e-01 -8.02036761e-02 -1.38889326e-01\n",
      " -1.27033757e-01 -1.16578121e-01 -1.69894140e-01 -1.65591253e-01\n",
      " -1.83416602e-01 -1.06073835e-01 -1.16152552e-01 -1.96615006e-01\n",
      " -1.06893306e-01 -1.67411674e-01 -1.10343441e-01 -9.63714960e-02\n",
      "  3.41818105e+00 -1.34253852e-01 -1.14689212e-01 -1.43433325e-01\n",
      " -1.11266047e-01 -2.41455324e-01 -1.59318816e-01 -1.13359744e-01\n",
      " -1.05706590e-01  2.93527036e+00 -1.08231650e-01 -1.08154681e-01\n",
      "  2.11618697e+00 -1.33907982e-01 -1.19451945e-01 -1.49552089e-01\n",
      " -6.34227989e-02 -1.07544857e-01  2.38356359e+00 -1.58384593e-01\n",
      " -1.23116369e-01 -1.15792106e-01 -9.45301344e-02 -1.72353660e-01\n",
      " -7.59661243e-02 -1.98347289e-01 -1.83149266e-01  1.17036964e+00\n",
      "  1.54606881e+00 -1.42071887e-01 -1.13107366e-01  1.84225256e+00\n",
      " -1.35411547e-01  1.45017987e+00  8.58606407e-01 -1.35830603e-01\n",
      " -1.15889174e-01 -6.94478370e-02 -1.27810879e-01 -4.29846374e-01\n",
      "  7.27066335e-01 -2.26969939e-01 -9.58715939e-02 -1.57988616e-01\n",
      " -4.75832968e-02 -7.54694220e-02 -3.22546641e-01 -6.78547185e-02\n",
      " -1.81953117e-01 -3.41444773e-01 -1.83671087e-01 -1.58538105e-01\n",
      "  9.88462365e-01 -9.49199329e-02 -1.73275518e-01 -2.82351044e-01\n",
      "  3.07879569e+00 -1.41128987e-01 -2.61524093e-01 -1.48824518e-01\n",
      " -1.68167352e-01 -1.39834704e-01 -1.86986419e-01 -9.20054535e-02\n",
      " -1.09979467e-01 -1.55502122e-01 -1.34596447e-01 -1.03957896e-01\n",
      "  3.62226926e+00 -1.34540674e-01 -3.89699623e-02 -9.19565134e-02\n",
      " -4.42205047e-01 -1.80594990e-01 -1.47536949e-01 -6.68828028e-02\n",
      " -7.63660812e-02 -1.32155453e-01 -1.43799320e-01 -1.50185194e-01\n",
      "  1.53627664e+00 -9.00366710e-02 -3.45991279e-01 -2.44620072e-01\n",
      " -1.00120803e-01 -1.46940091e-01 -1.98409401e-01 -1.76669601e-01\n",
      "  4.21571823e-01 -1.82812116e-01 -9.06762107e-02 -1.53798924e-02\n",
      " -1.40580803e-01 -1.58995516e-01 -1.43373762e-01 -1.33002084e-01\n",
      "  1.45697775e+00 -9.96218706e-02 -1.25451274e-01 -1.71281529e-01\n",
      " -9.04749117e-02  2.25392036e+00 -9.38075909e-02 -1.14114674e-01\n",
      " -1.11011637e-01 -1.12365421e-01 -5.79112306e-02 -7.07975557e-02\n",
      " -1.48501077e-01 -1.03940716e-01 -1.47405134e-01 -1.44778228e-01\n",
      " -1.35605976e-01 -1.31978753e-01  6.30351468e-01 -8.33644563e-02\n",
      " -1.00547880e-01 -1.42281628e-01 -1.42229593e-01 -1.87632027e-01\n",
      " -1.51382169e-01  1.97713558e+00 -1.37345308e-01 -1.63916059e-01\n",
      " -1.31512098e-01 -1.84238416e-01 -1.99541617e-01 -1.22808443e-01\n",
      " -7.71977002e-02 -1.87300247e-01 -1.25161446e-01 -8.95768030e-02\n",
      "  2.41378002e+00  7.18549461e-01 -4.82138232e-02 -2.74161178e-01\n",
      " -2.33222907e-01 -1.15626454e-01 -4.53983684e-01 -3.85962875e-01\n",
      " -1.10078761e-01 -5.84493681e-02 -1.32216849e-01 -7.79941957e-02\n",
      " -1.18524069e-01 -1.17011328e-01 -1.75662067e-01 -1.03765783e-01\n",
      " -1.98430562e-01  1.90111452e+00 -1.33651044e-01 -1.27196235e-01\n",
      " -2.03668644e-01  8.58090867e-01 -1.44627222e-01 -7.70793064e-02\n",
      " -1.50686327e-01 -1.28028564e-01 -1.66194476e-01 -1.09393455e-01\n",
      " -2.19302026e-01 -1.31401967e-01 -1.84200474e-01 -3.29547219e-01\n",
      " -1.40612208e-01 -8.25700239e-02  6.64907636e+00  7.47120788e-01\n",
      " -9.60991933e-02 -1.05093501e-01 -4.61855545e-02 -9.24325068e-02\n",
      " -1.22882807e-01 -9.11717193e-02 -1.07253336e-01 -1.96687093e-01\n",
      " -1.57319676e-01 -1.93469194e-01 -2.12695374e-01 -1.18413189e-01\n",
      " -1.41929058e-01 -1.03134041e-01 -1.00032352e-01 -1.76101499e-01\n",
      " -2.39822514e-01 -1.46211934e-01 -7.58185314e-02 -8.90412163e-02\n",
      " -1.31153866e-01 -1.24062726e-01 -1.50148855e-01 -1.68522116e-01\n",
      " -3.25973771e-01 -6.93455533e-02 -1.10062165e-01 -8.35877789e-02\n",
      " -1.08727897e-01 -1.26155979e-01 -1.11582575e-01  3.38802639e+00\n",
      " -7.70273052e-02 -1.27201064e-01 -1.38492426e-01 -1.44773563e-01\n",
      " -8.91636104e-02 -1.50826121e-01 -9.05644432e-02 -1.13619169e-01\n",
      " -2.66254406e-01 -1.13421039e-01 -1.47976908e-01  1.45180586e+00\n",
      " -2.64802233e-01 -1.41679793e-01 -9.98349218e-02 -1.16951183e-01\n",
      " -1.20710573e-01 -3.46347267e-01 -1.19702284e-01 -4.74976962e-02\n",
      "  4.64481822e-01  1.19749028e+00 -1.45143244e-01 -3.87857369e-01\n",
      " -1.17385967e-01 -1.28356448e-01 -1.44110485e-01 -5.80747187e-02\n",
      " -1.23338479e-01 -2.30054524e-01 -1.31064157e-01 -1.20650980e-01\n",
      " -1.17307223e-01  2.11166171e+00 -1.32668556e-01 -6.23243290e-02\n",
      " -9.73571715e-02 -1.58593891e-01 -1.97479859e-01 -9.29842274e-02\n",
      " -1.18599782e-01 -8.76713236e-02 -2.12510788e-01 -8.26695268e-02\n",
      "  1.11360814e+00 -9.94992950e-02 -1.90194854e-01  9.06796536e-01\n",
      " -1.36328885e-01 -1.01043901e-01 -2.04122059e-01 -1.34733813e-01\n",
      " -1.50670566e-01 -3.05298603e-01 -1.27116631e-01 -1.25685891e-01\n",
      " -1.95360172e-01 -1.17028338e-01 -1.49752067e-01 -1.44045040e-01\n",
      " -1.33133592e-01 -1.21791275e-01 -1.15777063e-01 -1.56274875e-01\n",
      " -1.45253197e-01 -1.19704660e-01 -2.96615135e-01 -1.45985923e-01\n",
      " -1.63159030e-01 -1.28728674e-01 -1.72719042e-01 -1.23061601e-01\n",
      " -1.10934741e-01 -2.48150668e-01 -1.99587153e-01 -1.07878193e-01\n",
      " -1.41332740e-01 -1.21777835e-01 -1.49909997e-01  4.44731710e-01\n",
      " -1.21885354e-01 -1.14913756e-01 -1.24140610e-01 -1.64919892e-01\n",
      " -1.04408093e-01 -2.06942582e-01 -9.95030857e-02 -1.05475615e-01\n",
      " -2.17333675e-01 -7.93399006e-02 -2.06164401e-01 -1.15196586e-01\n",
      " -1.30689981e-01 -1.21169373e-01  4.77742334e-01 -1.23392919e-01\n",
      " -1.12264998e-01 -6.24658558e-02 -9.96495042e-02 -1.35072496e-01\n",
      " -1.10657138e-01  5.11199586e+00 -1.01309955e-01 -7.77631848e-02\n",
      " -1.16777822e-01 -3.02305981e-01  8.06624426e-01 -1.03471927e-01\n",
      " -1.20383450e-01 -2.41736534e-01 -3.12028443e-01 -1.59022250e-01\n",
      " -1.19706235e-01 -1.19153084e-01  1.11107887e+00 -1.82788841e-01\n",
      " -1.49802876e-01 -1.09557275e-01  2.99029661e+00 -1.34741489e-01\n",
      " -2.91515320e-01 -1.38033040e-01 -1.13638601e-01 -2.31351383e-01\n",
      " -2.41141112e-01 -2.42879026e-01 -1.29998525e-01 -2.84413695e-01\n",
      " -2.91282064e-01 -9.07026817e-02 -1.19748634e-01 -1.56948585e-01\n",
      " -2.29316462e-01 -1.66312711e-01 -1.19842653e-01 -3.06153591e-01\n",
      " -2.09204885e-01 -2.76570329e-01 -2.00732081e-01 -1.09979763e-01\n",
      " -1.87638461e-01 -3.93711488e-01 -1.01712388e-01 -1.35151071e-01\n",
      " -1.15389053e-01 -1.07436284e-01 -1.74469544e-01 -1.27632198e-01\n",
      "  6.33008807e-01 -1.44636998e-01 -1.33133967e-01 -1.85416446e-01\n",
      " -7.33952610e-02 -2.05142273e-01 -1.58903381e-01 -1.37312582e-01\n",
      " -1.52088294e-01 -1.12799860e-01 -1.55284274e-01 -1.12775851e-01\n",
      " -1.11267391e-01 -1.19712651e-01 -1.11802651e-01 -1.26073569e-01\n",
      " -1.44160528e-01 -1.64526058e-01 -1.04286033e-01 -1.27015483e-01\n",
      " -1.93150934e-01 -1.12603445e-01 -1.39743922e-01 -1.51267014e-01\n",
      "  3.17170074e+00 -1.48289009e-01 -8.08153393e-02 -1.93794252e-01\n",
      "  9.41454540e-01 -1.69437843e-01 -2.09025346e-01 -1.10822322e-01\n",
      " -1.39091266e-01 -8.97117888e-02  1.63949066e+00 -2.26795263e-01\n",
      " -1.01091371e-01 -6.67003306e-02 -1.11386083e-01 -1.26482715e-01\n",
      "  4.15370487e+00  3.87274979e+00 -1.29501091e-01 -1.56477519e-01\n",
      " -1.57654238e-01 -5.72326086e-02 -1.39500932e-01 -1.05117277e-01\n",
      " -2.96368356e-01 -9.98176859e-02 -1.78917723e-01 -1.49359231e-01\n",
      " -1.17937332e-01 -9.83955132e-02 -6.35721480e-02  1.35105156e+00\n",
      " -1.66298007e-01 -2.49903333e-01  7.14603343e+00 -7.24291127e-01\n",
      "  2.14828636e+00 -1.55657604e-01 -1.91292411e-01  2.66039333e+00\n",
      "  1.67130279e+00 -1.19262037e-01 -1.16726845e-01 -1.38470192e-01\n",
      " -9.75853114e-02 -1.24171938e-01 -9.28939301e-02  4.80813092e-01\n",
      " -9.00846493e-02 -1.17107872e-01 -1.59752265e-01 -9.49428804e-02\n",
      " -1.27010132e-01 -1.06927365e-01 -1.53012218e-01 -1.18847515e-01\n",
      " -3.44367806e-01 -3.39131623e-01 -1.15457287e-01 -9.61594545e-02\n",
      " -1.53022686e-01 -3.20965276e-01 -2.43182228e-01 -1.41597402e-01\n",
      " -9.92789286e-02  9.16926002e-01 -6.62846402e-02 -1.20826708e-01\n",
      " -1.10898951e-01 -8.80128816e-02 -1.49303245e-01 -5.31636017e-02\n",
      " -1.50938279e-01 -1.64119921e-01 -7.05687819e-02 -1.79893041e-01\n",
      " -1.44859550e-01 -1.16899574e-01 -1.14240393e-01 -1.21897319e-01\n",
      " -2.57245133e-01 -1.36496775e-01 -1.74869566e-01 -1.51231769e-01\n",
      " -2.19328428e-01 -1.18720230e-01 -9.09734186e-02 -2.21009010e-01\n",
      " -1.15877413e-01 -1.14201416e-01  1.03784825e+00 -1.57134728e-01\n",
      "  1.12990741e-01 -1.35518227e-01 -1.28878302e-01 -1.57552644e-01\n",
      " -1.33294016e-01 -4.28275180e-01 -1.24233957e-01 -1.38177837e-01\n",
      " -1.32268592e-01 -1.45901042e-01 -4.92273940e-02  2.28006943e+00\n",
      " -1.49780914e-01 -1.93462188e-01 -1.26919780e-01 -3.74727777e-01\n",
      " -1.75993047e-01 -6.66320558e-02 -1.10138783e-01 -1.63557221e-01]\n",
      "Libertad\n",
      "Libertad\n"
     ]
    }
   ],
   "source": [
    "#Test predicting funtion\n",
    "print(X_test[0])\n",
    "output = regression_model.predict(X_test[0])\n",
    "print(output)\n",
    "print(y_test[0])\n"
   ]
  },
  {
   "cell_type": "code",
   "execution_count": 13,
   "metadata": {},
   "outputs": [
    {
     "name": "stdout",
     "output_type": "stream",
     "text": [
      "Predicted Song Titles: ['Libertad', 'Libertad', 'Te He Querido, Te He Llorado', 'Felina', 'Dile', 'Pepas', 'Baila Morena - Live', 'Pegao', 'Quiero Saber', \"Llamé Pa' Verte (Bailando Sexy)\"]\n",
      "Actual Song Titles: ['Libertad' 'Libertad' 'Te He Querido, Te He Llorado'\n",
      " 'Te He Querido, Te He Llorado' 'Quiero Bailar' 'Quiero Bailar'\n",
      " 'Quiero Saber' 'Quiero Saber' 'Pegao' 'Pegao']\n",
      "accuracy score = 0.18323863636363635\n",
      "precision score = 0.13743736702729323\n",
      "recall score = 0.18323863636363635\n",
      "f1 score = 0.147086655660455\n"
     ]
    },
    {
     "name": "stderr",
     "output_type": "stream",
     "text": [
      "/Users/0wner/Documents/Northeastern/Academic/S25/NLP/HW4/.conda/lib/python3.12/site-packages/sklearn/metrics/_classification.py:1565: UndefinedMetricWarning: Precision is ill-defined and being set to 0.0 in labels with no predicted samples. Use `zero_division` parameter to control this behavior.\n",
      "  _warn_prf(average, modifier, f\"{metric.capitalize()} is\", len(result))\n",
      "/Users/0wner/Documents/Northeastern/Academic/S25/NLP/HW4/.conda/lib/python3.12/site-packages/sklearn/metrics/_classification.py:1565: UndefinedMetricWarning: Recall is ill-defined and being set to 0.0 in labels with no true samples. Use `zero_division` parameter to control this behavior.\n",
      "  _warn_prf(average, modifier, f\"{metric.capitalize()} is\", len(result))\n"
     ]
    }
   ],
   "source": [
    "y_pred =[]\n",
    "\n",
    "for test_plot in X_test:\n",
    "  y_pred.append(regression_model.predict(test_plot))\n",
    "\n",
    "print(f\"Predicted Song Titles: {y_pred[:10]}\")\n",
    "print(f\"Actual Song Titles: {y_test[:10]}\")\n",
    "\n",
    "\n",
    "a_score = accuracy_score(y_test, y_pred)\n",
    "p_score = precision_score(y_test, y_pred, average='weighted')\n",
    "r_score = recall_score(y_test, y_pred, average='weighted')\n",
    "f_score = f1_score(y_test, y_pred, average='weighted')\n",
    "#ocab_size = classifier.get_vocab_size()\n",
    "print(f\"accuracy score = {a_score}\")\n",
    "print(f\"precision score = {p_score}\")\n",
    "print(f\"recall score = {r_score}\")\n",
    "print(f\"f1 score = {f_score}\")\n"
   ]
  },
  {
   "cell_type": "code",
   "execution_count": 14,
   "metadata": {},
   "outputs": [
    {
     "name": "stdout",
     "output_type": "stream",
     "text": [
      "Predicted Song Titles: ['Libertad', 'Libertad', 'Te He Querido, Te He Llorado', 'Felina', 'Dile', 'Pepas', 'Baila Morena - Live', 'Pegao', 'Quiero Saber', \"Llamé Pa' Verte (Bailando Sexy)\"]\n",
      "Actual Song Titles: ['Libertad' 'Libertad' 'Te He Querido, Te He Llorado'\n",
      " 'Te He Querido, Te He Llorado' 'Quiero Bailar' 'Quiero Bailar'\n",
      " 'Quiero Saber' 'Quiero Saber' 'Pegao' 'Pegao']\n"
     ]
    }
   ],
   "source": [
    "print(f\"Predicted Song Titles: {y_pred[:10]}\")\n",
    "print(f\"Actual Song Titles: {y_test[:10]}\")\n"
   ]
  },
  {
   "cell_type": "markdown",
   "metadata": {},
   "source": [
    "### Evaluating Model\n",
    "\n",
    "Use a confusion matrix:\n",
    "- ##### predicts the correct song title\n",
    "- ##### mistakes one class for another\n"
   ]
  },
  {
   "cell_type": "code",
   "execution_count": null,
   "metadata": {},
   "outputs": [],
   "source": []
  },
  {
   "cell_type": "code",
   "execution_count": 15,
   "metadata": {},
   "outputs": [
    {
     "name": "stdout",
     "output_type": "stream",
     "text": [
      "Counter({'Tití Me Preguntó': 12, 'Propuesta Indecente': 10, 'Gasolina': 10, 'Yo Voy (feat. Daddy Yankee)': 8, 'Yonaguni': 8, 'Moscow Mule': 8, 'Me Rehúso': 8, 'Hasta el Amanecer': 8, 'NI BIEN NI MAL': 8, 'El Amante': 8, 'Rakata': 6, 'Candy': 6, 'Sola': 6, 'Softly': 6, 'THE LONELIEST': 6, 'Amor Prohibido': 6, 'Ferxxo 100': 6, 'Yo Perreo Sola': 6, 'I Know You Want Me (Calle Ocho)': 6, 'Hotel Room Service': 6, 'Pepas': 6, 'Title and Registration': 6, 'El Préstamo': 6, 'Gris': 6, 'La player (Bandolera)': 6, 'Bobo': 6, 'El Perdedor': 6, \"That's What I Like\": 6, 'Travesuras': 5, 'Libertad': 4, 'Te He Querido, Te He Llorado': 4, 'Quiero Bailar': 4, 'Quiero Saber': 4, 'Pegao': 4, 'Si': 4, 'Salió El Sol': 4, 'Dile': 4, \"Pa' Que Retozen\": 4, 'Promiscuous': 4, 'Borro Cassette': 4, 'Corazón Sin Cara': 4, 'Ella Me Levanto': 4, 'Instagram': 4, 'VACAXIONES': 4, 'GYALIS': 4, 'Red Nose': 4, 'Ser Bichote': 4, 'SOS': 4, 'Temperature': 4, 'Starships': 4, 'Juna': 4, 'HP': 4, '11 PM': 4, 'Morado': 4, 'Honesty': 4, \"Fallin' All In You\": 4, 'Como Mirarte': 4, 'Someone You Loved': 4, '3 Nights': 4, 'No Te Vayas': 4, 'This City': 4, 'Rojo': 4, 'Pretend': 4, 'Blanco': 4, 'Darte un Beso': 4, 'Azul': 4, 'ADMV': 4, 'Amarillo': 4, 'Puntos Suspensivos': 4, 'Baila Baila Baila': 4, 'Rosa': 4, 'Rhiannon': 4, '3005': 4, 'Rain': 4, \"Can't Take My Eyes Off of You - (I Love You Baby)\": 4, 'Shut up My Moms Calling': 4, 'The Mannequin Song': 4, \"Ain't No Rest For The Wicked - Original Version\": 4, 'Come a Little Closer': 4, 'Telescope': 4, 'Love in the Time of Socialism': 4, \"Lamb's Wool\": 4, 'My Band': 4, 'Mr. Brightside': 4, 'Suavemente': 4, 'Love': 4, 'Vida de Rico': 4, 'Todo De Ti': 4, 'Body Aint Me': 3, 'I Want To Hold Your Hand - Remastered 2015': 3, 'Loba': 3, 'Limbo': 3, 'Cuéntale': 2, 'Ganas De Ti': 2, 'Fanática Sensual': 2, 'Ahora Es': 2, 'Pam Pam': 2, \"Pa' Que La Pases Bien\": 2, 'Pobre Diabla': 2, 'Junto Al Amanecer': 2, 'Yo Quiero Bailar': 2, \"Llamé Pa' Verte (Bailando Sexy)\": 2, 'Soy Una Gargola': 2, 'Mayor Que Yo': 2, '5 Letras': 2, 'Me Matas': 2, 'Down': 2, 'Sexy Movimiento': 2, 'Noche de Travesura': 2, 'Guatauba': 2, 'Una Vaina Loca': 2, 'Felina': 2, 'No Me Dejes Solo': 2, 'Lo Que Pasó, Pasó': 2, 'Abusadora': 2, 'Zun Da Da': 2, 'No Pares': 2, 'Estoy Enamorado': 2, 'Tempted To Touch': 2, 'Shorty, Shorty': 2, 'Te Extraño - Bachata Version': 2, 'Que Lloren': 2, 'Igual Que Ayer': 2, 'Fantasma': 2, 'Me Estas Tentando': 2, 'La Vida Es Así': 2, 'Te Quiero': 2, 'Hace Mucho Tiempo': 2, 'Alocate': 2, 'La Pregunta': 2, 'Porque Me Tratas Así?': 2, 'Dime': 2, 'Tuya Soy': 2, 'Pose': 2, 'Un Beso': 2, 'Aqui Esta Tu Caldo': 2, 'Mírala Bien': 2, 'A Ti No': 2, 'Hasta Abajo': 2, 'Bandida': 2, 'Te Siento': 2, 'Me Quiere Besar': 2, 'Dembow': 2, 'Yo Te Quiero': 2, 'Bonita': 2, 'Envuelvete': 2, '¿por Que Te Demoras?': 2, 'No Se Si Fue': 2, 'Solo Una Noche': 2, 'Angelito': 2, 'Piel Canela': 2, 'Baila Morena - Live': 2, 'Fiel amiga': 2, 'Mia Completa': 2, 'Over the Moon': 2, 'Sugar': 2, 'Mice City': 2, 'Heavy': 2, 'Numb': 2, 'I Hope to Be Around': 2, 'In A Good Way': 2, 'Bumbum Granada': 2, 'Paradinha': 2, 'Fazer Falta': 2, '777-666': 2, 'Quer Voar': 2, 'Sorvete de Ovomaltine': 2, 'Manha': 2, 'Love Love': 2, 'Booty Up': 2, 'Várias Queixas': 2, 'Proposta': 2, 'Dia Azul': 2, 'Balada - Ao Vivo': 2, 'ABALO EMOCIONAL - Ao Vivo': 2, 'Quem Pegou, Pegou - Ao Vivo': 2, 'Na Ponta do Pé 2': 2, 'Na Ponta Ela Fica': 2, 'Cadeado': 2, 'Frio': 2, 'Esquece Pt. 2': 2, 'Angelina': 2, 'Moça': 2, 'zumzumzum': 2, 'FUNK DO BOUNCE (Slowed)': 2, 'Drown': 2, 'Holiday / Boulevard of Broken Dreams': 2, 'Girls': 2, 'How You Remind Me': 2, 'lovesick': 2, 'Teenagers': 2, 'Welcome to the Black Parade': 2, 'Heart-Shaped Box': 2, 'Stricken': 2, 'The Vengeful One': 2, 'Another Way to Die': 2, 'The Animal': 2, 'Asylum': 2, 'I Write Sins Not Tragedies': 2, 'In The End': 2, 'Na Na Na (Na Na Na Na Na Na Na Na Na)': 2, 'The Ballad of Mona Lisa': 2, 'I Hate Everything About You': 2, 'American Idiot': 2, \"Don't Threaten Me with a Good Time\": 2, \"Don't Jump\": 2, 'Ready, Set, Go!': 2, 'I WANNA BE YOUR SLAVE': 2, \"Beggin'\": 2, 'HONEY (ARE U COMING?)': 2, '505': 2, 'Do I Wanna Know?': 2, 'I Wanna Be Yours': 2, \"Why'd You Only Call Me When You're High?\": 2, 'VALENTINE': 2, 'The Less I Know The Better': 2, 'Borderline': 2, '1000 Oceans': 2, 'Love Is Dead': 2, 'Spring nicht': 2, 'What If': 2, 'Reflections': 2, 'BABY SAID': 2, 'FOR YOUR LOVE': 2, 'Somebody Told Me': 2, \"Everybody's Fool\": 2, 'Are You Ready?': 2, 'LA FINE': 2, 'LA PAURA DEL BUIO': 2, 'Knee Socks': 2, 'Snap Out Of It': 2, 'Arabella': 2, 'Misery Business': 2, 'Easier': 2, 'Tejano Blue': 2, 'Cry': 2, 'Apocalypse': 2, 'Bring Me To Life': 2, 'Sweater Weather': 2, 'Going Under': 2, 'Afraid': 2, 'Boulevard of Broken Dreams': 2, 'DArkSide': 2, 'Teardrops': 2, 'Doomed': 2, 'Throne': 2, 'With You': 2, 'Irreplaceable': 2, 'Someone Like You': 2, 'Bye Bye Bye': 2, 'Let Me Love You': 2, 'We Belong Together': 2, 'Survivor': 2, 'Womanizer': 2, 'Pumped Up Kicks': 2, 'Cry Me a River': 2, 'Heartless': 2, 'Crazy In Love - Remix': 2, 'Tha Crossroads': 2, '1st of Tha Month': 2, 'Since U Been Gone': 2, 'Umbrella': 2, 'Say My Name': 2, 'Rap God': 2, \"Doin' What It 'Pose 2Do\": 2, 'Where Is The Love?': 2, 'Without You': 2, 'Un-Break My Heart': 2, 'I Have Nothing': 2, 'I Will Always Love You': 2, 'Hero': 2, 'A Song For Mama': 2, \"I'll Make Love To You\": 2, 'Say You, Say Me': 2, 'Foolish': 2, 'Be Without You - Kendu Mix': 2, 'Me & U': 2, 'U Remind Me': 2, 'Motivation': 2, 'No Scrubs': 2, 'Ms. Jackson': 2, 'I Wanna Dance with Somebody (Who Loves Me)': 2, 'Be My Lover': 2, 'Sweet Dreams': 2, 'Like a Virgin': 2, 'Beat It': 2, 'Thriller': 2, 'Never Gonna Give You Up': 2, 'Sexual Healing': 2, 'One Wish': 2, 'Do For Love': 2, 'Runaway': 2, 'Good Life': 2, 'So Fresh, So Clean': 2, 'Ice Box': 2, 'Beautiful Monster': 2, 'One More Chance / Stay with Me - Remix; 2007 Remaster': 2, 'It Was A Good Day': 2, \"Nuthin' but a G Thang\": 2, 'Crank That (Soulja Boy)': 2, 'Because Of You': 2, 'Yo (Excuse Me Miss)': 2, 'I Wanna Know': 2, 'Fantasy': 2, \"Don't Forget About Us\": 2, 'Circles': 2, 'Mine Again': 2, 'Dreaming Of You': 2, 'Lonely': 2, \"I'm Sprung\": 2, 'Loving You': 2, 'Love U 4 Life': 2, \"They Don't Know\": 2, 'Bed': 2, 'Cry For You': 2, 'Take You Down': 2, 'Pretty Girl': 2, 'Take A Bow': 2, 'Man Down': 2, 'Obsessed': 2, 'Touch My Body': 2, 'Miss Independent': 2, 'U Got It Bad': 2, 'Burn': 2, 'End Of The Road': 2, 'Hypnotize - 2007 Remaster': 2, \"He Wasn't Man Enough\": 2, 'To Live & Die In L.A.': 2, 'Differences': 2, \"You're Makin' Me High\": 2, 'Spanish Guitar': 2, 'Letter 2 My Unborn': 2, \"Can't Help but Wait\": 2, 'Steelo': 2, 'Rock Wit U (Awww Baby)': 2, 'Unfoolish': 2, 'Bills, Bills, Bills': 2, 'Candy Rain': 2, 'Addicted': 2, 'Come and Talk to Me - Remix': 2, 'So Many Tears': 2, 'Feels So Right': 2, 'Confessions Part II': 2, 'Peaches & Cream': 2, 'Get It Shawty': 2, 'Never Leave You (Uh Oooh, Uh Oooh)': 2, 'Feel Alright': 2, 'Like a Boy': 2, 'Case Of The Ex (Whatcha Gonna Do)': 2, 'So Anxious': 2, 'Your Love Is Incredible': 2, 'Regulate': 2, 'All My Life': 2, 'How We Do': 2, 'Get Money': 2, 'Are You That Somebody': 2, \"Hey Daddy (Daddy's Home)\": 2, \"Age Ain't Nothing But a Number\": 2, 'I Wanna Be Down': 2, 'Every Breath You Take': 2, 'Grind With Me': 2, 'If I Was Your Man': 2, 'Angel in Disguise': 2, 'Right Thurr': 2, 'Going Back to Cali - 2014 Remaster': 2, 'Naughty Girl': 2, 'Made Niggaz': 2, 'Nothing but a Number': 2, 'Everyone Falls in Love': 2, 'Give It To Her': 2, 'Doses & Mimosas': 2, 'Young Dumb & Broke': 2, '8TEEN': 2, 'Harvey': 2, 'The Way I Talk': 2, 'Late Night Talking': 2, 'Chicken Fried': 2, 'More Than My Hometown': 2, 'Beautiful Crazy': 2, 'Where the Wild Things Are': 2, 'Crybaby': 2, 'Foreigner': 2, 'Sympathy is a knife': 2, 'Karma': 2, 'West Coast Love': 2, \"What's the Use?\": 2, 'Someday Faraway': 2, 'Summer Vibe': 2, 'Good Looking': 2, 'Petals on the Moon': 2, 'Como La Flor': 2, 'La Bachata': 2, 'Normal': 2, 'Dile Que Tu Me Quieres': 2, 'Feliz Cumpleaños Ferxxo': 2, 'Eres Mía': 2, 'LALA': 2, 'MONACO': 2, 'Columbia': 2, 'MI EX TENÍA RAZÓN': 2, 'Ohnana': 2, 'Down On Me': 2, 'Get Crazy': 2, 'Only Girl (In The World)': 2, \"Don't Stop The Music\": 2, 'Fire Burning': 2, 'Rebota': 2, 'Die Young': 2, 'Pound The Alarm': 2, 'I Like It': 2, 'Blow': 2, 'Cannibal': 2, 'Bootylicious': 2, 'Just Dance': 2, 'Till the World Ends': 2, 'Glad You Came': 2, \"L'Appuntamento\": 2, 'I Love You': 2, 'Cherry-coloured Funk': 2, 'EL CLúB': 2, 'Off To The Races': 2, 'Casimir Pulaski Day': 2, 'Radio': 2, 'Broken Cash Machine': 2, 'Impossible': 2, 'Ivy': 2, 'Swim': 2, 'Violent Crimes': 2, 'Best Time': 2, 'No. 1 Party Anthem': 2, 'FAMJAM4000': 2, 'Circadian Rhythm': 2, 'GPS': 2, 'After Hours': 2, 'Her': 2, 'Oblivion': 2, 'Sailor Song': 2, 'BMF': 2, 'No One Noticed': 2, 'Lost In My Bedroom': 2, 'One More Weekend': 2, 'Candy Perfume Girl': 2, 'I got it bad': 2, 'AMERIICAN REQUIEM': 2, 'The Complete Knock': 2, 'Not Allowed': 2, 'Disco': 2, 'C U Girl': 2, 'One More Hour': 2, 'Kill V. Maim': 2, 'Someday': 2, 'Marinero': 2, 'Complicated': 2, 'Girlfriend': 2, 'Windows Down': 2, 'The Spins': 2, 'Super Bass': 2, '001': 2, 'Yeah You': 2, 'Fit N Full': 2, 'Big Wheel': 2, 'Maneater': 2, 'Paper Planes': 2, 'Basket Case': 2, 'Naive': 2, 'Valerie - BBC Radio 1 Live Lounge': 2, 'Cherry Bomb': 2, 'There She Goes': 2, \"She's Kinda Hot\": 2, 'Kill the Director': 2, 'Low': 2, 'ALIEN SUPERSTAR': 2, 'Sal y Perrea': 2, '¿Y Eso?': 2, 'Kholo Kholo': 2, 'Después de la Playa': 2, 'El Chico Del Apartamento 512': 2, 'Weak': 2, 'Djadja': 2, 'Honey': 2, 'Japanese Denim': 2, 'Miel': 2, 'Ay Vamos': 2, 'drivers license': 2, 'Un Coco': 2, 'Julieta': 2, 'Si Veo a Tu Mamá': 2, 'Julietota': 2, 'Volare': 2, 'A Tu Merced': 2, 'Continuo Atardecer': 2, 'Vete': 2, 'Te Lo Prometo': 2, 'Enséñame a Bailar': 2, 'A Mí': 2, 'Morocha': 2, 'Más humano': 2, 'Hawái': 2, 'Rincón': 2, 'Agosto': 2, 'Cuando Me Acerco A Ti': 2, 'SORRY 4 THAT MUCH': 2, 'Tus Vueltas': 2, 'Ciudad de las Luces': 2, 'cómo dormiste?': 2, 'Vuelve': 2, 'MUTT': 2, 'Sunbleach': 2, 'Out of Bounds': 2, 'All Night': 2, 'Add Up My Love': 2, 'In Your Body': 2, 'Intercourse': 2, 'Baby Powder': 2, 'everything about her': 2, 'Yours': 2, 'Roommates': 2, 'Show Me How': 2, 'Baby': 2, 'Earrings': 2, '23rd Street': 2, 'Weightless': 2, \"5 MO' MINUTES\": 2, 'pretty': 2, 'Mr. Incorrect': 2, 'Losing You': 2, 'best damn thing': 2, 'Echo': 2, '4Me 4Me': 2, 'HARD KNOCK LULLABY': 2, 'Devotion': 2, 'Art House': 2, 'Santorini': 2, 'Cross My Mind': 2, \"Jumpin', Jumpin'\": 2, 'Atrévete-Te-Te': 2, 'Cumbia Sampuesana': 2, 'Una Noche en Medellín': 2, 'El Apagón': 2, 'Estamos Bien': 2, 'La Despedida': 2, 'Efecto': 2, 'Neverita': 2, 'La Zona': 2, 'Chu Chu Pamela': 2, 'Birthday Bitch': 2, 'La Difícil': 2, 'Face Down': 2, 'Beautiful Girls': 2, 'ORANGE SODA': 2, 'Kill Bill': 2, 'Chanel': 2, 'Dale Don Dale': 1, 'Doncella': 1, 'Machucando': 1, 'No Te Veo - Remix': 1, 'Mi Fanatica': 1, 'La Mala': 1, 'Te Hago El Amor': 1, 'Me Desvelo': 1, 'Bloqueado - Ao Vivo': 1, 'Simplesmente Ela': 1, 'Smells Like Teen Spirit': 1, 'CORALINE': 1, 'So Sick': 1, 'Carry Out (Featuring Justin Timberlake)': 1, 'Billie Jean': 1, 'Bohemian Rhapsody - Remastered 2011': 1, 'Gimme! Gimme! Gimme! (A Man After Midnight)': 1, 'Barbie Girl': 1, 'Just a Friend 2002 - Radio Edit': 1, 'Captive Heart': 1, 'Thuggish Ruggish Bone': 1, 'C.R.E.A.M. (Cash Rules Everything Around Me)': 1, 'On the Hotline - Amended Version': 1, 'Notorious Thugs - 2014 Remaster': 1, 'Ambitionz Az A Ridah': 1, \"Poppin' Them Thangs\": 1, 'The Adults Are Talking': 1, 'DENIAL IS A RIVER': 1, 'Ladyfingers': 1, 'Back to the Old House - 2011 Remaster': 1, 'Across The Universe - Remastered 2009': 1, 'Locha-E-Ulfat': 1, 'Be My Own Boyfriend': 1, 'Take Me Where Your Heart Is': 1, 'Terrapin': 1, '¿Do U Wanna Leave?': 1, 'Candy Shop': 1, 'Pasarela': 1, 'Taboo': 1})\n",
      "Counter({'Tití Me Preguntó': 12, 'Propuesta Indecente': 10, 'Gasolina': 10, 'Yo Voy (feat. Daddy Yankee)': 8, 'Yonaguni': 8, 'Moscow Mule': 8, 'Me Rehúso': 8, 'Hasta el Amanecer': 8, 'NI BIEN NI MAL': 8, 'El Amante': 8, 'Rakata': 6, 'Candy': 6, 'Sola': 6, 'Softly': 6, 'THE LONELIEST': 6, 'Amor Prohibido': 6, 'Ferxxo 100': 6, 'Yo Perreo Sola': 6, 'I Know You Want Me (Calle Ocho)': 6, 'Hotel Room Service': 6, 'Pepas': 6, 'Title and Registration': 6, 'El Préstamo': 6, 'Gris': 6, 'La player (Bandolera)': 6, 'Bobo': 6, 'El Perdedor': 6, \"That's What I Like\": 6, 'Travesuras': 5, 'Libertad': 4, 'Te He Querido, Te He Llorado': 4, 'Quiero Bailar': 4, 'Quiero Saber': 4, 'Pegao': 4, 'Si': 4, 'Salió El Sol': 4, 'Dile': 4, \"Pa' Que Retozen\": 4, 'Promiscuous': 4, 'Borro Cassette': 4, 'Corazón Sin Cara': 4, 'Ella Me Levanto': 4, 'Instagram': 4, 'VACAXIONES': 4, 'GYALIS': 4, 'Red Nose': 4, 'Ser Bichote': 4, 'SOS': 4, 'Temperature': 4, 'Starships': 4, 'Juna': 4, 'HP': 4, '11 PM': 4, 'Morado': 4, 'Honesty': 4, \"Fallin' All In You\": 4, 'Como Mirarte': 4, 'Someone You Loved': 4, '3 Nights': 4, 'No Te Vayas': 4, 'This City': 4, 'Rojo': 4, 'Pretend': 4, 'Blanco': 4, 'Darte un Beso': 4, 'Azul': 4, 'ADMV': 4, 'Amarillo': 4, 'Puntos Suspensivos': 4, 'Baila Baila Baila': 4, 'Rosa': 4, 'Rhiannon': 4, '3005': 4, 'Rain': 4, \"Can't Take My Eyes Off of You - (I Love You Baby)\": 4, 'Shut up My Moms Calling': 4, 'The Mannequin Song': 4, \"Ain't No Rest For The Wicked - Original Version\": 4, 'Come a Little Closer': 4, 'Telescope': 4, 'Love in the Time of Socialism': 4, \"Lamb's Wool\": 4, 'My Band': 4, 'Mr. Brightside': 4, 'Suavemente': 4, 'Love': 4, 'Vida de Rico': 4, 'Todo De Ti': 4, 'Body Aint Me': 3, 'I Want To Hold Your Hand - Remastered 2015': 3, 'Loba': 3, 'Limbo': 3, 'Cuéntale': 2, 'Ganas De Ti': 2, 'Fanática Sensual': 2, 'Ahora Es': 2, 'Pam Pam': 2, \"Pa' Que La Pases Bien\": 2, 'Pobre Diabla': 2, 'Junto Al Amanecer': 2, 'Yo Quiero Bailar': 2, \"Llamé Pa' Verte (Bailando Sexy)\": 2, 'Soy Una Gargola': 2, 'Mayor Que Yo': 2, '5 Letras': 2, 'Me Matas': 2, 'Down': 2, 'Sexy Movimiento': 2, 'Noche de Travesura': 2, 'Guatauba': 2, 'Una Vaina Loca': 2, 'Felina': 2, 'No Me Dejes Solo': 2, 'Lo Que Pasó, Pasó': 2, 'Abusadora': 2, 'Zun Da Da': 2, 'No Pares': 2, 'Estoy Enamorado': 2, 'Tempted To Touch': 2, 'Shorty, Shorty': 2, 'Te Extraño - Bachata Version': 2, 'Que Lloren': 2, 'Igual Que Ayer': 2, 'Fantasma': 2, 'Me Estas Tentando': 2, 'La Vida Es Así': 2, 'Te Quiero': 2, 'Hace Mucho Tiempo': 2, 'Alocate': 2, 'La Pregunta': 2, 'Porque Me Tratas Así?': 2, 'Dime': 2, 'Tuya Soy': 2, 'Pose': 2, 'Un Beso': 2, 'Aqui Esta Tu Caldo': 2, 'Mírala Bien': 2, 'A Ti No': 2, 'Hasta Abajo': 2, 'Bandida': 2, 'Te Siento': 2, 'Me Quiere Besar': 2, 'Dembow': 2, 'Yo Te Quiero': 2, 'Bonita': 2, 'Envuelvete': 2, '¿por Que Te Demoras?': 2, 'No Se Si Fue': 2, 'Solo Una Noche': 2, 'Angelito': 2, 'Piel Canela': 2, 'Baila Morena - Live': 2, 'Fiel amiga': 2, 'Mia Completa': 2, 'Over the Moon': 2, 'Sugar': 2, 'Mice City': 2, 'Heavy': 2, 'Numb': 2, 'I Hope to Be Around': 2, 'In A Good Way': 2, 'Bumbum Granada': 2, 'Paradinha': 2, 'Fazer Falta': 2, '777-666': 2, 'Quer Voar': 2, 'Sorvete de Ovomaltine': 2, 'Manha': 2, 'Love Love': 2, 'Booty Up': 2, 'Várias Queixas': 2, 'Proposta': 2, 'Dia Azul': 2, 'Balada - Ao Vivo': 2, 'ABALO EMOCIONAL - Ao Vivo': 2, 'Quem Pegou, Pegou - Ao Vivo': 2, 'Na Ponta do Pé 2': 2, 'Na Ponta Ela Fica': 2, 'Cadeado': 2, 'Frio': 2, 'Esquece Pt. 2': 2, 'Angelina': 2, 'Moça': 2, 'zumzumzum': 2, 'FUNK DO BOUNCE (Slowed)': 2, 'Drown': 2, 'Holiday / Boulevard of Broken Dreams': 2, 'Girls': 2, 'How You Remind Me': 2, 'lovesick': 2, 'Teenagers': 2, 'Welcome to the Black Parade': 2, 'Heart-Shaped Box': 2, 'Stricken': 2, 'The Vengeful One': 2, 'Another Way to Die': 2, 'The Animal': 2, 'Asylum': 2, 'I Write Sins Not Tragedies': 2, 'In The End': 2, 'Na Na Na (Na Na Na Na Na Na Na Na Na)': 2, 'The Ballad of Mona Lisa': 2, 'I Hate Everything About You': 2, 'American Idiot': 2, \"Don't Threaten Me with a Good Time\": 2, \"Don't Jump\": 2, 'Ready, Set, Go!': 2, 'I WANNA BE YOUR SLAVE': 2, \"Beggin'\": 2, 'HONEY (ARE U COMING?)': 2, '505': 2, 'Do I Wanna Know?': 2, 'I Wanna Be Yours': 2, \"Why'd You Only Call Me When You're High?\": 2, 'VALENTINE': 2, 'The Less I Know The Better': 2, 'Borderline': 2, '1000 Oceans': 2, 'Love Is Dead': 2, 'Spring nicht': 2, 'What If': 2, 'Reflections': 2, 'BABY SAID': 2, 'FOR YOUR LOVE': 2, 'Somebody Told Me': 2, \"Everybody's Fool\": 2, 'Are You Ready?': 2, 'LA FINE': 2, 'LA PAURA DEL BUIO': 2, 'Knee Socks': 2, 'Snap Out Of It': 2, 'Arabella': 2, 'Misery Business': 2, 'Easier': 2, 'Tejano Blue': 2, 'Cry': 2, 'Apocalypse': 2, 'Bring Me To Life': 2, 'Sweater Weather': 2, 'Going Under': 2, 'Afraid': 2, 'Boulevard of Broken Dreams': 2, 'DArkSide': 2, 'Teardrops': 2, 'Doomed': 2, 'Throne': 2, 'With You': 2, 'Irreplaceable': 2, 'Someone Like You': 2, 'Bye Bye Bye': 2, 'Let Me Love You': 2, 'We Belong Together': 2, 'Survivor': 2, 'Womanizer': 2, 'Pumped Up Kicks': 2, 'Cry Me a River': 2, 'Heartless': 2, 'Crazy In Love - Remix': 2, 'Tha Crossroads': 2, '1st of Tha Month': 2, 'Since U Been Gone': 2, 'Umbrella': 2, 'Say My Name': 2, 'Rap God': 2, \"Doin' What It 'Pose 2Do\": 2, 'Where Is The Love?': 2, 'Without You': 2, 'Un-Break My Heart': 2, 'I Have Nothing': 2, 'I Will Always Love You': 2, 'Hero': 2, 'A Song For Mama': 2, \"I'll Make Love To You\": 2, 'Say You, Say Me': 2, 'Foolish': 2, 'Be Without You - Kendu Mix': 2, 'Me & U': 2, 'U Remind Me': 2, 'Motivation': 2, 'No Scrubs': 2, 'Ms. Jackson': 2, 'I Wanna Dance with Somebody (Who Loves Me)': 2, 'Be My Lover': 2, 'Sweet Dreams': 2, 'Like a Virgin': 2, 'Beat It': 2, 'Thriller': 2, 'Never Gonna Give You Up': 2, 'Sexual Healing': 2, 'One Wish': 2, 'Do For Love': 2, 'Runaway': 2, 'Good Life': 2, 'So Fresh, So Clean': 2, 'Ice Box': 2, 'Beautiful Monster': 2, 'One More Chance / Stay with Me - Remix; 2007 Remaster': 2, 'It Was A Good Day': 2, \"Nuthin' but a G Thang\": 2, 'Crank That (Soulja Boy)': 2, 'Because Of You': 2, 'Yo (Excuse Me Miss)': 2, 'I Wanna Know': 2, 'Fantasy': 2, \"Don't Forget About Us\": 2, 'Circles': 2, 'Mine Again': 2, 'Dreaming Of You': 2, 'Lonely': 2, \"I'm Sprung\": 2, 'Loving You': 2, 'Love U 4 Life': 2, \"They Don't Know\": 2, 'Bed': 2, 'Cry For You': 2, 'Take You Down': 2, 'Pretty Girl': 2, 'Take A Bow': 2, 'Man Down': 2, 'Obsessed': 2, 'Touch My Body': 2, 'Miss Independent': 2, 'U Got It Bad': 2, 'Burn': 2, 'End Of The Road': 2, 'Hypnotize - 2007 Remaster': 2, \"He Wasn't Man Enough\": 2, 'To Live & Die In L.A.': 2, 'Differences': 2, \"You're Makin' Me High\": 2, 'Spanish Guitar': 2, 'Letter 2 My Unborn': 2, \"Can't Help but Wait\": 2, 'Steelo': 2, 'Rock Wit U (Awww Baby)': 2, 'Unfoolish': 2, 'Bills, Bills, Bills': 2, 'Candy Rain': 2, 'Addicted': 2, 'Come and Talk to Me - Remix': 2, 'So Many Tears': 2, 'Feels So Right': 2, 'Confessions Part II': 2, 'Peaches & Cream': 2, 'Get It Shawty': 2, 'Never Leave You (Uh Oooh, Uh Oooh)': 2, 'Feel Alright': 2, 'Like a Boy': 2, 'Case Of The Ex (Whatcha Gonna Do)': 2, 'So Anxious': 2, 'Your Love Is Incredible': 2, 'Regulate': 2, 'All My Life': 2, 'How We Do': 2, 'Get Money': 2, 'Are You That Somebody': 2, \"Hey Daddy (Daddy's Home)\": 2, \"Age Ain't Nothing But a Number\": 2, 'I Wanna Be Down': 2, 'Every Breath You Take': 2, 'Grind With Me': 2, 'If I Was Your Man': 2, 'Angel in Disguise': 2, 'Right Thurr': 2, 'Going Back to Cali - 2014 Remaster': 2, 'Naughty Girl': 2, 'Made Niggaz': 2, 'Nothing but a Number': 2, 'Everyone Falls in Love': 2, 'Give It To Her': 2, 'Doses & Mimosas': 2, 'Young Dumb & Broke': 2, '8TEEN': 2, 'Harvey': 2, 'The Way I Talk': 2, 'Late Night Talking': 2, 'Chicken Fried': 2, 'More Than My Hometown': 2, 'Beautiful Crazy': 2, 'Where the Wild Things Are': 2, 'Crybaby': 2, 'Foreigner': 2, 'Sympathy is a knife': 2, 'Karma': 2, 'West Coast Love': 2, \"What's the Use?\": 2, 'Someday Faraway': 2, 'Summer Vibe': 2, 'Good Looking': 2, 'Petals on the Moon': 2, 'Como La Flor': 2, 'La Bachata': 2, 'Normal': 2, 'Dile Que Tu Me Quieres': 2, 'Feliz Cumpleaños Ferxxo': 2, 'Eres Mía': 2, 'LALA': 2, 'MONACO': 2, 'Columbia': 2, 'MI EX TENÍA RAZÓN': 2, 'Ohnana': 2, 'Down On Me': 2, 'Get Crazy': 2, 'Only Girl (In The World)': 2, \"Don't Stop The Music\": 2, 'Fire Burning': 2, 'Rebota': 2, 'Die Young': 2, 'Pound The Alarm': 2, 'I Like It': 2, 'Blow': 2, 'Cannibal': 2, 'Bootylicious': 2, 'Just Dance': 2, 'Till the World Ends': 2, 'Glad You Came': 2, \"L'Appuntamento\": 2, 'I Love You': 2, 'Cherry-coloured Funk': 2, 'EL CLúB': 2, 'Off To The Races': 2, 'Casimir Pulaski Day': 2, 'Radio': 2, 'Broken Cash Machine': 2, 'Impossible': 2, 'Ivy': 2, 'Swim': 2, 'Violent Crimes': 2, 'Best Time': 2, 'No. 1 Party Anthem': 2, 'FAMJAM4000': 2, 'Circadian Rhythm': 2, 'GPS': 2, 'After Hours': 2, 'Her': 2, 'Oblivion': 2, 'Sailor Song': 2, 'BMF': 2, 'No One Noticed': 2, 'Lost In My Bedroom': 2, 'One More Weekend': 2, 'Candy Perfume Girl': 2, 'I got it bad': 2, 'AMERIICAN REQUIEM': 2, 'The Complete Knock': 2, 'Not Allowed': 2, 'Disco': 2, 'C U Girl': 2, 'One More Hour': 2, 'Kill V. Maim': 2, 'Someday': 2, 'Marinero': 2, 'Complicated': 2, 'Girlfriend': 2, 'Windows Down': 2, 'The Spins': 2, 'Super Bass': 2, '001': 2, 'Yeah You': 2, 'Fit N Full': 2, 'Big Wheel': 2, 'Maneater': 2, 'Paper Planes': 2, 'Basket Case': 2, 'Naive': 2, 'Valerie - BBC Radio 1 Live Lounge': 2, 'Cherry Bomb': 2, 'There She Goes': 2, \"She's Kinda Hot\": 2, 'Kill the Director': 2, 'Low': 2, 'ALIEN SUPERSTAR': 2, 'Sal y Perrea': 2, '¿Y Eso?': 2, 'Kholo Kholo': 2, 'Después de la Playa': 2, 'El Chico Del Apartamento 512': 2, 'Weak': 2, 'Djadja': 2, 'Honey': 2, 'Japanese Denim': 2, 'Miel': 2, 'Ay Vamos': 2, 'drivers license': 2, 'Un Coco': 2, 'Julieta': 2, 'Si Veo a Tu Mamá': 2, 'Julietota': 2, 'Volare': 2, 'A Tu Merced': 2, 'Continuo Atardecer': 2, 'Vete': 2, 'Te Lo Prometo': 2, 'Enséñame a Bailar': 2, 'A Mí': 2, 'Morocha': 2, 'Más humano': 2, 'Hawái': 2, 'Rincón': 2, 'Agosto': 2, 'Cuando Me Acerco A Ti': 2, 'SORRY 4 THAT MUCH': 2, 'Tus Vueltas': 2, 'Ciudad de las Luces': 2, 'cómo dormiste?': 2, 'Vuelve': 2, 'MUTT': 2, 'Sunbleach': 2, 'Out of Bounds': 2, 'All Night': 2, 'Add Up My Love': 2, 'In Your Body': 2, 'Intercourse': 2, 'Baby Powder': 2, 'everything about her': 2, 'Yours': 2, 'Roommates': 2, 'Show Me How': 2, 'Baby': 2, 'Earrings': 2, '23rd Street': 2, 'Weightless': 2, \"5 MO' MINUTES\": 2, 'pretty': 2, 'Mr. Incorrect': 2, 'Losing You': 2, 'best damn thing': 2, 'Echo': 2, '4Me 4Me': 2, 'HARD KNOCK LULLABY': 2, 'Devotion': 2, 'Art House': 2, 'Santorini': 2, 'Cross My Mind': 2, \"Jumpin', Jumpin'\": 2, 'Atrévete-Te-Te': 2, 'Cumbia Sampuesana': 2, 'Una Noche en Medellín': 2, 'El Apagón': 2, 'Estamos Bien': 2, 'La Despedida': 2, 'Efecto': 2, 'Neverita': 2, 'La Zona': 2, 'Chu Chu Pamela': 2, 'Birthday Bitch': 2, 'La Difícil': 2, 'Face Down': 2, 'Beautiful Girls': 2, 'ORANGE SODA': 2, 'Kill Bill': 2, 'Chanel': 2, 'Dale Don Dale': 1, 'Doncella': 1, 'Machucando': 1, 'No Te Veo - Remix': 1, 'Mi Fanatica': 1, 'La Mala': 1, 'Te Hago El Amor': 1, 'Me Desvelo': 1, 'Bloqueado - Ao Vivo': 1, 'Simplesmente Ela': 1, 'Smells Like Teen Spirit': 1, 'CORALINE': 1, 'So Sick': 1, 'Carry Out (Featuring Justin Timberlake)': 1, 'Billie Jean': 1, 'Bohemian Rhapsody - Remastered 2011': 1, 'Gimme! Gimme! Gimme! (A Man After Midnight)': 1, 'Barbie Girl': 1, 'Just a Friend 2002 - Radio Edit': 1, 'Captive Heart': 1, 'Thuggish Ruggish Bone': 1, 'C.R.E.A.M. (Cash Rules Everything Around Me)': 1, 'On the Hotline - Amended Version': 1, 'Notorious Thugs - 2014 Remaster': 1, 'Ambitionz Az A Ridah': 1, \"Poppin' Them Thangs\": 1, 'The Adults Are Talking': 1, 'DENIAL IS A RIVER': 1, 'Ladyfingers': 1, 'Back to the Old House - 2011 Remaster': 1, 'Across The Universe - Remastered 2009': 1, 'Locha-E-Ulfat': 1, 'Be My Own Boyfriend': 1, 'Take Me Where Your Heart Is': 1, 'Terrapin': 1, '¿Do U Wanna Leave?': 1, 'Candy Shop': 1, 'Pasarela': 1, 'Taboo': 1})\n",
      "Tití Me Preguntó\n",
      "\n",
      "Propuesta Indecente\n",
      "\n",
      "Gasolina\n",
      "\n",
      "Yo Voy (feat. Daddy Yankee)\n",
      "\n",
      "Yonaguni\n",
      "\n",
      "Moscow Mule\n",
      "\n",
      "Me Rehúso\n",
      "\n",
      "Hasta el Amanecer\n",
      "\n",
      "NI BIEN NI MAL\n",
      "\n",
      "El Amante\n",
      "\n",
      "Rakata\n",
      "\n",
      "Candy\n",
      "\n",
      "Sola\n",
      "\n",
      "Softly\n",
      "\n",
      "THE LONELIEST\n",
      "\n",
      "Amor Prohibido\n",
      "\n",
      "Ferxxo 100\n",
      "\n",
      "Yo Perreo Sola\n",
      "\n",
      "I Know You Want Me (Calle Ocho)\n",
      "\n",
      "Hotel Room Service\n",
      "\n"
     ]
    },
    {
     "data": {
      "image/png": "[encoded data removed]",
      "text/plain": [
       "<Figure size 1000x800 with 2 Axes>"
      ]
     },
     "metadata": {},
     "output_type": "display_data"
    }
   ],
   "source": [
    "from sklearn.metrics import confusion_matrix\n",
    "import seaborn as sns\n",
    "from collections import Counter\n",
    "\n",
    "label_counts = Counter(y_test)\n",
    "print(label_counts)\n",
    "label_counts = Counter(y_test)\n",
    "print(label_counts)\n",
    "labels = sorted(list(set(y_test)))\n",
    "top_labels = [label for label, _ in label_counts.most_common(20)]  # adjust number as needed\n",
    "for item in top_labels:\n",
    "    print(f\"{item}\\n\")\n",
    "\n",
    "cm = confusion_matrix(y_test, y_pred, labels=top_labels)\n",
    "plt.figure(figsize=(10, 8))\n",
    "sns.heatmap(cm, annot=True, fmt='d', cmap='Blues')\n",
    "plt.xlabel(\"Predicted Label\")\n",
    "plt.ylabel(\"True Label\")\n",
    "plt.title(\"Confusion Matrix\")\n",
    "plt.show()"
   ]
  },
  {
   "cell_type": "code",
   "execution_count": 16,
   "metadata": {},
   "outputs": [
    {
     "data": {
      "text/plain": [
       "<Figure size 640x480 with 0 Axes>"
      ]
     },
     "metadata": {},
     "output_type": "display_data"
    }
   ],
   "source": [
    "plt.savefig('plots/confusion_matrix_song+artist.png') "
   ]
  },
  {
   "cell_type": "code",
   "execution_count": 17,
   "metadata": {},
   "outputs": [
    {
     "name": "stdout",
     "output_type": "stream",
     "text": [
      "591\n"
     ]
    }
   ],
   "source": [
    "print(len(set(y_test)))"
   ]
  },
  {
   "cell_type": "markdown",
   "metadata": {},
   "source": [
    "#### Use an example song\n",
    "Example song: Salio El Sol by Don Omar\n",
    "Song Index: 301\n",
    "Similar Song\n"
   ]
  },
  {
   "cell_type": "code",
   "execution_count": 18,
   "metadata": {},
   "outputs": [
    {
     "name": "stdout",
     "output_type": "stream",
     "text": [
      "Original input song it should map too: Dile by Don Omar\n",
      "Similar song we passed into model: Salió el Sol  by Don Omar\n",
      "The similar songs Lyrics: 18 ContributorsSalió El Sol Lyrics[Letra de \"Salió El Sol\"]\n",
      "\n",
      "[Intro]\n",
      "Platinium Studio\n",
      "Respect\n",
      "¡Don, Don, Don, Don, Don!\n",
      "\n",
      "[Coro]\n",
      "Salió el sol (Don, Don!)\n",
      "Cuerpo bronceado y sus amigas buscaban acción (All the sexy—)\n",
      "La canción (All my sexy ladies!)\n",
      "Que causa en ellas y sus cuerpos esa sensación (More reggaeton!)\n",
      "Reggaeton\n",
      "Piden reggaeton\n",
      "Del de Don\n",
      "(Pon de river, pon de river, pon de river)\n",
      "Sientan la presión (Pon de bank, pon de bank, pon de bank)\n",
      "(Pon de bank, pon de bank)\n",
      "\n",
      "[Verso 1]\n",
      "Y la baila\n"
     ]
    }
   ],
   "source": [
    "#X = similar_song_Lyrics\n",
    "#similar_song_title - Song Title\n",
    "\n",
    "#Datapoint [0]\n",
    "print(f\"Original input song it should map too: {my_data_similar_df[\"title\"][301]} by {my_data_similar_df[\"artist\"][301]}\")\n",
    "print(f\"Similar song we passed into model: {my_data_similar_df[\"similar_track\"][301]}  by {my_data_similar_df[\"similar_artist\"][301]}\")\n",
    "print(f\"The similar songs Lyrics: {my_data_similar_df[\"lyrics\"][301][0:500]}\")\n"
   ]
  },
  {
   "cell_type": "code",
   "execution_count": 19,
   "metadata": {},
   "outputs": [],
   "source": [
    "for key,val in regression_model.label_mapping.items():\n",
    "    if key == \"Dile, Don Omar\":\n",
    "        print(f\"{key}: {val}\")"
   ]
  },
  {
   "cell_type": "code",
   "execution_count": 20,
   "metadata": {},
   "outputs": [],
   "source": [
    "for key,val in regression_model.label_mapping.items():\n",
    "    if key == \"Guatauba, Plan B\":\n",
    "        print(f\"{key}: {val}\")"
   ]
  },
  {
   "cell_type": "code",
   "execution_count": 21,
   "metadata": {},
   "outputs": [],
   "source": [
    "#Labels that are not similar to: Salio el Sol by Don Omar\n",
    "# 6 - 3 nights by Dominic Fike\n",
    "# 11 - 505 by Arctic Monkeys\n",
    "# 13 - 8TEEN by Khalid\n",
    "# 21 - American Requiem by Beyonce\n",
    "\n",
    "\n",
    "#Lbaels somewhat similar to : Salio el Sol by Don Omar\n",
    "# 17 - A Tu Merced, Bad Bunny\n",
    "# 19 - ADMV by Maluma\n",
    "#241 - Hasta el amanecer by Niki Jam"
   ]
  },
  {
   "cell_type": "code",
   "execution_count": 22,
   "metadata": {},
   "outputs": [],
   "source": [
    "x = X_train[301]  # example TF-IDF row\n",
    "X = np.append(x,1)\n",
    "dot_product = np.dot(X, regression_model.weights.T)\n",
    "z_score = np.reshape(dot_product, (1, -1))\n",
    "prediction = regression_model._softmax(z_score)\n",
    "flatten_predictions = prediction.flatten()\n"
   ]
  },
  {
   "cell_type": "code",
   "execution_count": 24,
   "metadata": {},
   "outputs": [],
   "source": [
    "# import matplotlib.pyplot as plt\n",
    "# correct = y_pred == y_test\n",
    "\n",
    "# max_probs = np.max(prediction, axis=1)\n",
    "\n",
    "# plt.hist(max_probs[correct], bins=20, alpha=0.7, label='Correct')\n",
    "# plt.hist(max_probs[~correct], bins=20, alpha=0.7, label='Incorrect')\n",
    "# plt.xlabel(\"Model Confidence (Max Probability)\")\n",
    "# plt.ylabel(\"Number of Samples\")\n",
    "# plt.legend()\n",
    "# plt.title(\"Prediction Confidence Distribution\")\n",
    "# plt.show()"
   ]
  },
  {
   "cell_type": "code",
   "execution_count": 25,
   "metadata": {},
   "outputs": [
    {
     "name": "stdout",
     "output_type": "stream",
     "text": [
      " predicted label: 3 Nights with prob 4.108026540691073e-05 at index 6\n",
      " predicted label: A Tu Merced with prob 0.0007401092855075423 at index 17\n",
      " predicted label: ADMV with prob 0.0004230579954972921 at index 19\n",
      " predicted label: Hasta el Amanecer with prob 0.5574226755057222 at index 241\n",
      " predicted label: 505 with prob 7.515104457820145e-05 at index 11\n",
      " predicted label: 8TEEN with prob 5.705735946639631e-05 at index 13\n",
      " predicted label: AMERIICAN REQUIEM with prob 4.6551000625471634e-05 at index 21\n",
      " predicted label: Guatauba with prob 0.14099392292957616 at index 233\n",
      " predicted label: Dile Que Tu Me Quieres with prob 0.0008778826272595717 at index 154\n"
     ]
    }
   ],
   "source": [
    "potential_indices = [6,17,19,241,11,13,21, 233, 154]\n",
    "\n",
    "\n",
    "for index in potential_indices:\n",
    "        for key,val in regression_model.label_mapping.items():\n",
    "                if val == index:\n",
    "                        print(f\" predicted label: {key} with prob {flatten_predictions[index]} at index {index}\")"
   ]
  },
  {
   "cell_type": "code",
   "execution_count": 26,
   "metadata": {},
   "outputs": [
    {
     "name": "stdout",
     "output_type": "stream",
     "text": [
      "the actual mapping Guatauba\n"
     ]
    }
   ],
   "source": [
    "print(f\"the actual mapping {y_train[301]}\")"
   ]
  },
  {
   "cell_type": "code",
   "execution_count": 27,
   "metadata": {},
   "outputs": [
    {
     "name": "stdout",
     "output_type": "stream",
     "text": [
      " predicted label: Hasta el Amanecer with prob 0.5574226755057222 at index 241\n",
      " predicted label: Guatauba with prob 0.14099392292957616 at index 233\n",
      " predicted label: El Perdedor with prob 0.13704628470929497 at index 181\n",
      " predicted label: A Mí with prob 0.0054742587094274466 at index 14\n",
      " predicted label: Un Coco with prob 0.004506362152423701 at index 560\n",
      " predicted label: El Amante with prob 0.0038607778115851833 at index 178\n",
      " predicted label: Neverita with prob 0.0033979573984681244 at index 383\n",
      " predicted label: Rojo with prob 0.002656157511047566 at index 455\n",
      " predicted label: Bobo with prob 0.0024945558940976478 at index 84\n",
      " predicted label: Feliz Cumpleaños Ferxxo with prob 0.002345841136780222 at index 207\n"
     ]
    }
   ],
   "source": [
    "X = np.append(x,1)\n",
    "dot_product = np.dot(X, regression_model.weights.T)\n",
    "\n",
    "z_score = np.reshape(dot_product, (1, -1))\n",
    "\n",
    "        # to reshape your array into one with 1 row and n columns\n",
    "        # use np.reshape(arr, (1, -1))\n",
    "        # the shape of the array you give to \n",
    "        # your softmax function should be (1, n)\n",
    "\n",
    "\n",
    "        # PROVIDED\n",
    "        # then you can your z score array to the softmax function\n",
    "prediction = regression_model._softmax(z_score)\n",
    "flatten_predictions = prediction.flatten()\n",
    "top_10_indices = np.argsort(flatten_predictions)[-10:][::-1]  # sort and take top 10\n",
    "\n",
    "        # then map the prediction to a class\n",
    "        #returns index of max \n",
    "#predicted_label = np.argmax(flatten_predictions, axis=1)[0]\n",
    "\n",
    "        # TODO: students\n",
    "        # translate the labels back to human readable form\n",
    "\n",
    "for index in top_10_indices:\n",
    "        for key,val in regression_model.label_mapping.items():\n",
    "                if val == index:\n",
    "                        print(f\" predicted label: {key} with prob {flatten_predictions[index]} at index {index}\")"
   ]
  },
  {
   "cell_type": "code",
   "execution_count": 28,
   "metadata": {},
   "outputs": [
    {
     "name": "stdout",
     "output_type": "stream",
     "text": [
      "Hasta el Amanecer\n"
     ]
    }
   ],
   "source": [
    "x = X_train[301]  # example TF-IDF row\n",
    "\n",
    "output = regression_model.predict(x)\n",
    "print(output)"
   ]
  },
  {
   "cell_type": "code",
   "execution_count": 29,
   "metadata": {},
   "outputs": [],
   "source": [
    "x = X_train[301]  # example TF-IDF row\n",
    "x = np.append(x, 1)\n",
    "dot_product = np.dot(x, regression_model.weights.T)\n",
    "z_score = np.reshape(dot_product, (1, -1))\n",
    "probs = regression_model._softmax(z_score)\n",
    "flat_arr = probs.flatten()\n"
   ]
  },
  {
   "cell_type": "code",
   "execution_count": 30,
   "metadata": {},
   "outputs": [
    {
     "name": "stdout",
     "output_type": "stream",
     "text": [
      "228\n",
      "The probability for Going Under: was 0.002345841136780222\n"
     ]
    }
   ],
   "source": [
    "sampled_index = np.random.choice(len(flat_arr), p=flat_arr)\n",
    "print(sampled_index)\n",
    "for key,val in regression_model.label_mapping.items():\n",
    "        if val == sampled_index:\n",
    "            print(f\"The probability for {key}: was {flat_arr[index]}\")\n"
   ]
  },
  {
   "cell_type": "code",
   "execution_count": 31,
   "metadata": {},
   "outputs": [
    {
     "name": "stdout",
     "output_type": "stream",
     "text": [
      "[241 233 181  14 560 178 383 455  84 207]\n"
     ]
    }
   ],
   "source": [
    "top_10_indices = np.argsort(flat_arr)[-10:][::-1]  # sort and take top 10\n",
    "print(top_10_indices)"
   ]
  },
  {
   "cell_type": "code",
   "execution_count": 32,
   "metadata": {},
   "outputs": [
    {
     "name": "stdout",
     "output_type": "stream",
     "text": [
      "index is 241\n",
      "The probability for Hasta el Amanecer: was 0.5574226755057222\n",
      "index is 233\n",
      "The probability for Guatauba: was 0.14099392292957616\n",
      "index is 181\n",
      "The probability for El Perdedor: was 0.13704628470929497\n",
      "index is 14\n",
      "The probability for A Mí: was 0.0054742587094274466\n",
      "index is 560\n",
      "The probability for Un Coco: was 0.004506362152423701\n",
      "index is 178\n",
      "The probability for El Amante: was 0.0038607778115851833\n",
      "index is 383\n",
      "The probability for Neverita: was 0.0033979573984681244\n",
      "index is 455\n",
      "The probability for Rojo: was 0.002656157511047566\n",
      "index is 84\n",
      "The probability for Bobo: was 0.0024945558940976478\n",
      "index is 207\n",
      "The probability for Feliz Cumpleaños Ferxxo: was 0.002345841136780222\n"
     ]
    }
   ],
   "source": [
    "for index in top_10_indices:\n",
    "    print(f\"index is {index}\")\n",
    "    for key,val in regression_model.label_mapping.items():\n",
    "        if val == index:\n",
    "            print(f\"The probability for {key}: was {flat_arr[index]}\")\n"
   ]
  },
  {
   "cell_type": "code",
   "execution_count": 33,
   "metadata": {},
   "outputs": [
    {
     "name": "stdout",
     "output_type": "stream",
     "text": [
      "0.7747707905570858\n"
     ]
    },
    {
     "ename": "IndexError",
     "evalue": "only integers, slices (`:`), ellipsis (`...`), numpy.newaxis (`None`) and integer or boolean arrays are valid indices",
     "output_type": "error",
     "traceback": [
      "\u001b[0;31m---------------------------------------------------------------------------\u001b[0m",
      "\u001b[0;31mIndexError\u001b[0m                                Traceback (most recent call last)",
      "Cell \u001b[0;32mIn[33], line 10\u001b[0m\n\u001b[1;32m      8\u001b[0m max_index \u001b[38;5;241m=\u001b[39m np\u001b[38;5;241m.\u001b[39margmax(probs)\n\u001b[1;32m      9\u001b[0m \u001b[38;5;28mprint\u001b[39m(index)\n\u001b[0;32m---> 10\u001b[0m \u001b[38;5;28mprint\u001b[39m(\u001b[38;5;124mf\u001b[39m\u001b[38;5;124m\"\u001b[39m\u001b[38;5;124mmax probability : \u001b[39m\u001b[38;5;132;01m{\u001b[39;00m\u001b[43mprobs\u001b[49m\u001b[43m[\u001b[49m\u001b[43mindex\u001b[49m\u001b[43m]\u001b[49m\u001b[38;5;132;01m}\u001b[39;00m\u001b[38;5;124m\"\u001b[39m)\n\u001b[1;32m     12\u001b[0m top_10_indices \u001b[38;5;241m=\u001b[39m np\u001b[38;5;241m.\u001b[39margsort(probs)[::\u001b[38;5;241m-\u001b[39m\u001b[38;5;241m1\u001b[39m][:\u001b[38;5;241m10\u001b[39m]  \u001b[38;5;66;03m# sort and take top 10\u001b[39;00m\n\u001b[1;32m     13\u001b[0m \u001b[38;5;28mprint\u001b[39m(top_10_indices)\n",
      "\u001b[0;31mIndexError\u001b[0m: only integers, slices (`:`), ellipsis (`...`), numpy.newaxis (`None`) and integer or boolean arrays are valid indices"
     ]
    }
   ],
   "source": [
    "x = X_train[0]  # example TF-IDF row\n",
    "x = np.append(x, 1)\n",
    "dot_product = np.dot(x, regression_model.weights.T)\n",
    "z_score = np.reshape(dot_product, (1, -1))\n",
    "probs = regression_model._softmax(z_score)\n",
    "#print(probs)\n",
    "index = np.max(probs)\n",
    "max_index = np.argmax(probs)\n",
    "print(index)\n",
    "print(f\"max probability : {probs[index]}\")\n",
    "\n",
    "top_10_indices = np.argsort(probs)[::-1][:10]  # sort and take top 10\n",
    "print(top_10_indices)\n",
    "index_to_label = {v: k for k, v in regression_model.label_mapping.items()}\n",
    "top_10 = [(index_to_label[i], probs[i]) for i in top_10_indices]\n",
    "\n",
    "for label, prob in top_10:\n",
    "    print(f\"{label}: {prob:.4f}\")"
   ]
  }
 ],
 "metadata": {
  "kernelspec": {
   "display_name": "Python 3",
   "language": "python",
   "name": "python3"
  },
  "language_info": {
   "codemirror_mode": {
    "name": "ipython",
    "version": 3
   },
   "file_extension": ".py",
   "mimetype": "text/x-python",
   "name": "python",
   "nbconvert_exporter": "python",
   "pygments_lexer": "ipython3",
   "version": "3.12.9"
  }
 },
 "nbformat": 4,
 "nbformat_minor": 2
}
