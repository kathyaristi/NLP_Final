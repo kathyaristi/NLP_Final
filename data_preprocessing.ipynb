{
 "cells": [
  {
   "cell_type": "code",
   "execution_count": 2,
   "metadata": {},
   "outputs": [],
   "source": [
    "import pandas as pd\n",
    "import requests\n",
    "import numpy as np\n",
    "from tqdm import tqdm"
   ]
  },
  {
   "cell_type": "code",
   "execution_count": 36,
   "metadata": {},
   "outputs": [],
   "source": [
    "def get_similar_song(track_name,artist_name, lastfm_api_key)-> tuple:\n",
    "\t# Define the Last.fm API endpoint and parameters\n",
    "\tlastfm_url = 'http://ws.audioscrobbler.com/2.0/'\n",
    "\tparams = {\n",
    "\t\t'method': 'track.getsimilar',\n",
    "\t\t'track': track_name,  # Use the track name from Spotify data\n",
    "\t\t'artist': artist_name,  # Use the first artist's name\n",
    "\t\t'api_key': lastfm_api_key,\n",
    "\t\t'format': 'json',\n",
    "\t\t'autocorrect': 1,  # Enable auto-correction of spelling mistakes\n",
    "\t\t'limit': 10  # Limit the results to 10 similar tracks\n",
    "\t}\n",
    "\n",
    "\t# Make the API call to Last.fm\n",
    "\tlastfm_response = requests.get(lastfm_url, params=params)\n",
    "\n",
    "\t# Parse the response\n",
    "\tif lastfm_response.status_code == 200:\n",
    "\t\tsimilar_tracks_data = lastfm_response.json()\n",
    "\t\tsimilar_tracks = similar_tracks_data.get('similartracks', {}).get('track', [])\n",
    "\t\treturn similar_tracks\n",
    "\t\t#for i, similar_track in enumerate(similar_tracks, start=1):\n",
    "\t\t#\tprint(f\"{i}. {similar_track['name']} by {similar_track['artist']['name']}\")\n",
    "\t\t#\treturn similar_track['name'], similar_track['artist']['name']\n",
    "\n",
    "\telse:\n",
    "\t\t#print(f\"Error: {lastfm_response.status_code} - {lastfm_response.text}\")\n",
    "\t\treturn None"
   ]
  },
  {
   "cell_type": "code",
   "execution_count": 37,
   "metadata": {},
   "outputs": [],
   "source": [
    "def process_similar_songs(dataset, api_key, num_rows=100):\n",
    "\t\"\"\"\n",
    "\tProcess a dataset to find similar songs for each track.\n",
    "\n",
    "\tParameters:\n",
    "\t\tdataset (pd.DataFrame): The input dataset containing song information.\n",
    "\t\tapi_key (str): The Last.fm API key.\n",
    "\t\tnum_rows (int): Number of rows to process from the dataset.\n",
    "\n",
    "\tReturns:\n",
    "\t\tpd.DataFrame: A new dataframe with similar song information.\n",
    "\t\"\"\"\n",
    "\n",
    "\t# Create a list to store new rows\n",
    "\tnew_rows = []\n",
    "\n",
    "\t# Iterate over each row in the dataframe\n",
    "\tfor index, row in tqdm(dataset[:num_rows].iterrows(), total=min(num_rows, len(dataset))):\n",
    "\t\ttrack_name = row['title']\n",
    "\t\tartist_name = row['artist']\n",
    "\n",
    "\t\t# Get similar songs using the function\n",
    "\t\tsimilar_tracks = get_similar_song(track_name, artist_name, api_key)\n",
    "\n",
    "\t\tif similar_tracks:\n",
    "\t\t\tfor track in similar_tracks:\n",
    "\t\t\t\tnew_row = row.to_dict()  # Copy the original row's data\n",
    "\t\t\t\tnew_row['song'] = f\"{row['title']} by {row['artist']}\"  # Add the original song column\n",
    "\t\t\t\tnew_row['similar_title'] = track['name']\n",
    "\t\t\t\tnew_row['similar_artist'] = track['artist']['name']\n",
    "\t\t\t\tnew_row['similar_song'] = f\"{track['name']} by {track['artist']['name']}\"\n",
    "\t\t\t\tnew_rows.append(new_row)\n",
    "\t\telse:\n",
    "\t\t\tnew_row = row.to_dict()  # Copy the original row's data\n",
    "\t\t\tnew_row['song'] = f\"{row['title']} by {row['artist']}\"  # Add the original song column\n",
    "\t\t\tnew_row['similar_title'] = np.nan\n",
    "\t\t\tnew_row['similar_artist'] = np.nan\n",
    "\t\t\tnew_row['similar_song'] = np.nan\n",
    "\t\t\tnew_rows.append(new_row)\n",
    "\n",
    "\t# Create a new dataframe from the new rows\n",
    "\treturn pd.DataFrame(new_rows)\n"
   ]
  },
  {
   "cell_type": "code",
   "execution_count": 38,
   "metadata": {},
   "outputs": [],
   "source": [
    "# Importing large Kaggle dataset\n",
    "data = pd.read_csv(\"data/ds2.csv.zip\",encoding='latin1', nrows=10000)\n",
    "\n",
    "# Last.fm API credentials\n",
    "lastfm_api_key = '340a0195516763a1af37aa4168461814'"
   ]
  },
  {
   "cell_type": "code",
   "execution_count": 42,
   "metadata": {},
   "outputs": [
    {
     "name": "stderr",
     "output_type": "stream",
     "text": [
      "100%|██████████| 100/100 [00:34<00:00,  2.90it/s]\n"
     ]
    }
   ],
   "source": [
    "processed_data = process_similar_songs(data, lastfm_api_key, num_rows=100)"
   ]
  },
  {
   "cell_type": "code",
   "execution_count": 44,
   "metadata": {},
   "outputs": [],
   "source": [
    "processed_data.to_csv(\"data/processed_data.csv\", index=False)"
   ]
  },
  {
   "cell_type": "code",
   "execution_count": null,
   "metadata": {},
   "outputs": [],
   "source": []
  }
 ],
 "metadata": {
  "kernelspec": {
   "display_name": "nlp",
   "language": "python",
   "name": "python3"
  },
  "language_info": {
   "codemirror_mode": {
    "name": "ipython",
    "version": 3
   },
   "file_extension": ".py",
   "mimetype": "text/x-python",
   "name": "python",
   "nbconvert_exporter": "python",
   "pygments_lexer": "ipython3",
   "version": "3.9.21"
  }
 },
 "nbformat": 4,
 "nbformat_minor": 2
}
